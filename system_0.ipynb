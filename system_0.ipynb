{
 "cells": [
  {
   "cell_type": "markdown",
   "metadata": {},
   "source": [
    "## TREC-IS Dataset Procesing:\n",
    "\n",
    "\n",
    ">1. Dataset cleaning, such as stop-words removal and so forth.\n",
    ">\n",
    ">2. Dataset observation, including high imbalance, word cloud.\n",
    ">\n",
    ">3. Data augmentation.\n",
    "\n",
    "\n",
    "<img src=\"image/word_map.png\" width=\"700\">"
   ]
  },
  {
   "cell_type": "markdown",
   "metadata": {},
   "source": [
    "## 1. load dataset"
   ]
  },
  {
   "cell_type": "code",
   "execution_count": 47,
   "metadata": {
    "scrolled": true
   },
   "outputs": [],
   "source": [
    "import pandas as pd\n",
    "import json\n",
    "import codecs\n",
    "import gzip\n",
    "\n",
    "import os\n",
    "file_list = os.listdir('./data')\n",
    "\n",
    "# load dataset.\n",
    "data = []\n",
    "for f in file_list:\n",
    "    file_path = 'data/'+f\n",
    "    if file_path.endswith('.gz'): \n",
    "        with gzip.GzipFile(file_path, 'r') as gz:\n",
    "            for text in gz:\n",
    "                data.append(json.loads(text))\n",
    "    \n",
    "# load labels.\n",
    "labels = []\n",
    "with open('data/TRECIS_2018_2019-labels.json', 'r') as f:\n",
    "    for i in json.load(f):\n",
    "        labels.append(i)"
   ]
  },
  {
   "cell_type": "code",
   "execution_count": 48,
   "metadata": {},
   "outputs": [
    {
     "name": "stdout",
     "output_type": "stream",
     "text": [
      "the size of dataset:  50490\n",
      "the size of labeled dataset:  38478\n"
     ]
    }
   ],
   "source": [
    "# some data are not labeled. \n",
    "print(\"the size of dataset: \",len(data))\n",
    "print(\"the size of labeled dataset: \", len(labels))"
   ]
  },
  {
   "cell_type": "code",
   "execution_count": 49,
   "metadata": {},
   "outputs": [
    {
     "data": {
      "text/plain": [
       "{'eventID': 'joplinTornado2011',\n",
       " 'eventName': '2011 Joplin Tornado',\n",
       " 'eventDescription': \"The 2011 Joplin tornado was a catastrophic EF5-rated multiple-vortex tornado that struck Joplin, Missouri, late in the afternoon of Sunday, May 22, 2011. The user is a response officer in the Missouri command and control center responsible for impact to the state. <a href='https://en.wikipedia.org/wiki/2011_Joplin_tornado' target='_blank'>Wikipedia Page<a>\",\n",
       " 'eventType': 'Unknown',\n",
       " 'postID': '72676276212731904',\n",
       " 'postCategories': ['Factoid', 'Hashtags', 'News'],\n",
       " 'postPriority': 'Low'}"
      ]
     },
     "execution_count": 49,
     "metadata": {},
     "output_type": "execute_result"
    }
   ],
   "source": [
    "labels[0] # 'postID'."
   ]
  },
  {
   "cell_type": "code",
   "execution_count": 50,
   "metadata": {
    "scrolled": true
   },
   "outputs": [
    {
     "name": "stdout",
     "output_type": "stream",
     "text": [
      "id:  230634706436227073\n",
      "content:  Philippine floods worsen as death toll hits 14 in wake of ‘Gener’ http://t.co/gnhkYRS6 #Philippines #national\n"
     ]
    }
   ],
   "source": [
    "print(\"id: \", data[0]['allProperties']['docno'])\n",
    "print(\"content: \", data[0]['allProperties']['content'])"
   ]
  },
  {
   "cell_type": "code",
   "execution_count": 51,
   "metadata": {},
   "outputs": [],
   "source": [
    "# match labels and data.\n",
    "labels_dict = dict()\n",
    "\n",
    "for i, l in enumerate(labels):\n",
    "    labels_dict[l['postID']] = i"
   ]
  },
  {
   "cell_type": "code",
   "execution_count": 52,
   "metadata": {},
   "outputs": [],
   "source": [
    "# construct dataset dataframe.\n",
    "raw_label_dataset = pd.DataFrame(columns=['content', 'categories', 'priority'])\n",
    "raw_unlabel_dataset = pd.DataFrame(columns=['content', 'categories', 'priority'])\n",
    "\n",
    "for doc in data:\n",
    "    doc_id, doc_cont = doc['allProperties']['docno'], doc['allProperties']['content']\n",
    "    if doc_id not in labels_dict: \n",
    "        raw_unlabel_dataset = raw_unlabel_dataset.append({'content': doc_cont, 'categories': None, 'priority': None}, ignore_index=True)\n",
    "    else:\n",
    "        index = labels_dict[doc_id]\n",
    "        raw_label_dataset = raw_label_dataset.append({'content': doc_cont, 'categories': labels[index]['postCategories'], 'priority': labels[index]['postPriority']}, ignore_index=True)\n"
   ]
  },
  {
   "cell_type": "code",
   "execution_count": 53,
   "metadata": {},
   "outputs": [
    {
     "name": "stdout",
     "output_type": "stream",
     "text": [
      "size of label dataset:  37373\n",
      "size of unlabel dataset:  13117\n"
     ]
    }
   ],
   "source": [
    "print(\"size of label dataset: \", len(raw_label_dataset))\n",
    "print(\"size of unlabel dataset: \", len(raw_unlabel_dataset))"
   ]
  },
  {
   "cell_type": "markdown",
   "metadata": {},
   "source": [
    "## 2. data cleaning"
   ]
  },
  {
   "cell_type": "code",
   "execution_count": 54,
   "metadata": {},
   "outputs": [
    {
     "name": "stderr",
     "output_type": "stream",
     "text": [
      "[nltk_data] Downloading package wordnet to\n",
      "[nltk_data]     /Users/zhangyingji/nltk_data...\n",
      "[nltk_data]   Package wordnet is already up-to-date!\n"
     ]
    }
   ],
   "source": [
    "import numpy as np\n",
    "import re\n",
    "import nltk\n",
    "import emoji\n",
    "\n",
    "from nltk.stem import PorterStemmer\n",
    "from nltk.stem.lancaster import LancasterStemmer\n",
    "from nltk import word_tokenize, pos_tag\n",
    "from nltk.stem import WordNetLemmatizer\n",
    "from nltk.tokenize import RegexpTokenizer\n",
    "from tqdm.notebook import tqdm\n",
    "\n",
    "nltk.download('wordnet')\n",
    "\n",
    "stopwords = ['a','in','on','at','and','or', \n",
    "              'to', 'the', 'of', 'an', 'by', \n",
    "              'as', 'is', 'was', 'were', 'been', 'be', \n",
    "              'are','for', 'this', 'that', 'these', 'those', 'you', 'i', 'if',\n",
    "             'it', 'he', 'she', 'we', 'they', 'will', 'have', 'has',\n",
    "              'do', 'did', 'can', 'could', 'who', 'which', 'what',\n",
    "              'but', 'not', 'there', 'no', 'does', 'not', 'so', 've', 'their',\n",
    "             'his', 'her', 'they', 'them', 'from', 'with', 'its', 'rt', 'about']"
   ]
  },
  {
   "cell_type": "code",
   "execution_count": 55,
   "metadata": {},
   "outputs": [],
   "source": [
    "def remove_emoji(text):\n",
    "    return emoji.get_emoji_regexp().sub(u'', text)"
   ]
  },
  {
   "cell_type": "code",
   "execution_count": 56,
   "metadata": {},
   "outputs": [],
   "source": [
    "url_pattern = r'''(?i)\\b((?:https?://|www\\d{0,3}[.]|[a-z0-9.\\-]+[.][a-z]{2,4}/)(?:[^\\s()<>]+|\\(([^\\s()<>]+|(\\([^\\s()<>]+\\)))*\\))+(?:\\(([^\\s()<>]+|(\\([^\\s()<>]+\\)))*\\)|[^\\s`!()\\[\\]{};:'\".,<>?«»“”‘’]))'''\n",
    "username_pattern = r\"@[^\\s]+\"\n",
    "hashtag_pattern = r\"\\B#\\w\\w+\""
   ]
  },
  {
   "cell_type": "code",
   "execution_count": 57,
   "metadata": {},
   "outputs": [],
   "source": [
    "def text_processor(df):\n",
    "    \n",
    "    df_new = pd.DataFrame(columns=['content', 'categories', 'priority'])\n",
    "    for i in tqdm(range(len(df))):\n",
    "        \n",
    "        content, categories, priority = df.loc[i, 'content'], df.loc[i, 'categories'], df.loc[i, 'priority']\n",
    "        \n",
    "        # remove url.\n",
    "        content_url = re.sub(url_pattern, \"\", content)\n",
    "        \n",
    "        # remove @username. \n",
    "        content_username = re.sub(username_pattern, \"\", content_url)\n",
    "    \n",
    "        # remove #hashtag.\n",
    "        content_hashtag = re.sub(hashtag_pattern, \"\", content_username)\n",
    "        \n",
    "        # lower case.\n",
    "        content_lower = content_hashtag.lower()\n",
    "        \n",
    "        # tokenisation.\n",
    "        token_list = RegexpTokenizer(pattern = r\"\\b[A-Za-z][A-Za-z]+\\b\").tokenize(content_lower)\n",
    "        \n",
    "        # split words connected by hyphen.\n",
    "        text = str()\n",
    "        for i in token_list:\n",
    "            text += i.replace(\"-\", \" \")\n",
    "            text += \" \"\n",
    "        token_list = word_tokenize(text)\n",
    "        \n",
    "        # POS.\n",
    "        token_words = pos_tag(token_list)\n",
    "        \n",
    "        # WordNetLemmatizer\n",
    "        words_lematizer = []\n",
    "        wordnet_lematizer = WordNetLemmatizer()\n",
    "        \n",
    "        for word, tag in token_words:\n",
    "            if tag.startswith('NN'):\n",
    "                word_lematizer =  wordnet_lematizer.lemmatize(word, pos='n')  \n",
    "            elif tag.startswith('VB'): \n",
    "                word_lematizer =  wordnet_lematizer.lemmatize(word, pos='v')  \n",
    "            elif tag.startswith('JJ'): \n",
    "                word_lematizer =  wordnet_lematizer.lemmatize(word, pos='a')  \n",
    "            elif tag.startswith('R'): \n",
    "                word_lematizer =  wordnet_lematizer.lemmatize(word, pos='r')\n",
    "            else: \n",
    "                word_lematizer =  wordnet_lematizer.lemmatize(word)\n",
    "            words_lematizer.append(word_lematizer)\n",
    "            \n",
    "        # remove stop words.\n",
    "        cleaned_words = [word for word in words_lematizer if word.lower() not in stopwords]\n",
    "        \n",
    "        # remove punctuation.\n",
    "        characters = [',','’', '\\'','.','DBSCAN', ':', ';', '?', '(', ')', '[', ']', '&', '!', '*', '@', '#', '$', '%','-','...','^','{','}','\"']\n",
    "        words_lists = [word for word in cleaned_words if word not in characters]\n",
    "        text = str()\n",
    "        for w in words_lists:\n",
    "            text+=w\n",
    "            text+=\" \"\n",
    "            \n",
    "        # remove emoji\n",
    "        final_content = remove_emoji(text)\n",
    "        \n",
    "        if len(final_content.strip()) != 0:\n",
    "            df_new = df_new.append({'content': final_content, 'categories': categories, 'priority': priority}, ignore_index=True)\n",
    "        \n",
    "    return df_new\n"
   ]
  },
  {
   "cell_type": "code",
   "execution_count": 58,
   "metadata": {},
   "outputs": [
    {
     "data": {
      "application/vnd.jupyter.widget-view+json": {
       "model_id": "85c8eabdd0014423be6ebfa31a3f35bc",
       "version_major": 2,
       "version_minor": 0
      },
      "text/plain": [
       "HBox(children=(FloatProgress(value=0.0, max=37373.0), HTML(value='')))"
      ]
     },
     "metadata": {},
     "output_type": "display_data"
    },
    {
     "name": "stdout",
     "output_type": "stream",
     "text": [
      "\n"
     ]
    },
    {
     "data": {
      "application/vnd.jupyter.widget-view+json": {
       "model_id": "c16aa05499684ac6a0b0616c6147ebf5",
       "version_major": 2,
       "version_minor": 0
      },
      "text/plain": [
       "HBox(children=(FloatProgress(value=0.0, max=13117.0), HTML(value='')))"
      ]
     },
     "metadata": {},
     "output_type": "display_data"
    },
    {
     "name": "stdout",
     "output_type": "stream",
     "text": [
      "\n"
     ]
    }
   ],
   "source": [
    "new_label_dataset = text_processor(raw_label_dataset)\n",
    "new_unlabel_dataset = text_processor(raw_unlabel_dataset)"
   ]
  },
  {
   "cell_type": "code",
   "execution_count": 59,
   "metadata": {},
   "outputs": [
    {
     "name": "stdout",
     "output_type": "stream",
     "text": [
      "* dataset before cleaning: \n",
      "4 Luzon dams release water; flood warning up: MANILA, Philippines - Four dams in Luzon opened their gates Sunday... http://t.co/kmWDCBFw\n",
      " \n",
      "* dataset after cleaning: \n",
      "luzon dam release water flood warn up manila philippine four dam luzon open gate sunday \n"
     ]
    }
   ],
   "source": [
    "print(\"* dataset before cleaning: \")\n",
    "print(raw_label_dataset.loc[2, 'content'])\n",
    "print(\" \")\n",
    "print(\"* dataset after cleaning: \")\n",
    "print(new_label_dataset.loc[2, 'content'])"
   ]
  },
  {
   "cell_type": "markdown",
   "metadata": {},
   "source": [
    "## 3. dataset distribution ( balance or not )"
   ]
  },
  {
   "cell_type": "code",
   "execution_count": 60,
   "metadata": {},
   "outputs": [],
   "source": [
    "# ccounting the number of each category and priority.\n",
    "\n",
    "cat_dict, prior_dict = dict(), dict()\n",
    "\n",
    "for i in range(len(labels)):\n",
    "    cat, prior = labels[i]['postCategories'], labels[i]['postPriority']\n",
    "    for c in cat:\n",
    "        if c not in cat_dict:\n",
    "            cat_dict[c] = 1\n",
    "        else:\n",
    "            cat_dict[c] += 1\n",
    "    if prior not in prior_dict:\n",
    "        prior_dict[prior] = 1\n",
    "    else:\n",
    "        prior_dict[prior] += 1"
   ]
  },
  {
   "cell_type": "code",
   "execution_count": 61,
   "metadata": {},
   "outputs": [
    {
     "data": {
      "image/png": "[encoded data removed]",
      "text/plain": [
       "<Figure size 1440x576 with 2 Axes>"
      ]
     },
     "metadata": {
      "needs_background": "light"
     },
     "output_type": "display_data"
    }
   ],
   "source": [
    "import matplotlib.pyplot as plt\n",
    "cat, cat_num = list(cat_dict), list(cat_dict.values())\n",
    "prior, prior_num = list(prior_dict), list(prior_dict.values())\n",
    "\n",
    "plt.figure(figsize=(20, 8))\n",
    "\n",
    "plt.subplot(1, 2, 1)\n",
    "plt.barh(cat,cat_num)\n",
    "plt.xlabel(\"num\")\n",
    "plt.ylabel(\"cat\")\n",
    "plt.title(str(len(cat))+\" categories\")\n",
    "plt.subplot(1, 2, 2)\n",
    "plt.bar(prior,prior_num)\n",
    "plt.xlabel(\"prior\")\n",
    "plt.ylabel(\"num\")\n",
    "plt.title(str(len(prior))+\" priority\")\n",
    "plt.show()"
   ]
  },
  {
   "cell_type": "code",
   "execution_count": 62,
   "metadata": {},
   "outputs": [
    {
     "data": {
      "text/plain": [
       "'25 information type for multi-label tweet classification, four priorities for multi-class tweets classification.'"
      ]
     },
     "execution_count": 62,
     "metadata": {},
     "output_type": "execute_result"
    }
   ],
   "source": [
    "\"\"\"25 information type for multi-label tweet classification, four priorities for multi-class tweets classification.\"\"\""
   ]
  },
  {
   "cell_type": "code",
   "execution_count": 63,
   "metadata": {
    "scrolled": true
   },
   "outputs": [],
   "source": [
    "# convert \"categories\" and \"priority\" column to vector\n",
    "# cat_id, prior_id = [i for i in range(len(cat))], [i for i in range(len(prior))]\n",
    "# id_to_cat, id_to_prior = dict(zip(cat, cat_id)), dict(zip(prior, prior_id))\n",
    "\n",
    "# for i in tqdm(range(len(new_label_dataset))):\n",
    "#     temp_cat, temp_prior = new_label_dataset.loc[i, 'categories'], new_label_dataset.loc[i, 'priority']\n",
    "#     vec_cat, vec_prior = np.zeros(len(cat)), np.zeros(len(prior))\n",
    "#     for index in temp_cat: \n",
    "#         vec_cat[id_to_cat[index]] = 1\n",
    "        \n",
    "#     vec_prior[id_to_prior[temp_prior]] = 1\n",
    "#     new_label_dataset.loc[i, 'categories'] = vec_cat\n",
    "#     new_label_dataset.loc[i, 'priority'] = vec_prior\n",
    "#  new_label_dataset[:5]      "
   ]
  },
  {
   "cell_type": "markdown",
   "metadata": {},
   "source": [
    "## 4. word cloud"
   ]
  },
  {
   "cell_type": "code",
   "execution_count": 64,
   "metadata": {},
   "outputs": [],
   "source": [
    "from collections import Counter"
   ]
  },
  {
   "cell_type": "code",
   "execution_count": 65,
   "metadata": {},
   "outputs": [],
   "source": [
    "def extract_ngrams(x_raw, ngram_range=1, token_pattern=r'\\b[A-Za-z][A-Za-z]+\\b', stop_words=[], vocab=set()):\n",
    "    # fill in your code...\n",
    "    pattern = re.compile(token_pattern)\n",
    "    # 1. tokenise all texts into a list of unigrams.\n",
    "    x_raw = pattern.findall(x_raw.lower())\n",
    "    # 2. remove stop words.\n",
    "    x_new = [i for i in x_raw if i not in stop_words]\n",
    "    # 3. vocab.\n",
    "    if len(vocab)!= 0:\n",
    "        x = [i for i in x_new if i in vocab]\n",
    "    else:\n",
    "        x = x_new\n",
    "     \n",
    "    return x"
   ]
  },
  {
   "cell_type": "code",
   "execution_count": 66,
   "metadata": {},
   "outputs": [],
   "source": [
    "def get_vocab(X_raw, ngram_range=1, token_pattern=r'\\b[A-Za-z][A-Za-z]+\\b', min_df=0, keep_topN=0, stop_words=[]):\n",
    "\n",
    "    df, unigram_counts = dict(), dict()\n",
    "    \n",
    "    # calculate df and tf.\n",
    "    for l in X_raw:\n",
    "        doc_list = extract_ngrams(l, ngram_range, token_pattern, stop_words, set()) \n",
    "        # key and counts have the same keys.\n",
    "        key = list(set(doc_list))\n",
    "        counts = Counter(doc_list) \n",
    "        for k in key:\n",
    "            # df.\n",
    "            df[k] = (df[k]+1) if k in df else 1\n",
    "            # tf.\n",
    "            unigram_counts[k] = (unigram_counts[k]+counts[k]) if k in unigram_counts else counts[k]   \n",
    "            \n",
    "    \n",
    "    # choose unigrams that are bigger than min_df.\n",
    "    df_key, df_value = np.array(list(df.keys())), np.array(list(df.values()))\n",
    "    vocab = set(df_key[df_value > min_df])\n",
    "    \n",
    "    # update df & tf using vocab.\n",
    "    for v in df_key:\n",
    "        if v not in vocab:\n",
    "            unigram_counts.pop(v)\n",
    "            df.pop(v)\n",
    "    \n",
    "    # sort unigram_counts.\n",
    "    unigram_counts = dict(sorted(unigram_counts.items(), key=lambda x:x[1], reverse=True))\n",
    "    \n",
    "    # choose top n.\n",
    "    if (keep_topN != 0) and (keep_topN < len(vocab)):\n",
    "        unigram_counts = dict(zip(list(unigram_counts.keys())[:keep_topN], list(unigram_counts.values())[:keep_topN]))\n",
    "        \n",
    "    # update vocab.\n",
    "    vocab = set(unigram_counts.keys())\n",
    "    \n",
    "    # update df.\n",
    "    df_key = list(df.keys())\n",
    "    for v in df_key:\n",
    "        if v not in vocab:\n",
    "            df.pop(v)\n",
    "    \n",
    "    return vocab, df, unigram_counts"
   ]
  },
  {
   "cell_type": "code",
   "execution_count": 67,
   "metadata": {},
   "outputs": [
    {
     "name": "stdout",
     "output_type": "stream",
     "text": [
      "size of vocab:  5000\n",
      "Top 10 most common words:  [('shoot', 4139), ('earthquake', 3141), ('people', 2943), ('philippine', 2648), ('school', 2646), ('all', 2442), ('nepal', 2414), ('flood', 2372), ('fire', 2300), ('my', 2243)]\n"
     ]
    }
   ],
   "source": [
    "dataset = list(new_label_dataset['content'])\n",
    "vocab, df, unigram_counts = get_vocab(dataset, stop_words=stopwords, keep_topN=5000)\n",
    "\n",
    "print(\"size of vocab: \", len(vocab))\n",
    "print(\"Top 10 most common words: \", list(unigram_counts.items())[:10])"
   ]
  },
  {
   "cell_type": "code",
   "execution_count": 68,
   "metadata": {},
   "outputs": [
    {
     "data": {
      "image/png": "[encoded data removed]",
      "text/plain": [
       "<Figure size 1296x576 with 1 Axes>"
      ]
     },
     "metadata": {
      "needs_background": "light"
     },
     "output_type": "display_data"
    }
   ],
   "source": [
    "from PIL import Image\n",
    "from wordcloud import WordCloud\n",
    "import matplotlib.pyplot as plt\n",
    "import imageio\n",
    "\n",
    "mk = imageio.imread(\"image/usa.png\")\n",
    "\n",
    "plt.figure(figsize=(18, 8))\n",
    "wc = WordCloud(background_color=\"white\",max_font_size=70, \n",
    "               max_words=300,mask=mk,scale=15, collocations=False, colormap=\"RdBu_r\").generate_from_frequencies(unigram_counts)\n",
    "\n",
    "plt.axis('off')\n",
    "plt.tight_layout(pad=0)\n",
    "plt.imshow(wc)\n",
    "plt.savefig('image/word_map.png')"
   ]
  },
  {
   "cell_type": "code",
   "execution_count": 69,
   "metadata": {},
   "outputs": [],
   "source": [
    "# new_label_dataset['categories'] = new_label_dataset['categories'].apply(lambda x:literal_eval(x))\n",
    "# new_label_dataset['categories'] = new_label_dataset['categories'].apply(lambda x:' '.join(x))\n",
    "\n",
    "# new_unlabel_dataset['categories'] = new_unlabel_dataset['categories'].apply(lambda x:literal_eval(x))\n",
    "# new_unlabel_dataset['categories'] = new_unlabel_dataset['categories'].apply(lambda x:' '.join(x))"
   ]
  },
  {
   "cell_type": "code",
   "execution_count": 70,
   "metadata": {},
   "outputs": [],
   "source": [
    "# save processed dataset to csv.\n",
    "new_label_dataset.to_csv('pre-processed data/new_label_dataset.csv')\n",
    "new_unlabel_dataset.to_csv('pre-processed data/new_unlabel_dataset.csv')"
   ]
  },
  {
   "cell_type": "markdown",
   "metadata": {},
   "source": [
    "## 5. Data Augmentation"
   ]
  },
  {
   "cell_type": "markdown",
   "metadata": {},
   "source": [
    "### 5.1 \"Priority\""
   ]
  },
  {
   "cell_type": "code",
   "execution_count": 71,
   "metadata": {},
   "outputs": [],
   "source": [
    "# data augmentation - synonym replacement [low = 27477, critical = 423, medium prior = 6195, high = 4382]\n",
    "\n",
    "# critical, medium prior and high shoud be increased to 9000.\n",
    "from nltk.corpus import wordnet\n",
    "\n",
    "dataset_other = new_label_dataset[new_label_dataset['priority'] != 'Low']\n",
    "\n",
    "dataset_critical = dataset_other[dataset_other['priority'] == 'Critical'][['priority', 'content']]\n",
    "dataset_medium = dataset_other[dataset_other['priority'] == 'Medium'][['priority', 'content']]\n",
    "dataset_high = dataset_other[dataset_other['priority'] == 'High'][['priority', 'content']]\n",
    "\n",
    "dataset_critical.to_csv(\"data-augmentation/dataset_critical.tsv\", sep='\\t', header=False, index=False) # 21\n",
    "dataset_medium.to_csv(\"data-augmentation/dataset_medium.tsv\", sep='\\t', header=False, index=False) # 1\n",
    "dataset_high.to_csv(\"data-augmentation/dataset_high.tsv\", sep='\\t', header=False, index=False) # 2"
   ]
  },
  {
   "cell_type": "code",
   "execution_count": 72,
   "metadata": {},
   "outputs": [],
   "source": [
    "# Easy Data Augmentation (EDA) \n",
    "# python code/augment.py --input=sst2_train.txt --output=sst2_augmented.txt --num_aug=16 --alpha=0.05"
   ]
  },
  {
   "cell_type": "code",
   "execution_count": 73,
   "metadata": {},
   "outputs": [
    {
     "name": "stdout",
     "output_type": "stream",
     "text": [
      "dataset with label 'critical': 9174\n",
      "dataset with label 'medium': 11812\n",
      "dataset with label 'high': 11589\n",
      "dataset with label 'low':  10187\n"
     ]
    }
   ],
   "source": [
    "# load dataset after data augmentation.\n",
    "\n",
    "dataset_aug_critical = pd.read_csv(\"pre-processed data/data_aug_critical.tsv\", sep='\\t', header=None)\n",
    "dataset_aug_medium = pd.read_csv(\"pre-processed data/data_aug_medium.tsv\", sep='\\t', header=None)\n",
    "dataset_aug_high = pd.read_csv(\"pre-processed data/data_aug_high.tsv\", sep='\\t', header=None)\n",
    "\n",
    "dataset_aug_temp = pd.concat([dataset_aug_critical, dataset_aug_medium])\n",
    "dataset_aug_other = pd.concat([dataset_aug_temp, dataset_aug_high])\n",
    "\n",
    "print(\"dataset with label 'critical':\", len(dataset_aug_critical))\n",
    "print(\"dataset with label 'medium':\", len(dataset_aug_medium))\n",
    "print(\"dataset with label 'high':\", len(dataset_aug_high))\n",
    "print(\"dataset with label 'low': \", len(new_label_dataset[new_label_dataset['priority'] != 'Low']))"
   ]
  },
  {
   "cell_type": "code",
   "execution_count": 74,
   "metadata": {},
   "outputs": [
    {
     "data": {
      "image/png": "[encoded data removed]",
      "text/plain": [
       "<Figure size 360x360 with 1 Axes>"
      ]
     },
     "metadata": {
      "needs_background": "light"
     },
     "output_type": "display_data"
    }
   ],
   "source": [
    "prior_1, prior_num_1 = list(prior_dict), [len(new_label_dataset[new_label_dataset['priority'] != 'Low']), len(dataset_aug_critical), len(dataset_aug_medium), len(dataset_aug_high), 0]\n",
    "\n",
    "plt.figure(figsize=(5, 5))\n",
    "\n",
    "plt.bar(prior_1,prior_num_1)\n",
    "plt.xlabel(\"prior\")\n",
    "plt.ylabel(\"num\")\n",
    "plt.title(str(len(prior_1))+\" priority after data augmentation\")\n",
    "plt.show()"
   ]
  },
  {
   "cell_type": "code",
   "execution_count": 75,
   "metadata": {},
   "outputs": [
    {
     "name": "stdout",
     "output_type": "stream",
     "text": [
      "new dataset:  42762\n"
     ]
    }
   ],
   "source": [
    "dataset_aug_other.rename(columns = {0: \"priority\", 1: \"content\"}, inplace=True)\n",
    "\n",
    "# concat them together.\n",
    "dataset_aug_priority = pd.concat([new_label_dataset[new_label_dataset['priority'] != 'Low'][['priority', 'content']], dataset_aug_other])\n",
    "\n",
    "print(\"new dataset: \", len(dataset_aug_priority))"
   ]
  },
  {
   "cell_type": "code",
   "execution_count": 76,
   "metadata": {},
   "outputs": [],
   "source": [
    "dataset_aug_priority.to_csv(\"pre-processed data/dataset_aug_priority.csv\", index=False)"
   ]
  },
  {
   "cell_type": "markdown",
   "metadata": {},
   "source": [
    "### 5.2 \"categories\"\n",
    "\n",
    "increasing the amount of data that only includes uncommon labels. Those uncommon labels (<1000) include 'volunteer', 'goodServices' and others. "
   ]
  },
  {
   "cell_type": "code",
   "execution_count": 77,
   "metadata": {},
   "outputs": [
    {
     "data": {
      "text/html": [
       "<div>\n",
       "<style scoped>\n",
       "    .dataframe tbody tr th:only-of-type {\n",
       "        vertical-align: middle;\n",
       "    }\n",
       "\n",
       "    .dataframe tbody tr th {\n",
       "        vertical-align: top;\n",
       "    }\n",
       "\n",
       "    .dataframe thead th {\n",
       "        text-align: right;\n",
       "    }\n",
       "</style>\n",
       "<table border=\"1\" class=\"dataframe\">\n",
       "  <thead>\n",
       "    <tr style=\"text-align: right;\">\n",
       "      <th></th>\n",
       "      <th>content</th>\n",
       "      <th>categories</th>\n",
       "      <th>priority</th>\n",
       "    </tr>\n",
       "  </thead>\n",
       "  <tbody>\n",
       "    <tr>\n",
       "      <th>0</th>\n",
       "      <td>philippine flood worsen death toll hit wake ge...</td>\n",
       "      <td>[ThirdPartyObservation, Factoid, News]</td>\n",
       "      <td>Low</td>\n",
       "    </tr>\n",
       "    <tr>\n",
       "      <th>1</th>\n",
       "      <td>philippine flood fatality hit</td>\n",
       "      <td>[ThirdPartyObservation, Factoid, News]</td>\n",
       "      <td>Low</td>\n",
       "    </tr>\n",
       "    <tr>\n",
       "      <th>2</th>\n",
       "      <td>luzon dam release water flood warn up manila p...</td>\n",
       "      <td>[ThirdPartyObservation, Factoid, News]</td>\n",
       "      <td>Low</td>\n",
       "    </tr>\n",
       "  </tbody>\n",
       "</table>\n",
       "</div>"
      ],
      "text/plain": [
       "                                             content  \\\n",
       "0  philippine flood worsen death toll hit wake ge...   \n",
       "1                     philippine flood fatality hit    \n",
       "2  luzon dam release water flood warn up manila p...   \n",
       "\n",
       "                               categories priority  \n",
       "0  [ThirdPartyObservation, Factoid, News]      Low  \n",
       "1  [ThirdPartyObservation, Factoid, News]      Low  \n",
       "2  [ThirdPartyObservation, Factoid, News]      Low  "
      ]
     },
     "execution_count": 77,
     "metadata": {},
     "output_type": "execute_result"
    }
   ],
   "source": [
    "new_label_dataset[:3]"
   ]
  },
  {
   "cell_type": "code",
   "execution_count": 78,
   "metadata": {},
   "outputs": [],
   "source": [
    "# sort label according to their occupation.\n",
    "\n",
    "# firstly, increase labels that are less than 1000.\n",
    "sort_cat_top_8 = dict(sorted(cat_dict.items(), key=lambda x: x[1], reverse=False)[:8])\n",
    "\n",
    "cat_index = dict(zip(sort_cat_top_8, [i for i in range(25)]))"
   ]
  },
  {
   "cell_type": "code",
   "execution_count": 79,
   "metadata": {},
   "outputs": [
    {
     "data": {
      "text/plain": [
       "{'Volunteer': 167,\n",
       " 'GoodsServices': 181,\n",
       " 'CleanUp': 191,\n",
       " 'InformationWanted': 290,\n",
       " 'SearchAndRescue': 316,\n",
       " 'MovePeople': 317,\n",
       " 'NewSubEvent': 800,\n",
       " 'Donations': 992}"
      ]
     },
     "execution_count": 79,
     "metadata": {},
     "output_type": "execute_result"
    }
   ],
   "source": [
    "sort_cat_top_8"
   ]
  },
  {
   "cell_type": "code",
   "execution_count": 80,
   "metadata": {},
   "outputs": [
    {
     "name": "stdout",
     "output_type": "stream",
     "text": [
      "num:  532\n"
     ]
    }
   ],
   "source": [
    "new_dataset_top_8 = pd.DataFrame(columns=['categories', 'content'])\n",
    "for i in range(len(new_label_dataset)):\n",
    "    state = True\n",
    "    for c in new_label_dataset.loc[i, 'categories']:\n",
    "        if c not in sort_cat_top_8:\n",
    "            state = False\n",
    "    if state:\n",
    "        new_dataset_top_8 = new_dataset_top_8.append({'categories':new_label_dataset.loc[i, 'categories'], \n",
    "                                                      'content': new_label_dataset.loc[i, 'content']}, ignore_index=True)     \n",
    "\n",
    "print(\"num: \", len(new_dataset_top_8))"
   ]
  },
  {
   "cell_type": "code",
   "execution_count": 81,
   "metadata": {},
   "outputs": [],
   "source": [
    "new_dataset_top_8.to_csv(\"data-augmentation/dataset_top_8.tsv\", sep='\\t', header=False, index=False)"
   ]
  },
  {
   "cell_type": "code",
   "execution_count": 82,
   "metadata": {},
   "outputs": [
    {
     "data": {
      "text/html": [
       "<div>\n",
       "<style scoped>\n",
       "    .dataframe tbody tr th:only-of-type {\n",
       "        vertical-align: middle;\n",
       "    }\n",
       "\n",
       "    .dataframe tbody tr th {\n",
       "        vertical-align: top;\n",
       "    }\n",
       "\n",
       "    .dataframe thead th {\n",
       "        text-align: right;\n",
       "    }\n",
       "</style>\n",
       "<table border=\"1\" class=\"dataframe\">\n",
       "  <thead>\n",
       "    <tr style=\"text-align: right;\">\n",
       "      <th></th>\n",
       "      <th>categories</th>\n",
       "      <th>content</th>\n",
       "    </tr>\n",
       "  </thead>\n",
       "  <tbody>\n",
       "    <tr>\n",
       "      <th>0</th>\n",
       "      <td>[SearchAndRescue]</td>\n",
       "      <td>rescue need romualdez st cor kalentong house b...</td>\n",
       "    </tr>\n",
       "    <tr>\n",
       "      <th>1</th>\n",
       "      <td>[GoodsServices, SearchAndRescue]</td>\n",
       "      <td>ust hospital generator already die</td>\n",
       "    </tr>\n",
       "    <tr>\n",
       "      <th>2</th>\n",
       "      <td>[GoodsServices, Donations]</td>\n",
       "      <td>pls remember ateneo h kitchen cook food cook f...</td>\n",
       "    </tr>\n",
       "    <tr>\n",
       "      <th>3</th>\n",
       "      <td>[Volunteer, Donations]</td>\n",
       "      <td>ua amp bea catalyst use donation please check ...</td>\n",
       "    </tr>\n",
       "    <tr>\n",
       "      <th>4</th>\n",
       "      <td>[GoodsServices, Donations]</td>\n",
       "      <td>more medicine plastic box need ua amp please d...</td>\n",
       "    </tr>\n",
       "    <tr>\n",
       "      <th>5</th>\n",
       "      <td>[Volunteer]</td>\n",
       "      <td>fyi prepare second deployment volunteer volunt...</td>\n",
       "    </tr>\n",
       "    <tr>\n",
       "      <th>6</th>\n",
       "      <td>[Donations]</td>\n",
       "      <td>feed program bgy silangan qc ongoing hot arroz...</td>\n",
       "    </tr>\n",
       "    <tr>\n",
       "      <th>7</th>\n",
       "      <td>[InformationWanted]</td>\n",
       "      <td>live webcam</td>\n",
       "    </tr>\n",
       "    <tr>\n",
       "      <th>8</th>\n",
       "      <td>[Donations]</td>\n",
       "      <td>early now make ur donation already prepare dis...</td>\n",
       "    </tr>\n",
       "    <tr>\n",
       "      <th>9</th>\n",
       "      <td>[Volunteer]</td>\n",
       "      <td>aid call volunteer</td>\n",
       "    </tr>\n",
       "  </tbody>\n",
       "</table>\n",
       "</div>"
      ],
      "text/plain": [
       "                         categories  \\\n",
       "0                 [SearchAndRescue]   \n",
       "1  [GoodsServices, SearchAndRescue]   \n",
       "2        [GoodsServices, Donations]   \n",
       "3            [Volunteer, Donations]   \n",
       "4        [GoodsServices, Donations]   \n",
       "5                       [Volunteer]   \n",
       "6                       [Donations]   \n",
       "7               [InformationWanted]   \n",
       "8                       [Donations]   \n",
       "9                       [Volunteer]   \n",
       "\n",
       "                                             content  \n",
       "0  rescue need romualdez st cor kalentong house b...  \n",
       "1                ust hospital generator already die   \n",
       "2  pls remember ateneo h kitchen cook food cook f...  \n",
       "3  ua amp bea catalyst use donation please check ...  \n",
       "4  more medicine plastic box need ua amp please d...  \n",
       "5  fyi prepare second deployment volunteer volunt...  \n",
       "6  feed program bgy silangan qc ongoing hot arroz...  \n",
       "7                                       live webcam   \n",
       "8  early now make ur donation already prepare dis...  \n",
       "9                                aid call volunteer   "
      ]
     },
     "execution_count": 82,
     "metadata": {},
     "output_type": "execute_result"
    }
   ],
   "source": [
    "new_dataset_top_8[:10]"
   ]
  },
  {
   "cell_type": "code",
   "execution_count": 83,
   "metadata": {},
   "outputs": [
    {
     "name": "stdout",
     "output_type": "stream",
     "text": [
      "num:  16492\n"
     ]
    }
   ],
   "source": [
    "dataset_aug_top_8 = pd.read_csv(\"pre-processed data/dataset_aug_top_8.tsv\", sep='\\t', header=None, names=['categories', 'content'])\n",
    "\n",
    "print(\"num: \", len(dataset_aug_top_8))"
   ]
  },
  {
   "cell_type": "code",
   "execution_count": 84,
   "metadata": {},
   "outputs": [
    {
     "name": "stdout",
     "output_type": "stream",
     "text": [
      "new size:  53785\n"
     ]
    },
    {
     "data": {
      "text/html": [
       "<div>\n",
       "<style scoped>\n",
       "    .dataframe tbody tr th:only-of-type {\n",
       "        vertical-align: middle;\n",
       "    }\n",
       "\n",
       "    .dataframe tbody tr th {\n",
       "        vertical-align: top;\n",
       "    }\n",
       "\n",
       "    .dataframe thead th {\n",
       "        text-align: right;\n",
       "    }\n",
       "</style>\n",
       "<table border=\"1\" class=\"dataframe\">\n",
       "  <thead>\n",
       "    <tr style=\"text-align: right;\">\n",
       "      <th></th>\n",
       "      <th>content</th>\n",
       "      <th>categories</th>\n",
       "    </tr>\n",
       "  </thead>\n",
       "  <tbody>\n",
       "    <tr>\n",
       "      <th>0</th>\n",
       "      <td>philippine flood worsen death toll hit wake ge...</td>\n",
       "      <td>[ThirdPartyObservation, Factoid, News]</td>\n",
       "    </tr>\n",
       "    <tr>\n",
       "      <th>1</th>\n",
       "      <td>philippine flood fatality hit</td>\n",
       "      <td>[ThirdPartyObservation, Factoid, News]</td>\n",
       "    </tr>\n",
       "    <tr>\n",
       "      <th>2</th>\n",
       "      <td>luzon dam release water flood warn up manila p...</td>\n",
       "      <td>[ThirdPartyObservation, Factoid, News]</td>\n",
       "    </tr>\n",
       "    <tr>\n",
       "      <th>3</th>\n",
       "      <td>pagasa advisory yellow warning metro manila oc...</td>\n",
       "      <td>[ThirdPartyObservation, Factoid, News]</td>\n",
       "    </tr>\n",
       "    <tr>\n",
       "      <th>4</th>\n",
       "      <td>pagasa advisory green warning metro manila mod...</td>\n",
       "      <td>[ThirdPartyObservation, News]</td>\n",
       "    </tr>\n",
       "    <tr>\n",
       "      <th>5</th>\n",
       "      <td>anc pagasa advisory green warning metro manila...</td>\n",
       "      <td>[ThirdPartyObservation, News]</td>\n",
       "    </tr>\n",
       "    <tr>\n",
       "      <th>6</th>\n",
       "      <td>pagasa advisory green warning metro manila hea...</td>\n",
       "      <td>[ThirdPartyObservation, News]</td>\n",
       "    </tr>\n",
       "    <tr>\n",
       "      <th>7</th>\n",
       "      <td>pagasa advisory red warning metro manila heavy...</td>\n",
       "      <td>[ThirdPartyObservation, EmergingThreats, News]</td>\n",
       "    </tr>\n",
       "    <tr>\n",
       "      <th>8</th>\n",
       "      <td>pagasa advisory red warning metro manila heavy...</td>\n",
       "      <td>[ThirdPartyObservation, EmergingThreats, News]</td>\n",
       "    </tr>\n",
       "    <tr>\n",
       "      <th>9</th>\n",
       "      <td>flood end up bang up my manila badly consider ...</td>\n",
       "      <td>[ThirdPartyObservation, Advice]</td>\n",
       "    </tr>\n",
       "  </tbody>\n",
       "</table>\n",
       "</div>"
      ],
      "text/plain": [
       "                                             content  \\\n",
       "0  philippine flood worsen death toll hit wake ge...   \n",
       "1                     philippine flood fatality hit    \n",
       "2  luzon dam release water flood warn up manila p...   \n",
       "3  pagasa advisory yellow warning metro manila oc...   \n",
       "4  pagasa advisory green warning metro manila mod...   \n",
       "5  anc pagasa advisory green warning metro manila...   \n",
       "6  pagasa advisory green warning metro manila hea...   \n",
       "7  pagasa advisory red warning metro manila heavy...   \n",
       "8  pagasa advisory red warning metro manila heavy...   \n",
       "9  flood end up bang up my manila badly consider ...   \n",
       "\n",
       "                                       categories  \n",
       "0          [ThirdPartyObservation, Factoid, News]  \n",
       "1          [ThirdPartyObservation, Factoid, News]  \n",
       "2          [ThirdPartyObservation, Factoid, News]  \n",
       "3          [ThirdPartyObservation, Factoid, News]  \n",
       "4                   [ThirdPartyObservation, News]  \n",
       "5                   [ThirdPartyObservation, News]  \n",
       "6                   [ThirdPartyObservation, News]  \n",
       "7  [ThirdPartyObservation, EmergingThreats, News]  \n",
       "8  [ThirdPartyObservation, EmergingThreats, News]  \n",
       "9                 [ThirdPartyObservation, Advice]  "
      ]
     },
     "execution_count": 84,
     "metadata": {},
     "output_type": "execute_result"
    }
   ],
   "source": [
    "dataset_aug_cat = pd.concat([new_label_dataset[['content', 'categories']], dataset_aug_top_8[['content', 'categories']]], sort=False)\n",
    "dataset_aug_cat = dataset_aug_cat.reset_index(drop=True)\n",
    "print(\"new size: \", len(dataset_aug_cat))\n",
    "\n",
    "dataset_aug_cat[:10]"
   ]
  },
  {
   "cell_type": "code",
   "execution_count": 85,
   "metadata": {},
   "outputs": [],
   "source": [
    "import ast\n",
    "new_cat_dict = dict(zip(cat, [0 for _ in range(25)]))\n",
    "for i in range(len(dataset_aug_cat)):\n",
    "    inf = dataset_aug_cat.loc[i, 'categories']\n",
    "    if type(inf) == str:\n",
    "        inf = ast.literal_eval(inf)\n",
    "    for i in inf:\n",
    "        new_cat_dict[i] += 1"
   ]
  },
  {
   "cell_type": "code",
   "execution_count": 86,
   "metadata": {},
   "outputs": [
    {
     "data": {
      "text/plain": [
       "{'Factoid': 6707,\n",
       " 'Hashtags': 9880,\n",
       " 'News': 9652,\n",
       " 'ServiceAvailable': 1375,\n",
       " 'Official': 1537,\n",
       " 'Sentiment': 9162,\n",
       " 'Irrelevant': 8603,\n",
       " 'ThirdPartyObservation': 6148,\n",
       " 'Discussion': 3038,\n",
       " 'SearchAndRescue': 2098,\n",
       " 'NewSubEvent': 2762,\n",
       " 'Donations': 6849,\n",
       " 'FirstPartyObservation': 4500,\n",
       " 'MovePeople': 1283,\n",
       " 'EmergingThreats': 1947,\n",
       " 'MultimediaShare': 9077,\n",
       " 'Advice': 2026,\n",
       " 'Weather': 2588,\n",
       " 'Volunteer': 909,\n",
       " 'CleanUp': 315,\n",
       " 'GoodsServices': 1333,\n",
       " 'InformationWanted': 2863,\n",
       " 'OriginalEvent': 3374,\n",
       " 'ContextualInformation': 1872,\n",
       " 'Location': 6825}"
      ]
     },
     "execution_count": 86,
     "metadata": {},
     "output_type": "execute_result"
    }
   ],
   "source": [
    "new_cat_dict"
   ]
  },
  {
   "cell_type": "code",
   "execution_count": 87,
   "metadata": {},
   "outputs": [
    {
     "data": {
      "image/png": "[encoded data removed]",
      "text/plain": [
       "<Figure size 576x576 with 1 Axes>"
      ]
     },
     "metadata": {
      "needs_background": "light"
     },
     "output_type": "display_data"
    }
   ],
   "source": [
    "import matplotlib.pyplot as plt\n",
    "cat_1, cat_num_1 = list(new_cat_dict), list(new_cat_dict.values())\n",
    "\n",
    "plt.figure(figsize=(8, 8))\n",
    "plt.barh(cat_1,cat_num_1)\n",
    "plt.xlabel(\"num\")\n",
    "plt.ylabel(\"cat\")\n",
    "plt.title(str(len(cat))+\" categories\")\n",
    "plt.show()"
   ]
  },
  {
   "cell_type": "code",
   "execution_count": 88,
   "metadata": {},
   "outputs": [],
   "source": [
    "dataset_aug_cat.to_csv(\"pre-processed data/dataset_aug_cat.csv\", index=False)"
   ]
  },
  {
   "cell_type": "code",
   "execution_count": 89,
   "metadata": {},
   "outputs": [],
   "source": [
    "# inf_matrix = np.zeros(25*25).reshape(25, 25)\n",
    "\n",
    "# inf_matrix.shape"
   ]
  },
  {
   "cell_type": "code",
   "execution_count": 90,
   "metadata": {},
   "outputs": [],
   "source": [
    "# # increasing.\n",
    "# for i in range(len(new_label_dataset)):\n",
    "#     cat_inf = new_label_dataset.loc[i, 'categories']\n",
    "#     for x in cat_inf:\n",
    "#         row = cat_index[x]\n",
    "#         for y in cat_inf:\n",
    "#             col = cat_index[y]\n",
    "#             if col != row:\n",
    "#                 inf_matrix[row, col] += 1"
   ]
  },
  {
   "cell_type": "code",
   "execution_count": 91,
   "metadata": {
    "scrolled": false
   },
   "outputs": [],
   "source": [
    "# # check the top 6 smallest categories.\n",
    "# sort_cat_dict = dict(sorted(cat_dict.items(), key=lambda x: x[1], reverse=False)[:6])\n",
    "\n",
    "# # red means bigger amount of tweets' label.\n",
    "# color = ['b' for i in range(12)] + ['r' for i in range(13)]\n",
    "\n",
    "# plt.figure(figsize=(25, 20))\n",
    "# for i, cd in enumerate(sort_cat_dict):\n",
    "#     plt.subplot(3, 2, i+1)\n",
    "#     index = cat_index[cd]\n",
    "#     plt.barh([i for i in cat_index], inf_matrix[index, :], color=color)\n",
    "#     plt.title(\"Label: \"+str(cd)+\" , num: \"+str(cat_dict[cd]))\n",
    "# plt.show()"
   ]
  },
  {
   "cell_type": "code",
   "execution_count": 92,
   "metadata": {},
   "outputs": [],
   "source": [
    "# to be continue ..."
   ]
  },
  {
   "cell_type": "code",
   "execution_count": null,
   "metadata": {},
   "outputs": [],
   "source": []
  }
 ],
 "metadata": {
  "kernelspec": {
   "display_name": "Python 3",
   "language": "python",
   "name": "python3"
  },
  "language_info": {
   "codemirror_mode": {
    "name": "ipython",
    "version": 3
   },
   "file_extension": ".py",
   "mimetype": "text/x-python",
   "name": "python",
   "nbconvert_exporter": "python",
   "pygments_lexer": "ipython3",
   "version": "3.7.3"
  }
 },
 "nbformat": 4,
 "nbformat_minor": 2
}
