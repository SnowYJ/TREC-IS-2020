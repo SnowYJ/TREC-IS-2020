{
 "cells": [
  {
   "cell_type": "markdown",
   "metadata": {},
   "source": [
    "### 1. load dataset"
   ]
  },
  {
   "cell_type": "code",
   "execution_count": 1,
   "metadata": {
    "scrolled": true
   },
   "outputs": [],
   "source": [
    "import pandas as pd\n",
    "import json\n",
    "import codecs\n",
    "import gzip\n",
    "\n",
    "import os\n",
    "file_list = os.listdir('./data')\n",
    "\n",
    "# load dataset.\n",
    "data = []\n",
    "for f in file_list:\n",
    "    file_path = 'data/'+f\n",
    "    if file_path.endswith('.gz'): \n",
    "        with gzip.GzipFile(file_path, 'r') as gz:\n",
    "            for text in gz:\n",
    "                data.append(json.loads(text))\n",
    "    \n",
    "# load labels.\n",
    "labels = []\n",
    "with open('TRECIS_2018_2019-labels.json', 'r') as f:\n",
    "    for i in json.load(f):\n",
    "        labels.append(i)"
   ]
  },
  {
   "cell_type": "code",
   "execution_count": 2,
   "metadata": {},
   "outputs": [
    {
     "name": "stdout",
     "output_type": "stream",
     "text": [
      "the size of dataset:  50490\n",
      "the size of labeled dataset:  38478\n"
     ]
    }
   ],
   "source": [
    "# some data are not labeled. \n",
    "print(\"the size of dataset: \",len(data))\n",
    "print(\"the size of labeled dataset: \", len(labels))"
   ]
  },
  {
   "cell_type": "code",
   "execution_count": 3,
   "metadata": {},
   "outputs": [
    {
     "data": {
      "text/plain": [
       "{'eventID': 'joplinTornado2011',\n",
       " 'eventName': '2011 Joplin Tornado',\n",
       " 'eventDescription': \"The 2011 Joplin tornado was a catastrophic EF5-rated multiple-vortex tornado that struck Joplin, Missouri, late in the afternoon of Sunday, May 22, 2011. The user is a response officer in the Missouri command and control center responsible for impact to the state. <a href='https://en.wikipedia.org/wiki/2011_Joplin_tornado' target='_blank'>Wikipedia Page<a>\",\n",
       " 'eventType': 'Unknown',\n",
       " 'postID': '72676276212731904',\n",
       " 'postCategories': ['Factoid', 'Hashtags', 'News'],\n",
       " 'postPriority': 'Low'}"
      ]
     },
     "execution_count": 3,
     "metadata": {},
     "output_type": "execute_result"
    }
   ],
   "source": [
    "labels[0] # 'postID'."
   ]
  },
  {
   "cell_type": "code",
   "execution_count": 4,
   "metadata": {
    "scrolled": true
   },
   "outputs": [
    {
     "name": "stdout",
     "output_type": "stream",
     "text": [
      "id:  230634706436227073\n",
      "content:  Philippine floods worsen as death toll hits 14 in wake of ‘Gener’ http://t.co/gnhkYRS6 #Philippines #national\n"
     ]
    }
   ],
   "source": [
    "print(\"id: \", data[0]['allProperties']['docno'])\n",
    "print(\"content: \", data[0]['allProperties']['content'])"
   ]
  },
  {
   "cell_type": "code",
   "execution_count": 5,
   "metadata": {},
   "outputs": [],
   "source": [
    "# match labels and data.\n",
    "labels_dict = dict()\n",
    "\n",
    "for i, l in enumerate(labels):\n",
    "    labels_dict[l['postID']] = i"
   ]
  },
  {
   "cell_type": "code",
   "execution_count": 6,
   "metadata": {},
   "outputs": [
    {
     "data": {
      "text/html": [
       "<div>\n",
       "<style scoped>\n",
       "    .dataframe tbody tr th:only-of-type {\n",
       "        vertical-align: middle;\n",
       "    }\n",
       "\n",
       "    .dataframe tbody tr th {\n",
       "        vertical-align: top;\n",
       "    }\n",
       "\n",
       "    .dataframe thead th {\n",
       "        text-align: right;\n",
       "    }\n",
       "</style>\n",
       "<table border=\"1\" class=\"dataframe\">\n",
       "  <thead>\n",
       "    <tr style=\"text-align: right;\">\n",
       "      <th></th>\n",
       "      <th>content</th>\n",
       "      <th>categories</th>\n",
       "      <th>priority</th>\n",
       "    </tr>\n",
       "  </thead>\n",
       "  <tbody>\n",
       "    <tr>\n",
       "      <th>0</th>\n",
       "      <td>Philippine floods worsen as death toll hits 14...</td>\n",
       "      <td>[ThirdPartyObservation, Factoid, News]</td>\n",
       "      <td>Low</td>\n",
       "    </tr>\n",
       "    <tr>\n",
       "      <th>1</th>\n",
       "      <td>Philippine flood fatalities hit 23 http://t.co...</td>\n",
       "      <td>[ThirdPartyObservation, Factoid, News]</td>\n",
       "      <td>Low</td>\n",
       "    </tr>\n",
       "    <tr>\n",
       "      <th>2</th>\n",
       "      <td>4 Luzon dams release water; flood warning up: ...</td>\n",
       "      <td>[ThirdPartyObservation, Factoid, News]</td>\n",
       "      <td>Low</td>\n",
       "    </tr>\n",
       "    <tr>\n",
       "      <th>3</th>\n",
       "      <td>RT @ANCALERTS: PAGASA 8:50pm advisory: Yellow ...</td>\n",
       "      <td>[ThirdPartyObservation, Factoid, News]</td>\n",
       "      <td>Low</td>\n",
       "    </tr>\n",
       "    <tr>\n",
       "      <th>4</th>\n",
       "      <td>RT @ANCALERTS: PAGASA 4am advisory: Green warn...</td>\n",
       "      <td>[ThirdPartyObservation, News]</td>\n",
       "      <td>Low</td>\n",
       "    </tr>\n",
       "    <tr>\n",
       "      <th>5</th>\n",
       "      <td>RT @PHLNewsOnline: [ANC]  PAGASA 4am advisory:...</td>\n",
       "      <td>[ThirdPartyObservation, News]</td>\n",
       "      <td>Low</td>\n",
       "    </tr>\n",
       "    <tr>\n",
       "      <th>6</th>\n",
       "      <td>RT @ANCALERTS: PAGASA 5pm advisory: Green warn...</td>\n",
       "      <td>[ThirdPartyObservation, News]</td>\n",
       "      <td>Low</td>\n",
       "    </tr>\n",
       "    <tr>\n",
       "      <th>7</th>\n",
       "      <td>“@ANCALERTS: PAGASA 9pm advisory: RED warning ...</td>\n",
       "      <td>[ThirdPartyObservation, EmergingThreats, News]</td>\n",
       "      <td>Medium</td>\n",
       "    </tr>\n",
       "    <tr>\n",
       "      <th>8</th>\n",
       "      <td>‎​PAGASA 9pm advisory: RED warning for Metro M...</td>\n",
       "      <td>[ThirdPartyObservation, EmergingThreats, News]</td>\n",
       "      <td>Medium</td>\n",
       "    </tr>\n",
       "    <tr>\n",
       "      <th>9</th>\n",
       "      <td>If floods end up banging up my Manila badly, c...</td>\n",
       "      <td>[ThirdPartyObservation, Advice]</td>\n",
       "      <td>Low</td>\n",
       "    </tr>\n",
       "  </tbody>\n",
       "</table>\n",
       "</div>"
      ],
      "text/plain": [
       "                                             content  \\\n",
       "0  Philippine floods worsen as death toll hits 14...   \n",
       "1  Philippine flood fatalities hit 23 http://t.co...   \n",
       "2  4 Luzon dams release water; flood warning up: ...   \n",
       "3  RT @ANCALERTS: PAGASA 8:50pm advisory: Yellow ...   \n",
       "4  RT @ANCALERTS: PAGASA 4am advisory: Green warn...   \n",
       "5  RT @PHLNewsOnline: [ANC]  PAGASA 4am advisory:...   \n",
       "6  RT @ANCALERTS: PAGASA 5pm advisory: Green warn...   \n",
       "7  “@ANCALERTS: PAGASA 9pm advisory: RED warning ...   \n",
       "8  ‎​PAGASA 9pm advisory: RED warning for Metro M...   \n",
       "9  If floods end up banging up my Manila badly, c...   \n",
       "\n",
       "                                       categories priority  \n",
       "0          [ThirdPartyObservation, Factoid, News]      Low  \n",
       "1          [ThirdPartyObservation, Factoid, News]      Low  \n",
       "2          [ThirdPartyObservation, Factoid, News]      Low  \n",
       "3          [ThirdPartyObservation, Factoid, News]      Low  \n",
       "4                   [ThirdPartyObservation, News]      Low  \n",
       "5                   [ThirdPartyObservation, News]      Low  \n",
       "6                   [ThirdPartyObservation, News]      Low  \n",
       "7  [ThirdPartyObservation, EmergingThreats, News]   Medium  \n",
       "8  [ThirdPartyObservation, EmergingThreats, News]   Medium  \n",
       "9                 [ThirdPartyObservation, Advice]      Low  "
      ]
     },
     "execution_count": 6,
     "metadata": {},
     "output_type": "execute_result"
    }
   ],
   "source": [
    "# construct dataframe.\n",
    "raw_dataset = pd.DataFrame(columns=['content', 'categories', 'priority'])\n",
    "\n",
    "for doc in data:\n",
    "    doc_id, doc_cont = doc['allProperties']['docno'], doc['allProperties']['content']\n",
    "    if doc_id not in labels_dict: continue\n",
    "    index = labels_dict[doc_id]\n",
    "    raw_dataset = raw_dataset.append({'content': doc_cont, 'categories': labels[index]['postCategories'], 'priority': labels[index]['postPriority']}, ignore_index=True)\n",
    "\n",
    "raw_dataset[:10]"
   ]
  },
  {
   "cell_type": "code",
   "execution_count": 7,
   "metadata": {},
   "outputs": [
    {
     "data": {
      "text/plain": [
       "37373"
      ]
     },
     "execution_count": 7,
     "metadata": {},
     "output_type": "execute_result"
    }
   ],
   "source": [
    "len(raw_dataset)"
   ]
  },
  {
   "cell_type": "markdown",
   "metadata": {},
   "source": [
    "### 2. data cleaning"
   ]
  },
  {
   "cell_type": "code",
   "execution_count": 8,
   "metadata": {},
   "outputs": [],
   "source": [
    "import numpy as np\n",
    "import re\n",
    "from nltk.stem import PorterStemmer\n",
    "\n",
    "stopwords = ['a','in','on','at','and','or', \n",
    "              'to', 'the', 'of', 'an', 'by', \n",
    "              'as', 'is', 'was', 'were', 'been', 'be', \n",
    "              'are','for', 'this', 'that', 'these', 'those', 'you', 'i', 'if',\n",
    "             'it', 'he', 'she', 'we', 'they', 'will', 'have', 'has',\n",
    "              'do', 'did', 'can', 'could', 'who', 'which', 'what',\n",
    "              'but', 'not', 'there', 'no', 'does', 'not', 'so', 've', 'their',\n",
    "             'his', 'her', 'they', 'them', 'from', 'with', 'its']"
   ]
  },
  {
   "cell_type": "code",
   "execution_count": 9,
   "metadata": {},
   "outputs": [],
   "source": [
    "url_pattern = r'''(?i)\\b((?:https?://|www\\d{0,3}[.]|[a-z0-9.\\-]+[.][a-z]{2,4}/)(?:[^\\s()<>]+|\\(([^\\s()<>]+|(\\([^\\s()<>]+\\)))*\\))+(?:\\(([^\\s()<>]+|(\\([^\\s()<>]+\\)))*\\)|[^\\s`!()\\[\\]{};:'\".,<>?«»“”‘’]))'''\n",
    "token_pattern = r\"\\b[A-Za-z0-9]+\\b\"\n",
    "username_pattern = r\"@[^\\s]+\"\n",
    "hashtag_pattern = r\"\\B#\\w\\w+\""
   ]
  },
  {
   "cell_type": "code",
   "execution_count": 10,
   "metadata": {},
   "outputs": [
    {
     "data": {
      "text/html": [
       "<div>\n",
       "<style scoped>\n",
       "    .dataframe tbody tr th:only-of-type {\n",
       "        vertical-align: middle;\n",
       "    }\n",
       "\n",
       "    .dataframe tbody tr th {\n",
       "        vertical-align: top;\n",
       "    }\n",
       "\n",
       "    .dataframe thead th {\n",
       "        text-align: right;\n",
       "    }\n",
       "</style>\n",
       "<table border=\"1\" class=\"dataframe\">\n",
       "  <thead>\n",
       "    <tr style=\"text-align: right;\">\n",
       "      <th></th>\n",
       "      <th>content</th>\n",
       "      <th>categories</th>\n",
       "      <th>priority</th>\n",
       "    </tr>\n",
       "  </thead>\n",
       "  <tbody>\n",
       "    <tr>\n",
       "      <th>0</th>\n",
       "      <td>philippin flood worsen death toll hit 14 wake ...</td>\n",
       "      <td>[FirstPartyObservation, MultimediaShare, Senti...</td>\n",
       "      <td>Low</td>\n",
       "    </tr>\n",
       "    <tr>\n",
       "      <th>1</th>\n",
       "      <td>philippin flood fatal hit 23</td>\n",
       "      <td>[FirstPartyObservation, MultimediaShare, Senti...</td>\n",
       "      <td>Low</td>\n",
       "    </tr>\n",
       "    <tr>\n",
       "      <th>2</th>\n",
       "      <td>4 luzon dam releas water flood warn up manila ...</td>\n",
       "      <td>[FirstPartyObservation, MultimediaShare, Senti...</td>\n",
       "      <td>Low</td>\n",
       "    </tr>\n",
       "    <tr>\n",
       "      <th>3</th>\n",
       "      <td>rt pagasa 8 50pm advisori yellow warn metro ma...</td>\n",
       "      <td>[FirstPartyObservation, MultimediaShare, Senti...</td>\n",
       "      <td>Low</td>\n",
       "    </tr>\n",
       "    <tr>\n",
       "      <th>4</th>\n",
       "      <td>rt pagasa 4am advisori green warn metro manila...</td>\n",
       "      <td>[FirstPartyObservation, MultimediaShare, Senti...</td>\n",
       "      <td>Low</td>\n",
       "    </tr>\n",
       "    <tr>\n",
       "      <th>5</th>\n",
       "      <td>rt anc pagasa 4am advisori green warn metro ma...</td>\n",
       "      <td>[FirstPartyObservation, MultimediaShare, Senti...</td>\n",
       "      <td>Low</td>\n",
       "    </tr>\n",
       "    <tr>\n",
       "      <th>6</th>\n",
       "      <td>rt pagasa 5pm advisori green warn metro manila...</td>\n",
       "      <td>[FirstPartyObservation, MultimediaShare, Senti...</td>\n",
       "      <td>Low</td>\n",
       "    </tr>\n",
       "    <tr>\n",
       "      <th>7</th>\n",
       "      <td>pagasa 9pm advisori red warn metro manila heav...</td>\n",
       "      <td>[FirstPartyObservation, MultimediaShare, Senti...</td>\n",
       "      <td>Low</td>\n",
       "    </tr>\n",
       "    <tr>\n",
       "      <th>8</th>\n",
       "      <td>pagasa 9pm advisori red warn metro manila heav...</td>\n",
       "      <td>[FirstPartyObservation, MultimediaShare, Senti...</td>\n",
       "      <td>Low</td>\n",
       "    </tr>\n",
       "    <tr>\n",
       "      <th>9</th>\n",
       "      <td>flood end up bang up my manila badli consid ru...</td>\n",
       "      <td>[FirstPartyObservation, MultimediaShare, Senti...</td>\n",
       "      <td>Low</td>\n",
       "    </tr>\n",
       "  </tbody>\n",
       "</table>\n",
       "</div>"
      ],
      "text/plain": [
       "                                             content  \\\n",
       "0  philippin flood worsen death toll hit 14 wake ...   \n",
       "1                       philippin flood fatal hit 23   \n",
       "2  4 luzon dam releas water flood warn up manila ...   \n",
       "3  rt pagasa 8 50pm advisori yellow warn metro ma...   \n",
       "4  rt pagasa 4am advisori green warn metro manila...   \n",
       "5  rt anc pagasa 4am advisori green warn metro ma...   \n",
       "6  rt pagasa 5pm advisori green warn metro manila...   \n",
       "7  pagasa 9pm advisori red warn metro manila heav...   \n",
       "8  pagasa 9pm advisori red warn metro manila heav...   \n",
       "9  flood end up bang up my manila badli consid ru...   \n",
       "\n",
       "                                          categories priority  \n",
       "0  [FirstPartyObservation, MultimediaShare, Senti...      Low  \n",
       "1  [FirstPartyObservation, MultimediaShare, Senti...      Low  \n",
       "2  [FirstPartyObservation, MultimediaShare, Senti...      Low  \n",
       "3  [FirstPartyObservation, MultimediaShare, Senti...      Low  \n",
       "4  [FirstPartyObservation, MultimediaShare, Senti...      Low  \n",
       "5  [FirstPartyObservation, MultimediaShare, Senti...      Low  \n",
       "6  [FirstPartyObservation, MultimediaShare, Senti...      Low  \n",
       "7  [FirstPartyObservation, MultimediaShare, Senti...      Low  \n",
       "8  [FirstPartyObservation, MultimediaShare, Senti...      Low  \n",
       "9  [FirstPartyObservation, MultimediaShare, Senti...      Low  "
      ]
     },
     "execution_count": 10,
     "metadata": {},
     "output_type": "execute_result"
    }
   ],
   "source": [
    "new_dataset = pd.DataFrame(columns=['content', 'categories', 'priority'])\n",
    "\n",
    "for i in range(len(raw_dataset)):\n",
    "    content = raw_dataset.loc[i, 'content']\n",
    "    \n",
    "    # remove url.\n",
    "    content_url = re.sub(url_pattern, \"\", content)\n",
    "    \n",
    "    # remove @username. \n",
    "    content_username = re.sub(username_pattern, \"\", content_url)\n",
    "    \n",
    "    # remove #hashtag.\n",
    "    content_hashtag = re.sub(hashtag_pattern, \"\", content_username)\n",
    "    \n",
    "    # lower case.\n",
    "    content_lower = content_hashtag.lower()\n",
    "    \n",
    "    # tokenisation.\n",
    "    words = re.findall(token_pattern, content_lower)\n",
    "    \n",
    "    # remove stop word.\n",
    "    words = [word for word in words if word not in stopwords]\n",
    "        \n",
    "    # stemming. \n",
    "    ps = PorterStemmer() \n",
    "    words = [ps.stem(word) for word in words]\n",
    "    \n",
    "    content_processed = \" \".join(words)\n",
    "    \n",
    "    new_dataset = new_dataset.append({'content': content_processed, 'categories': raw_dataset.loc[index, 'categories'], 'priority': raw_dataset.loc[index, 'priority']}, ignore_index=True)\n",
    "\n",
    "new_dataset[:10]"
   ]
  },
  {
   "cell_type": "code",
   "execution_count": 11,
   "metadata": {},
   "outputs": [
    {
     "name": "stdout",
     "output_type": "stream",
     "text": [
      "dataset size:  37373\n",
      "dataset before cleaning:  “@ANCALERTS: PAGASA 9pm advisory: RED warning for Metro Manila. Heavy-intense rains in next 3 hrs. Floods in low-lying areas, near rivers.”\n",
      "dataset after cleaning:  pagasa 9pm advisori red warn metro manila heavi intens rain next 3 hr flood low lie area near river\n"
     ]
    }
   ],
   "source": [
    "print(\"dataset size: \", len(new_dataset))\n",
    "\n",
    "print(\"dataset before cleaning: \", raw_dataset.loc[7, 'content'])\n",
    "\n",
    "print(\"dataset after cleaning: \", new_dataset.loc[7, 'content'])"
   ]
  },
  {
   "cell_type": "code",
   "execution_count": null,
   "metadata": {},
   "outputs": [],
   "source": []
  }
 ],
 "metadata": {
  "kernelspec": {
   "display_name": "Python 3",
   "language": "python",
   "name": "python3"
  },
  "language_info": {
   "codemirror_mode": {
    "name": "ipython",
    "version": 3
   },
   "file_extension": ".py",
   "mimetype": "text/x-python",
   "name": "python",
   "nbconvert_exporter": "python",
   "pygments_lexer": "ipython3",
   "version": "3.7.3"
  }
 },
 "nbformat": 4,
 "nbformat_minor": 2
}
