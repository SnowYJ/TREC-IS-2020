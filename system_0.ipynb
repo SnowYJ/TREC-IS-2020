{
 "cells": [
  {
   "cell_type": "markdown",
   "metadata": {},
   "source": [
    "## Dataset pre-processing"
   ]
  },
  {
   "cell_type": "markdown",
   "metadata": {},
   "source": [
    "### 1. load dataset"
   ]
  },
  {
   "cell_type": "code",
   "execution_count": 1,
   "metadata": {
    "scrolled": true
   },
   "outputs": [],
   "source": [
    "import pandas as pd\n",
    "import json\n",
    "import codecs\n",
    "import gzip\n",
    "\n",
    "import os\n",
    "file_list = os.listdir('./data')\n",
    "\n",
    "# load dataset.\n",
    "data = []\n",
    "for f in file_list:\n",
    "    file_path = 'data/'+f\n",
    "    if file_path.endswith('.gz'): \n",
    "        with gzip.GzipFile(file_path, 'r') as gz:\n",
    "            for text in gz:\n",
    "                data.append(json.loads(text))\n",
    "    \n",
    "# load labels.\n",
    "labels = []\n",
    "with open('data/TRECIS_2018_2019-labels.json', 'r') as f:\n",
    "    for i in json.load(f):\n",
    "        labels.append(i)"
   ]
  },
  {
   "cell_type": "code",
   "execution_count": 2,
   "metadata": {},
   "outputs": [
    {
     "name": "stdout",
     "output_type": "stream",
     "text": [
      "the size of dataset:  50490\n",
      "the size of labeled dataset:  38478\n"
     ]
    }
   ],
   "source": [
    "# some data are not labeled. \n",
    "print(\"the size of dataset: \",len(data))\n",
    "print(\"the size of labeled dataset: \", len(labels))"
   ]
  },
  {
   "cell_type": "code",
   "execution_count": 3,
   "metadata": {},
   "outputs": [
    {
     "data": {
      "text/plain": [
       "{'eventID': 'joplinTornado2011',\n",
       " 'eventName': '2011 Joplin Tornado',\n",
       " 'eventDescription': \"The 2011 Joplin tornado was a catastrophic EF5-rated multiple-vortex tornado that struck Joplin, Missouri, late in the afternoon of Sunday, May 22, 2011. The user is a response officer in the Missouri command and control center responsible for impact to the state. <a href='https://en.wikipedia.org/wiki/2011_Joplin_tornado' target='_blank'>Wikipedia Page<a>\",\n",
       " 'eventType': 'Unknown',\n",
       " 'postID': '72676276212731904',\n",
       " 'postCategories': ['Factoid', 'Hashtags', 'News'],\n",
       " 'postPriority': 'Low'}"
      ]
     },
     "execution_count": 3,
     "metadata": {},
     "output_type": "execute_result"
    }
   ],
   "source": [
    "labels[0] # 'postID'."
   ]
  },
  {
   "cell_type": "code",
   "execution_count": 4,
   "metadata": {
    "scrolled": true
   },
   "outputs": [
    {
     "name": "stdout",
     "output_type": "stream",
     "text": [
      "id:  230634706436227073\n",
      "content:  Philippine floods worsen as death toll hits 14 in wake of ‘Gener’ http://t.co/gnhkYRS6 #Philippines #national\n"
     ]
    }
   ],
   "source": [
    "print(\"id: \", data[0]['allProperties']['docno'])\n",
    "print(\"content: \", data[0]['allProperties']['content'])"
   ]
  },
  {
   "cell_type": "code",
   "execution_count": 5,
   "metadata": {},
   "outputs": [],
   "source": [
    "# match labels and data.\n",
    "labels_dict = dict()\n",
    "\n",
    "for i, l in enumerate(labels):\n",
    "    labels_dict[l['postID']] = i"
   ]
  },
  {
   "cell_type": "code",
   "execution_count": 6,
   "metadata": {},
   "outputs": [],
   "source": [
    "# construct dataset dataframe.\n",
    "raw_label_dataset = pd.DataFrame(columns=['content', 'categories', 'priority'])\n",
    "raw_unlabel_dataset = pd.DataFrame(columns=['content', 'categories', 'priority'])\n",
    "\n",
    "for doc in data:\n",
    "    doc_id, doc_cont = doc['allProperties']['docno'], doc['allProperties']['content']\n",
    "    if doc_id not in labels_dict: \n",
    "        raw_unlabel_dataset = raw_unlabel_dataset.append({'content': doc_cont, 'categories': None, 'priority': None}, ignore_index=True)\n",
    "    else:\n",
    "        index = labels_dict[doc_id]\n",
    "        raw_label_dataset = raw_label_dataset.append({'content': doc_cont, 'categories': labels[index]['postCategories'], 'priority': labels[index]['postPriority']}, ignore_index=True)\n"
   ]
  },
  {
   "cell_type": "code",
   "execution_count": 7,
   "metadata": {},
   "outputs": [
    {
     "name": "stdout",
     "output_type": "stream",
     "text": [
      "size of label dataset:  37373\n",
      "size of unlabel dataset:  13117\n"
     ]
    }
   ],
   "source": [
    "print(\"size of label dataset: \", len(raw_label_dataset))\n",
    "print(\"size of unlabel dataset: \", len(raw_unlabel_dataset))"
   ]
  },
  {
   "cell_type": "markdown",
   "metadata": {},
   "source": [
    "### 2. data cleaning"
   ]
  },
  {
   "cell_type": "code",
   "execution_count": 8,
   "metadata": {},
   "outputs": [
    {
     "name": "stderr",
     "output_type": "stream",
     "text": [
      "[nltk_data] Downloading package wordnet to\n",
      "[nltk_data]     /Users/zhangyingji/nltk_data...\n",
      "[nltk_data]   Package wordnet is already up-to-date!\n"
     ]
    }
   ],
   "source": [
    "import numpy as np\n",
    "import re\n",
    "import nltk\n",
    "import emoji\n",
    "\n",
    "from nltk.stem import PorterStemmer\n",
    "from nltk.stem.lancaster import LancasterStemmer\n",
    "from nltk import word_tokenize, pos_tag\n",
    "from nltk.stem import WordNetLemmatizer\n",
    "from nltk.tokenize import RegexpTokenizer\n",
    "from tqdm.notebook import tqdm\n",
    "\n",
    "nltk.download('wordnet')\n",
    "\n",
    "stopwords = ['a','in','on','at','and','or', \n",
    "              'to', 'the', 'of', 'an', 'by', \n",
    "              'as', 'is', 'was', 'were', 'been', 'be', \n",
    "              'are','for', 'this', 'that', 'these', 'those', 'you', 'i', 'if',\n",
    "             'it', 'he', 'she', 'we', 'they', 'will', 'have', 'has',\n",
    "              'do', 'did', 'can', 'could', 'who', 'which', 'what',\n",
    "              'but', 'not', 'there', 'no', 'does', 'not', 'so', 've', 'their',\n",
    "             'his', 'her', 'they', 'them', 'from', 'with', 'its']"
   ]
  },
  {
   "cell_type": "code",
   "execution_count": 9,
   "metadata": {},
   "outputs": [],
   "source": [
    "def remove_emoji(text):\n",
    "    return emoji.get_emoji_regexp().sub(u'', text)"
   ]
  },
  {
   "cell_type": "code",
   "execution_count": 10,
   "metadata": {},
   "outputs": [],
   "source": [
    "url_pattern = r'''(?i)\\b((?:https?://|www\\d{0,3}[.]|[a-z0-9.\\-]+[.][a-z]{2,4}/)(?:[^\\s()<>]+|\\(([^\\s()<>]+|(\\([^\\s()<>]+\\)))*\\))+(?:\\(([^\\s()<>]+|(\\([^\\s()<>]+\\)))*\\)|[^\\s`!()\\[\\]{};:'\".,<>?«»“”‘’]))'''\n",
    "username_pattern = r\"@[^\\s]+\"\n",
    "hashtag_pattern = r\"\\B#\\w\\w+\""
   ]
  },
  {
   "cell_type": "code",
   "execution_count": 11,
   "metadata": {},
   "outputs": [],
   "source": [
    "def text_processor(df):\n",
    "    \n",
    "    df_new = pd.DataFrame(columns=['content', 'categories', 'priority'])\n",
    "    for i in tqdm(range(len(df))):\n",
    "        \n",
    "        content, categories, priority = df.loc[i, 'content'], df.loc[i, 'categories'], df.loc[i, 'priority']\n",
    "        \n",
    "        # remove url.\n",
    "        content_url = re.sub(url_pattern, \"\", content)\n",
    "        \n",
    "        # remove @username. \n",
    "        content_username = re.sub(username_pattern, \"\", content_url)\n",
    "    \n",
    "        # remove #hashtag.\n",
    "        content_hashtag = re.sub(hashtag_pattern, \"\", content_username)\n",
    "        \n",
    "        # lower case.\n",
    "        content_lower = content_hashtag.lower()\n",
    "        \n",
    "        # tokenisation.\n",
    "        token_list = RegexpTokenizer(pattern=\"\\w+\").tokenize(content_lower)\n",
    "        \n",
    "        # split words connected by hyphen.\n",
    "        text = str()\n",
    "        for i in token_list:\n",
    "            text += i.replace(\"-\", \" \")\n",
    "            text += \" \"\n",
    "        token_list = word_tokenize(text)\n",
    "        \n",
    "        # POS.\n",
    "        token_words = pos_tag(token_list)\n",
    "        \n",
    "        # WordNetLemmatizer\n",
    "        words_lematizer = []\n",
    "        wordnet_lematizer = WordNetLemmatizer()\n",
    "        \n",
    "        for word, tag in token_words:\n",
    "            if tag.startswith('NN'):\n",
    "                word_lematizer =  wordnet_lematizer.lemmatize(word, pos='n')  \n",
    "            elif tag.startswith('VB'): \n",
    "                word_lematizer =  wordnet_lematizer.lemmatize(word, pos='v')  \n",
    "            elif tag.startswith('JJ'): \n",
    "                word_lematizer =  wordnet_lematizer.lemmatize(word, pos='a')  \n",
    "            elif tag.startswith('R'): \n",
    "                word_lematizer =  wordnet_lematizer.lemmatize(word, pos='r')\n",
    "            else: \n",
    "                word_lematizer =  wordnet_lematizer.lemmatize(word)\n",
    "            words_lematizer.append(word_lematizer)\n",
    "            \n",
    "        # remove stop words.\n",
    "        cleaned_words = [word for word in words_lematizer if word.lower() not in stopwords]\n",
    "        \n",
    "        # remove punctuation.\n",
    "        characters = [',','’', '\\'','.','DBSCAN', ':', ';', '?', '(', ')', '[', ']', '&', '!', '*', '@', '#', '$', '%','-','...','^','{','}','\"']\n",
    "        words_lists = [word for word in cleaned_words if word not in characters]\n",
    "        text = str()\n",
    "        for w in words_lists:\n",
    "            text+=w\n",
    "            text+=\" \"\n",
    "            \n",
    "        # remove emoji\n",
    "        final_content = remove_emoji(text)\n",
    "        df_new = df_new.append({'content': final_content, 'categories': categories, 'priority': priority}, ignore_index=True)\n",
    "        \n",
    "    return df_new\n"
   ]
  },
  {
   "cell_type": "code",
   "execution_count": 12,
   "metadata": {},
   "outputs": [
    {
     "data": {
      "application/vnd.jupyter.widget-view+json": {
       "model_id": "3d2e4d7c94b4470e8d58ae082501c925",
       "version_major": 2,
       "version_minor": 0
      },
      "text/plain": [
       "HBox(children=(FloatProgress(value=0.0, max=37373.0), HTML(value='')))"
      ]
     },
     "metadata": {},
     "output_type": "display_data"
    },
    {
     "name": "stdout",
     "output_type": "stream",
     "text": [
      "\n"
     ]
    },
    {
     "data": {
      "application/vnd.jupyter.widget-view+json": {
       "model_id": "f627c708427a40909bdf929f0859edd0",
       "version_major": 2,
       "version_minor": 0
      },
      "text/plain": [
       "HBox(children=(FloatProgress(value=0.0, max=13117.0), HTML(value='')))"
      ]
     },
     "metadata": {},
     "output_type": "display_data"
    },
    {
     "name": "stdout",
     "output_type": "stream",
     "text": [
      "\n"
     ]
    }
   ],
   "source": [
    "new_label_dataset = text_processor(raw_label_dataset)\n",
    "new_unlabel_dataset = text_processor(raw_unlabel_dataset)"
   ]
  },
  {
   "cell_type": "code",
   "execution_count": 13,
   "metadata": {},
   "outputs": [
    {
     "name": "stdout",
     "output_type": "stream",
     "text": [
      "* dataset before cleaning: \n",
      "4 Luzon dams release water; flood warning up: MANILA, Philippines - Four dams in Luzon opened their gates Sunday... http://t.co/kmWDCBFw\n",
      " \n",
      "* dataset after cleaning: \n",
      "4 luzon dam release water flood warn up manila philippine four dam luzon open gate sunday \n"
     ]
    }
   ],
   "source": [
    "print(\"* dataset before cleaning: \")\n",
    "print(raw_label_dataset.loc[2, 'content'])\n",
    "print(\" \")\n",
    "print(\"* dataset after cleaning: \")\n",
    "print(new_label_dataset.loc[2, 'content'])"
   ]
  },
  {
   "cell_type": "markdown",
   "metadata": {},
   "source": [
    "### 3. dataset distribution ( balance or not )"
   ]
  },
  {
   "cell_type": "code",
   "execution_count": 14,
   "metadata": {},
   "outputs": [],
   "source": [
    "# ccounting the number of each category and priority.\n",
    "\n",
    "cat_dict, prior_dict = dict(), dict()\n",
    "\n",
    "for i in range(len(labels)):\n",
    "    cat, prior = labels[i]['postCategories'], labels[i]['postPriority']\n",
    "    for c in cat:\n",
    "        if c not in cat_dict:\n",
    "            cat_dict[c] = 1\n",
    "        else:\n",
    "            cat_dict[c] += 1\n",
    "    if prior not in prior_dict:\n",
    "        prior_dict[prior] = 1\n",
    "    else:\n",
    "        prior_dict[prior] += 1"
   ]
  },
  {
   "cell_type": "code",
   "execution_count": 21,
   "metadata": {},
   "outputs": [
    {
     "data": {
      "image/png": "[encoded data removed]",
      "text/plain": [
       "<Figure size 1440x576 with 2 Axes>"
      ]
     },
     "metadata": {
      "needs_background": "light"
     },
     "output_type": "display_data"
    }
   ],
   "source": [
    "import matplotlib.pyplot as plt\n",
    "cat, cat_num = list(cat_dict), list(cat_dict.values())\n",
    "prior, prior_num = list(prior_dict), list(prior_dict.values())\n",
    "\n",
    "plt.figure(figsize=(20, 8))\n",
    "\n",
    "plt.subplot(1, 2, 1)\n",
    "plt.barh(cat,cat_num)\n",
    "plt.xlabel(\"num\")\n",
    "plt.ylabel(\"cat\")\n",
    "plt.title(str(len(cat))+\" categories\")\n",
    "plt.subplot(1, 2, 2)\n",
    "plt.bar(prior,prior_num)\n",
    "plt.xlabel(\"prior\")\n",
    "plt.ylabel(\"num\")\n",
    "plt.title(str(len(prior))+\" priority\")\n",
    "plt.show()"
   ]
  },
  {
   "cell_type": "code",
   "execution_count": 16,
   "metadata": {},
   "outputs": [
    {
     "data": {
      "text/plain": [
       "'25 information type for multi-label tweet classification, four priorities for multi-class tweets classification.'"
      ]
     },
     "execution_count": 16,
     "metadata": {},
     "output_type": "execute_result"
    }
   ],
   "source": [
    "\"\"\"25 information type for multi-label tweet classification, four priorities for multi-class tweets classification.\"\"\""
   ]
  },
  {
   "cell_type": "markdown",
   "metadata": {},
   "source": [
    "### 4. convert \"categories\" and \"priority\" column to vector"
   ]
  },
  {
   "cell_type": "code",
   "execution_count": 17,
   "metadata": {
    "scrolled": true
   },
   "outputs": [
    {
     "data": {
      "application/vnd.jupyter.widget-view+json": {
       "model_id": "29f21dd8a9b44f69bc48fdb55b1285a7",
       "version_major": 2,
       "version_minor": 0
      },
      "text/plain": [
       "HBox(children=(FloatProgress(value=0.0, max=37373.0), HTML(value='')))"
      ]
     },
     "metadata": {},
     "output_type": "display_data"
    },
    {
     "name": "stdout",
     "output_type": "stream",
     "text": [
      "\n"
     ]
    }
   ],
   "source": [
    "cat_id, prior_id = [i for i in range(len(cat))], [i for i in range(len(prior))]\n",
    "id_to_cat, id_to_prior = dict(zip(cat, cat_id)), dict(zip(prior, prior_id))\n",
    "\n",
    "for i in tqdm(range(len(new_label_dataset))):\n",
    "    temp_cat, temp_prior = new_label_dataset.loc[i, 'categories'], new_label_dataset.loc[i, 'priority']\n",
    "    vec_cat, vec_prior = np.zeros(len(cat)), np.zeros(len(prior))\n",
    "    for index in temp_cat: \n",
    "        vec_cat[id_to_cat[index]] = 1\n",
    "        \n",
    "    vec_prior[id_to_prior[temp_prior]] = 1\n",
    "    new_label_dataset.loc[i, 'categories'] = vec_cat\n",
    "    new_label_dataset.loc[i, 'priority'] = vec_prior\n",
    "        "
   ]
  },
  {
   "cell_type": "code",
   "execution_count": 18,
   "metadata": {},
   "outputs": [
    {
     "data": {
      "text/html": [
       "<div>\n",
       "<style scoped>\n",
       "    .dataframe tbody tr th:only-of-type {\n",
       "        vertical-align: middle;\n",
       "    }\n",
       "\n",
       "    .dataframe tbody tr th {\n",
       "        vertical-align: top;\n",
       "    }\n",
       "\n",
       "    .dataframe thead th {\n",
       "        text-align: right;\n",
       "    }\n",
       "</style>\n",
       "<table border=\"1\" class=\"dataframe\">\n",
       "  <thead>\n",
       "    <tr style=\"text-align: right;\">\n",
       "      <th></th>\n",
       "      <th>content</th>\n",
       "      <th>categories</th>\n",
       "      <th>priority</th>\n",
       "    </tr>\n",
       "  </thead>\n",
       "  <tbody>\n",
       "    <tr>\n",
       "      <th>0</th>\n",
       "      <td>philippine flood worsen death toll hit 14 wake...</td>\n",
       "      <td>[1.0, 0.0, 1.0, 0.0, 0.0, 0.0, 0.0, 1.0, 0.0, ...</td>\n",
       "      <td>[1.0, 0.0, 0.0, 0.0, 0.0]</td>\n",
       "    </tr>\n",
       "    <tr>\n",
       "      <th>1</th>\n",
       "      <td>philippine flood fatality hit 23</td>\n",
       "      <td>[1.0, 0.0, 1.0, 0.0, 0.0, 0.0, 0.0, 1.0, 0.0, ...</td>\n",
       "      <td>[1.0, 0.0, 0.0, 0.0, 0.0]</td>\n",
       "    </tr>\n",
       "    <tr>\n",
       "      <th>2</th>\n",
       "      <td>4 luzon dam release water flood warn up manila...</td>\n",
       "      <td>[1.0, 0.0, 1.0, 0.0, 0.0, 0.0, 0.0, 1.0, 0.0, ...</td>\n",
       "      <td>[1.0, 0.0, 0.0, 0.0, 0.0]</td>\n",
       "    </tr>\n",
       "    <tr>\n",
       "      <th>3</th>\n",
       "      <td>rt pagasa 8 50pm advisory yellow warning metro...</td>\n",
       "      <td>[1.0, 0.0, 1.0, 0.0, 0.0, 0.0, 0.0, 1.0, 0.0, ...</td>\n",
       "      <td>[1.0, 0.0, 0.0, 0.0, 0.0]</td>\n",
       "    </tr>\n",
       "    <tr>\n",
       "      <th>4</th>\n",
       "      <td>rt pagasa 4am advisory green warning metro man...</td>\n",
       "      <td>[0.0, 0.0, 1.0, 0.0, 0.0, 0.0, 0.0, 1.0, 0.0, ...</td>\n",
       "      <td>[1.0, 0.0, 0.0, 0.0, 0.0]</td>\n",
       "    </tr>\n",
       "  </tbody>\n",
       "</table>\n",
       "</div>"
      ],
      "text/plain": [
       "                                             content  \\\n",
       "0  philippine flood worsen death toll hit 14 wake...   \n",
       "1                  philippine flood fatality hit 23    \n",
       "2  4 luzon dam release water flood warn up manila...   \n",
       "3  rt pagasa 8 50pm advisory yellow warning metro...   \n",
       "4  rt pagasa 4am advisory green warning metro man...   \n",
       "\n",
       "                                          categories  \\\n",
       "0  [1.0, 0.0, 1.0, 0.0, 0.0, 0.0, 0.0, 1.0, 0.0, ...   \n",
       "1  [1.0, 0.0, 1.0, 0.0, 0.0, 0.0, 0.0, 1.0, 0.0, ...   \n",
       "2  [1.0, 0.0, 1.0, 0.0, 0.0, 0.0, 0.0, 1.0, 0.0, ...   \n",
       "3  [1.0, 0.0, 1.0, 0.0, 0.0, 0.0, 0.0, 1.0, 0.0, ...   \n",
       "4  [0.0, 0.0, 1.0, 0.0, 0.0, 0.0, 0.0, 1.0, 0.0, ...   \n",
       "\n",
       "                    priority  \n",
       "0  [1.0, 0.0, 0.0, 0.0, 0.0]  \n",
       "1  [1.0, 0.0, 0.0, 0.0, 0.0]  \n",
       "2  [1.0, 0.0, 0.0, 0.0, 0.0]  \n",
       "3  [1.0, 0.0, 0.0, 0.0, 0.0]  \n",
       "4  [1.0, 0.0, 0.0, 0.0, 0.0]  "
      ]
     },
     "execution_count": 18,
     "metadata": {},
     "output_type": "execute_result"
    }
   ],
   "source": [
    "new_label_dataset[:5]"
   ]
  },
  {
   "cell_type": "code",
   "execution_count": 20,
   "metadata": {},
   "outputs": [],
   "source": [
    "new_label_dataset.to_csv('new_label_dataset.csv')\n",
    "new_unlabel_dataset.to_csv('new_unlabel_dataset.csv')"
   ]
  }
 ],
 "metadata": {
  "kernelspec": {
   "display_name": "Python 3",
   "language": "python",
   "name": "python3"
  },
  "language_info": {
   "codemirror_mode": {
    "name": "ipython",
    "version": 3
   },
   "file_extension": ".py",
   "mimetype": "text/x-python",
   "name": "python",
   "nbconvert_exporter": "python",
   "pygments_lexer": "ipython3",
   "version": "3.7.3"
  }
 },
 "nbformat": 4,
 "nbformat_minor": 2
}
