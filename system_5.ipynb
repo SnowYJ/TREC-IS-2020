{
 "cells": [
  {
   "cell_type": "markdown",
   "metadata": {},
   "source": [
    "## Bert multi-label"
   ]
  },
  {
   "cell_type": "code",
   "execution_count": 220,
   "metadata": {
    "colab": {
     "base_uri": "https://localhost:8080/",
     "height": 360
    },
    "colab_type": "code",
    "executionInfo": {
     "elapsed": 5617,
     "status": "ok",
     "timestamp": 1593552761967,
     "user": {
      "displayName": "Yingji Zhang",
      "photoUrl": "https://lh3.googleusercontent.com/a-/AOh14Giy2yxVSh1vrnIZ8Au7mLgRDopnFAPXv1dEVD5P=s64",
      "userId": "02250671043329935284"
     },
     "user_tz": -60
    },
    "id": "w4hRIjBJDusH",
    "outputId": "90eab0df-451b-4f17-a78b-6d38f52bd5d5"
   },
   "outputs": [
    {
     "name": "stdout",
     "output_type": "stream",
     "text": [
      "Requirement already satisfied: transformers in /usr/local/lib/python3.6/dist-packages (3.0.0)\n",
      "Requirement already satisfied: regex!=2019.12.17 in /usr/local/lib/python3.6/dist-packages (from transformers) (2019.12.20)\n",
      "Requirement already satisfied: sentencepiece in /usr/local/lib/python3.6/dist-packages (from transformers) (0.1.91)\n",
      "Requirement already satisfied: tqdm>=4.27 in /usr/local/lib/python3.6/dist-packages (from transformers) (4.41.1)\n",
      "Requirement already satisfied: requests in /usr/local/lib/python3.6/dist-packages (from transformers) (2.23.0)\n",
      "Requirement already satisfied: filelock in /usr/local/lib/python3.6/dist-packages (from transformers) (3.0.12)\n",
      "Requirement already satisfied: tokenizers==0.8.0-rc4 in /usr/local/lib/python3.6/dist-packages (from transformers) (0.8.0rc4)\n",
      "Requirement already satisfied: sacremoses in /usr/local/lib/python3.6/dist-packages (from transformers) (0.0.43)\n",
      "Requirement already satisfied: dataclasses; python_version < \"3.7\" in /usr/local/lib/python3.6/dist-packages (from transformers) (0.7)\n",
      "Requirement already satisfied: packaging in /usr/local/lib/python3.6/dist-packages (from transformers) (20.4)\n",
      "Requirement already satisfied: numpy in /usr/local/lib/python3.6/dist-packages (from transformers) (1.18.5)\n",
      "Requirement already satisfied: chardet<4,>=3.0.2 in /usr/local/lib/python3.6/dist-packages (from requests->transformers) (3.0.4)\n",
      "Requirement already satisfied: idna<3,>=2.5 in /usr/local/lib/python3.6/dist-packages (from requests->transformers) (2.9)\n",
      "Requirement already satisfied: certifi>=2017.4.17 in /usr/local/lib/python3.6/dist-packages (from requests->transformers) (2020.6.20)\n",
      "Requirement already satisfied: urllib3!=1.25.0,!=1.25.1,<1.26,>=1.21.1 in /usr/local/lib/python3.6/dist-packages (from requests->transformers) (1.24.3)\n",
      "Requirement already satisfied: joblib in /usr/local/lib/python3.6/dist-packages (from sacremoses->transformers) (0.15.1)\n",
      "Requirement already satisfied: six in /usr/local/lib/python3.6/dist-packages (from sacremoses->transformers) (1.12.0)\n",
      "Requirement already satisfied: click in /usr/local/lib/python3.6/dist-packages (from sacremoses->transformers) (7.1.2)\n",
      "Requirement already satisfied: pyparsing>=2.0.2 in /usr/local/lib/python3.6/dist-packages (from packaging->transformers) (2.4.7)\n"
     ]
    }
   ],
   "source": [
    "!pip install transformers"
   ]
  },
  {
   "cell_type": "code",
   "execution_count": 221,
   "metadata": {
    "colab": {},
    "colab_type": "code",
    "executionInfo": {
     "elapsed": 5607,
     "status": "ok",
     "timestamp": 1593552761968,
     "user": {
      "displayName": "Yingji Zhang",
      "photoUrl": "https://lh3.googleusercontent.com/a-/AOh14Giy2yxVSh1vrnIZ8Au7mLgRDopnFAPXv1dEVD5P=s64",
      "userId": "02250671043329935284"
     },
     "user_tz": -60
    },
    "id": "K6n2zZMUD4J1"
   },
   "outputs": [],
   "source": [
    "import transformers\n",
    "import torch\n",
    "import pandas as pd\n",
    "from tqdm.notebook import tqdm\n",
    "import torch.nn as nn\n",
    "from sklearn.model_selection import train_test_split\n",
    "from torch.utils import data\n",
    "import numpy as np\n",
    "from transformers import AdamW # optimizer\n",
    "from transformers import get_linear_schedule_with_warmup # for learning rate\n",
    "from transformers import BertModel"
   ]
  },
  {
   "cell_type": "code",
   "execution_count": 222,
   "metadata": {
    "colab": {},
    "colab_type": "code",
    "executionInfo": {
     "elapsed": 5957,
     "status": "ok",
     "timestamp": 1593552762324,
     "user": {
      "displayName": "Yingji Zhang",
      "photoUrl": "https://lh3.googleusercontent.com/a-/AOh14Giy2yxVSh1vrnIZ8Au7mLgRDopnFAPXv1dEVD5P=s64",
      "userId": "02250671043329935284"
     },
     "user_tz": -60
    },
    "id": "SEkKyqQRD7XF"
   },
   "outputs": [],
   "source": [
    "tokenizer = transformers.BertTokenizer.from_pretrained('bert-base-uncased')"
   ]
  },
  {
   "cell_type": "code",
   "execution_count": 223,
   "metadata": {
    "colab": {
     "base_uri": "https://localhost:8080/",
     "height": 51
    },
    "colab_type": "code",
    "executionInfo": {
     "elapsed": 5951,
     "status": "ok",
     "timestamp": 1593552762324,
     "user": {
      "displayName": "Yingji Zhang",
      "photoUrl": "https://lh3.googleusercontent.com/a-/AOh14Giy2yxVSh1vrnIZ8Au7mLgRDopnFAPXv1dEVD5P=s64",
      "userId": "02250671043329935284"
     },
     "user_tz": -60
    },
    "id": "2mwzblgWD900",
    "outputId": "123bd2a4-6c55-445e-c27d-d7605021dcfe"
   },
   "outputs": [
    {
     "name": "stdout",
     "output_type": "stream",
     "text": [
      "29114\n",
      "8179\n"
     ]
    }
   ],
   "source": [
    "dataset = pd.read_csv(\"sample_data/new_label_dataset.csv\")\n",
    "testset = pd.read_csv(\"sample_data/new_label_testset.csv\")\n",
    "\n",
    "print(len(dataset))\n",
    "print(len(testset))"
   ]
  },
  {
   "cell_type": "code",
   "execution_count": 224,
   "metadata": {
    "colab": {
     "base_uri": "https://localhost:8080/",
     "height": 142
    },
    "colab_type": "code",
    "executionInfo": {
     "elapsed": 5940,
     "status": "ok",
     "timestamp": 1593552762325,
     "user": {
      "displayName": "Yingji Zhang",
      "photoUrl": "https://lh3.googleusercontent.com/a-/AOh14Giy2yxVSh1vrnIZ8Au7mLgRDopnFAPXv1dEVD5P=s64",
      "userId": "02250671043329935284"
     },
     "user_tz": -60
    },
    "id": "R-djDzydFkkR",
    "outputId": "9298bc45-6f04-4e0b-f5c8-481360bd1862"
   },
   "outputs": [
    {
     "data": {
      "text/html": [
       "<div>\n",
       "<style scoped>\n",
       "    .dataframe tbody tr th:only-of-type {\n",
       "        vertical-align: middle;\n",
       "    }\n",
       "\n",
       "    .dataframe tbody tr th {\n",
       "        vertical-align: top;\n",
       "    }\n",
       "\n",
       "    .dataframe thead th {\n",
       "        text-align: right;\n",
       "    }\n",
       "</style>\n",
       "<table border=\"1\" class=\"dataframe\">\n",
       "  <thead>\n",
       "    <tr style=\"text-align: right;\">\n",
       "      <th></th>\n",
       "      <th>Unnamed: 0</th>\n",
       "      <th>content</th>\n",
       "      <th>categories</th>\n",
       "      <th>priority</th>\n",
       "    </tr>\n",
       "  </thead>\n",
       "  <tbody>\n",
       "    <tr>\n",
       "      <th>0</th>\n",
       "      <td>0</td>\n",
       "      <td>philippine flood worsen death toll hit wake ge...</td>\n",
       "      <td>['ThirdPartyObservation', 'Factoid', 'News']</td>\n",
       "      <td>Low</td>\n",
       "    </tr>\n",
       "    <tr>\n",
       "      <th>1</th>\n",
       "      <td>1</td>\n",
       "      <td>philippine flood fatality hit</td>\n",
       "      <td>['ThirdPartyObservation', 'Factoid', 'News']</td>\n",
       "      <td>Low</td>\n",
       "    </tr>\n",
       "    <tr>\n",
       "      <th>2</th>\n",
       "      <td>2</td>\n",
       "      <td>luzon dam release water flood warn up manila p...</td>\n",
       "      <td>['ThirdPartyObservation', 'Factoid', 'News']</td>\n",
       "      <td>Low</td>\n",
       "    </tr>\n",
       "  </tbody>\n",
       "</table>\n",
       "</div>"
      ],
      "text/plain": [
       "   Unnamed: 0  ... priority\n",
       "0           0  ...      Low\n",
       "1           1  ...      Low\n",
       "2           2  ...      Low\n",
       "\n",
       "[3 rows x 4 columns]"
      ]
     },
     "execution_count": 224,
     "metadata": {
      "tags": []
     },
     "output_type": "execute_result"
    }
   ],
   "source": [
    "dataset[:3]"
   ]
  },
  {
   "cell_type": "code",
   "execution_count": 225,
   "metadata": {
    "colab": {
     "base_uri": "https://localhost:8080/",
     "height": 51
    },
    "colab_type": "code",
    "executionInfo": {
     "elapsed": 6350,
     "status": "ok",
     "timestamp": 1593552762747,
     "user": {
      "displayName": "Yingji Zhang",
      "photoUrl": "https://lh3.googleusercontent.com/a-/AOh14Giy2yxVSh1vrnIZ8Au7mLgRDopnFAPXv1dEVD5P=s64",
      "userId": "02250671043329935284"
     },
     "user_tz": -60
    },
    "id": "orbm32ePO849",
    "outputId": "14c01269-ca7c-4c9a-dce3-cc42a7e8932e"
   },
   "outputs": [
    {
     "name": "stdout",
     "output_type": "stream",
     "text": [
      "(29114, 25)\n",
      "(8179, 25)\n"
     ]
    }
   ],
   "source": [
    "import ast\n",
    "from sklearn.preprocessing import MultiLabelBinarizer\n",
    "\n",
    "# convert str to list.\n",
    "cat_tr_list = []\n",
    "cat_te_list = []\n",
    "\n",
    "for i in dataset['categories']:\n",
    "    cat_tr_list.append(ast.literal_eval(i))\n",
    "    \n",
    "for i in testset['categories']:\n",
    "    cat_te_list.append(ast.literal_eval(i))\n",
    "\n",
    "mlb_tr = MultiLabelBinarizer()\n",
    "labels_tr = mlb_tr.fit_transform(cat_tr_list)\n",
    "mlb_te = MultiLabelBinarizer()\n",
    "labels_te = mlb_te.fit_transform(cat_te_list)\n",
    "\n",
    "categories_tr = mlb_tr.classes_\n",
    "categories_te = mlb_te.classes_\n",
    "\n",
    "print(labels_tr.shape)\n",
    "print(labels_te.shape)"
   ]
  },
  {
   "cell_type": "code",
   "execution_count": 226,
   "metadata": {
    "colab": {},
    "colab_type": "code",
    "executionInfo": {
     "elapsed": 6341,
     "status": "ok",
     "timestamp": 1593552762748,
     "user": {
      "displayName": "Yingji Zhang",
      "photoUrl": "https://lh3.googleusercontent.com/a-/AOh14Giy2yxVSh1vrnIZ8Au7mLgRDopnFAPXv1dEVD5P=s64",
      "userId": "02250671043329935284"
     },
     "user_tz": -60
    },
    "id": "Crgj-fYxG_ex"
   },
   "outputs": [],
   "source": [
    "class GPRreviewDataset(data.Dataset):\n",
    "    def __init__(self, content, target, tokenizer, max_len):\n",
    "        self.content = content\n",
    "        self.target = target\n",
    "        self.tokenizer = tokenizer\n",
    "        self.max_len = max_len\n",
    "        \n",
    "    def __len__(self):\n",
    "        return len(self.content)\n",
    "    \n",
    "    def __getitem__(self, item):\n",
    "        content = str(self.content[item])\n",
    "        encoding = tokenizer.encode_plus(\n",
    "            content,\n",
    "            max_length=self.max_len,\n",
    "            add_special_tokens=True,\n",
    "            pad_to_max_length=True,\n",
    "            return_attention_mask=True,\n",
    "            return_token_type_ids=False,\n",
    "            truncation=True,\n",
    "            return_tensors='pt'\n",
    "        )\n",
    "        return {\n",
    "            'text': content,\n",
    "            'input_ids': encoding['input_ids'].flatten(),\n",
    "            'attention_mask': encoding['attention_mask'].flatten(),\n",
    "            'targets': torch.tensor(self.target[item], dtype=torch.float)\n",
    "        }"
   ]
  },
  {
   "cell_type": "code",
   "execution_count": 227,
   "metadata": {
    "colab": {},
    "colab_type": "code",
    "executionInfo": {
     "elapsed": 6338,
     "status": "ok",
     "timestamp": 1593552762749,
     "user": {
      "displayName": "Yingji Zhang",
      "photoUrl": "https://lh3.googleusercontent.com/a-/AOh14Giy2yxVSh1vrnIZ8Au7mLgRDopnFAPXv1dEVD5P=s64",
      "userId": "02250671043329935284"
     },
     "user_tz": -60
    },
    "id": "RDBPOIdLHG2j"
   },
   "outputs": [],
   "source": [
    "MAX_LEN = 30\n",
    "BATCH_SIZE = 32\n",
    "\n",
    "df_train, df_test = dataset, testset"
   ]
  },
  {
   "cell_type": "code",
   "execution_count": 228,
   "metadata": {
    "colab": {},
    "colab_type": "code",
    "executionInfo": {
     "elapsed": 6334,
     "status": "ok",
     "timestamp": 1593552762749,
     "user": {
      "displayName": "Yingji Zhang",
      "photoUrl": "https://lh3.googleusercontent.com/a-/AOh14Giy2yxVSh1vrnIZ8Au7mLgRDopnFAPXv1dEVD5P=s64",
      "userId": "02250671043329935284"
     },
     "user_tz": -60
    },
    "id": "AeVwCFEtOWtU"
   },
   "outputs": [],
   "source": [
    "def create_data_loader(df, labels, tokenizer, max_len, batch_size):\n",
    "    ds = GPRreviewDataset(\n",
    "        content = df.content.to_numpy(),\n",
    "        target = labels,\n",
    "        tokenizer = tokenizer,\n",
    "        max_len = max_len,\n",
    "    )\n",
    "    return data.DataLoader(\n",
    "        ds, \n",
    "        batch_size = batch_size,\n",
    "    )"
   ]
  },
  {
   "cell_type": "code",
   "execution_count": 229,
   "metadata": {
    "colab": {},
    "colab_type": "code",
    "executionInfo": {
     "elapsed": 6329,
     "status": "ok",
     "timestamp": 1593552762750,
     "user": {
      "displayName": "Yingji Zhang",
      "photoUrl": "https://lh3.googleusercontent.com/a-/AOh14Giy2yxVSh1vrnIZ8Au7mLgRDopnFAPXv1dEVD5P=s64",
      "userId": "02250671043329935284"
     },
     "user_tz": -60
    },
    "id": "PcC5md3qObmz"
   },
   "outputs": [],
   "source": [
    "train_loader = create_data_loader(df_train, labels_tr, tokenizer, MAX_LEN, BATCH_SIZE)\n",
    "test_loader = create_data_loader(df_test, labels_te, tokenizer, MAX_LEN, BATCH_SIZE)"
   ]
  },
  {
   "cell_type": "code",
   "execution_count": 230,
   "metadata": {
    "colab": {
     "base_uri": "https://localhost:8080/",
     "height": 34
    },
    "colab_type": "code",
    "executionInfo": {
     "elapsed": 6323,
     "status": "ok",
     "timestamp": 1593552762750,
     "user": {
      "displayName": "Yingji Zhang",
      "photoUrl": "https://lh3.googleusercontent.com/a-/AOh14Giy2yxVSh1vrnIZ8Au7mLgRDopnFAPXv1dEVD5P=s64",
      "userId": "02250671043329935284"
     },
     "user_tz": -60
    },
    "id": "MNniHROvQlS3",
    "outputId": "fdec9c03-1f31-44fb-acc7-ffe675c56e79"
   },
   "outputs": [
    {
     "data": {
      "text/plain": [
       "torch.Size([32, 25])"
      ]
     },
     "execution_count": 230,
     "metadata": {
      "tags": []
     },
     "output_type": "execute_result"
    }
   ],
   "source": [
    "next(iter(train_loader))['targets'].shape"
   ]
  },
  {
   "cell_type": "code",
   "execution_count": 231,
   "metadata": {
    "colab": {},
    "colab_type": "code",
    "executionInfo": {
     "elapsed": 6314,
     "status": "ok",
     "timestamp": 1593552762751,
     "user": {
      "displayName": "Yingji Zhang",
      "photoUrl": "https://lh3.googleusercontent.com/a-/AOh14Giy2yxVSh1vrnIZ8Au7mLgRDopnFAPXv1dEVD5P=s64",
      "userId": "02250671043329935284"
     },
     "user_tz": -60
    },
    "id": "1wEKxRc_Qp1A"
   },
   "outputs": [],
   "source": [
    "from transformers import BertForSequenceClassification"
   ]
  },
  {
   "cell_type": "code",
   "execution_count": 232,
   "metadata": {
    "colab": {},
    "colab_type": "code",
    "executionInfo": {
     "elapsed": 6309,
     "status": "ok",
     "timestamp": 1593552762751,
     "user": {
      "displayName": "Yingji Zhang",
      "photoUrl": "https://lh3.googleusercontent.com/a-/AOh14Giy2yxVSh1vrnIZ8Au7mLgRDopnFAPXv1dEVD5P=s64",
      "userId": "02250671043329935284"
     },
     "user_tz": -60
    },
    "id": "tBqZ20CYQ696"
   },
   "outputs": [],
   "source": [
    "device = 'cuda'"
   ]
  },
  {
   "cell_type": "code",
   "execution_count": 233,
   "metadata": {
    "colab": {},
    "colab_type": "code",
    "executionInfo": {
     "elapsed": 6305,
     "status": "ok",
     "timestamp": 1593552762752,
     "user": {
      "displayName": "Yingji Zhang",
      "photoUrl": "https://lh3.googleusercontent.com/a-/AOh14Giy2yxVSh1vrnIZ8Au7mLgRDopnFAPXv1dEVD5P=s64",
      "userId": "02250671043329935284"
     },
     "user_tz": -60
    },
    "id": "wW9duT84RNTF"
   },
   "outputs": [],
   "source": [
    "class BertClassifier(nn.Module):\n",
    "    def __init__(self, n_class):\n",
    "        super(BertClassifier, self).__init__()\n",
    "        self.bert = BertModel.from_pretrained(\"bert-base-uncased\")\n",
    "        self.drop = nn.Dropout(p=0.3)\n",
    "        self.out = nn.Linear(self.bert.config.hidden_size, n_class)\n",
    "        \n",
    "    def forward(self, input_ids, attention_mask):\n",
    "        _, pooled_output = self.bert(\n",
    "            input_ids = input_ids,\n",
    "            attention_mask = attention_mask\n",
    "        )\n",
    "        output = self.drop(pooled_output)\n",
    "        output1 = self.out(output)\n",
    "        return output1"
   ]
  },
  {
   "cell_type": "code",
   "execution_count": 234,
   "metadata": {
    "colab": {},
    "colab_type": "code",
    "executionInfo": {
     "elapsed": 9927,
     "status": "ok",
     "timestamp": 1593552766379,
     "user": {
      "displayName": "Yingji Zhang",
      "photoUrl": "https://lh3.googleusercontent.com/a-/AOh14Giy2yxVSh1vrnIZ8Au7mLgRDopnFAPXv1dEVD5P=s64",
      "userId": "02250671043329935284"
     },
     "user_tz": -60
    },
    "id": "rRPHtU8fQ8o3"
   },
   "outputs": [],
   "source": [
    "model = BertClassifier(25).to(device)"
   ]
  },
  {
   "cell_type": "code",
   "execution_count": 235,
   "metadata": {
    "colab": {
     "base_uri": "https://localhost:8080/",
     "height": 85
    },
    "colab_type": "code",
    "executionInfo": {
     "elapsed": 9922,
     "status": "ok",
     "timestamp": 1593552766380,
     "user": {
      "displayName": "Yingji Zhang",
      "photoUrl": "https://lh3.googleusercontent.com/a-/AOh14Giy2yxVSh1vrnIZ8Au7mLgRDopnFAPXv1dEVD5P=s64",
      "userId": "02250671043329935284"
     },
     "user_tz": -60
    },
    "id": "U3TbCF-HSxve",
    "outputId": "092d173b-ffb0-4920-f1c4-1d1f007f3ff1"
   },
   "outputs": [
    {
     "data": {
      "text/plain": [
       "tensor([0.0213, 0.0016, 0.0224, 0.0324, 0.0110, 0.0178, 0.0798, 0.0559, 0.0019,\n",
       "        0.0807, 0.0026, 0.0844, 0.0742, 0.0022, 0.1038, 0.0089, 0.1129, 0.0180,\n",
       "        0.0316, 0.0032, 0.0994, 0.0169, 0.0811, 0.0019, 0.0338],\n",
       "       device='cuda:0', dtype=torch.float64)"
      ]
     },
     "execution_count": 235,
     "metadata": {
      "tags": []
     },
     "output_type": "execute_result"
    }
   ],
   "source": [
    "# for imbalance dataset. reduction = 'none' in loss function.\n",
    "weight = torch.tensor(labels_tr.sum(axis=0)/sum(labels_tr.sum(axis=0))).to(device)\n",
    "\n",
    "weight"
   ]
  },
  {
   "cell_type": "code",
   "execution_count": 236,
   "metadata": {
    "colab": {},
    "colab_type": "code",
    "executionInfo": {
     "elapsed": 9913,
     "status": "ok",
     "timestamp": 1593552766381,
     "user": {
      "displayName": "Yingji Zhang",
      "photoUrl": "https://lh3.googleusercontent.com/a-/AOh14Giy2yxVSh1vrnIZ8Au7mLgRDopnFAPXv1dEVD5P=s64",
      "userId": "02250671043329935284"
     },
     "user_tz": -60
    },
    "id": "NLEuNzz_Rd2b"
   },
   "outputs": [],
   "source": [
    "def train(model, data_loader, loss_fn, optimizer, device, scheduler, n_examples):\n",
    "    model = model.train()\n",
    "    losses = 0\n",
    "    correct_predictions = 0\n",
    "    for d in data_loader:\n",
    "        optimizer.zero_grad()\n",
    "        \n",
    "        input_ids = d['input_ids'].to(device)\n",
    "        attention_mask = d['attention_mask'].to(device)\n",
    "        targets = d['targets'].to(device)\n",
    "        \n",
    "        output = model(input_ids = input_ids, attention_mask = attention_mask)\n",
    "        loss = loss_fn(output, targets)\n",
    "        loss = (loss * weight).mean()\n",
    "        loss.backward()\n",
    "\n",
    "        nn.utils.clip_grad_norm_(model.parameters(), max_norm=1.0)\n",
    "        optimizer.step()\n",
    "        scheduler.step()\n",
    "\n",
    "        losses+=loss.item()\n",
    "    return losses*32/len(data_loader)"
   ]
  },
  {
   "cell_type": "code",
   "execution_count": 237,
   "metadata": {
    "colab": {},
    "colab_type": "code",
    "executionInfo": {
     "elapsed": 9908,
     "status": "ok",
     "timestamp": 1593552766381,
     "user": {
      "displayName": "Yingji Zhang",
      "photoUrl": "https://lh3.googleusercontent.com/a-/AOh14Giy2yxVSh1vrnIZ8Au7mLgRDopnFAPXv1dEVD5P=s64",
      "userId": "02250671043329935284"
     },
     "user_tz": -60
    },
    "id": "Hp6sYNnWS4LM"
   },
   "outputs": [],
   "source": [
    "def val(model, data_loader, loss_fn, device, n_examples):\n",
    "    model = model.eval()\n",
    "    losses = 0\n",
    "    preds_list, targets_list, prob_list = [], [], []\n",
    "    \n",
    "    with torch.no_grad():\n",
    "        for d in data_loader:\n",
    "            input_ids = d['input_ids'].to(device)\n",
    "            attention_mask = d['attention_mask'].to(device)\n",
    "            targets = d['targets'].to(device)\n",
    "\n",
    "            output = model(input_ids = input_ids, attention_mask = attention_mask)\n",
    "            loss = loss_fn(output, targets)\n",
    "            loss = (loss * weight).mean()\n",
    "            losses+=loss.item()\n",
    "\n",
    "            preds = 1/(1 + np.exp(-output.cpu().numpy()))\n",
    "            preds_list.extend(preds)\n",
    "\n",
    "            targets_list.extend(targets.cpu().numpy())\n",
    "\n",
    "    return losses*32/len(data_loader), preds_list, targets_list"
   ]
  },
  {
   "cell_type": "code",
   "execution_count": 238,
   "metadata": {
    "colab": {
     "base_uri": "https://localhost:8080/",
     "height": 576,
     "referenced_widgets": [
      "78f7cd204a0b410cabb4b55d571d4a37",
      "8f4a4e0e23f44172ace5dfc99a6c0282",
      "a74c5473a4be4fb898e81aa9fb25576a",
      "c230c0e7819c4bb59457bb4ae1f2098c",
      "e24cd62dfaa94e3b8576f5f110638bce",
      "cf7e0d7436644838b4c89ed5dffaa7a4",
      "1121e50a3f2e4a8793b025362987a1a3",
      "67a28e11367d48809ec992c6b831eda4"
     ]
    },
    "colab_type": "code",
    "executionInfo": {
     "elapsed": 3850343,
     "status": "ok",
     "timestamp": 1593560523660,
     "user": {
      "displayName": "Yingji Zhang",
      "photoUrl": "https://lh3.googleusercontent.com/a-/AOh14Giy2yxVSh1vrnIZ8Au7mLgRDopnFAPXv1dEVD5P=s64",
      "userId": "02250671043329935284"
     },
     "user_tz": -60
    },
    "id": "8eDU0O5bTEXH",
    "outputId": "95c2ec74-a1be-407b-98f4-5027777d021e"
   },
   "outputs": [
    {
     "data": {
      "application/vnd.jupyter.widget-view+json": {
       "model_id": "78f7cd204a0b410cabb4b55d571d4a37",
       "version_major": 2,
       "version_minor": 0
      },
      "text/plain": [
       "HBox(children=(FloatProgress(value=0.0, max=30.0), HTML(value='')))"
      ]
     },
     "metadata": {
      "tags": []
     },
     "output_type": "display_data"
    },
    {
     "name": "stdout",
     "output_type": "stream",
     "text": [
      "train loss:  0.5335907218803123 val loss: 0.6052958592666067\n",
      "train loss:  0.5430526223471498 val loss: 0.5874398947459752\n",
      "train loss:  0.555466300249456 val loss: 0.6283879879682004\n",
      "train loss:  0.5627616847061283 val loss: 0.6237336368419363\n",
      "train loss:  0.5538016298012515 val loss: 0.5888230177415146\n",
      "train loss:  0.558915893669623 val loss: 0.6015282828040523\n",
      "train loss:  0.5689463767959855 val loss: 0.6087190594278643\n",
      "train loss:  0.5753782994436477 val loss: 0.614235988215636\n",
      "train loss:  0.5683067225668791 val loss: 0.6139137542652953\n",
      "train loss:  0.5637181139775412 val loss: 0.5805477300627129\n",
      "train loss:  0.567549701090886 val loss: 0.5982423058167727\n",
      "train loss:  0.5647004069505871 val loss: 0.5989316823834291\n",
      "train loss:  0.567789865968097 val loss: 0.589352054154694\n",
      "train loss:  0.5744944406272668 val loss: 0.5965083712684038\n",
      "train loss:  0.5810488564319731 val loss: 0.5952615934328727\n",
      "train loss:  0.5847185514356524 val loss: 0.5989966992311001\n",
      "train loss:  0.584194168553035 val loss: 0.5958692365176295\n",
      "train loss:  0.583288992632741 val loss: 0.5968641355846944\n",
      "train loss:  0.5838313097650493 val loss: 0.598799589259791\n",
      "train loss:  0.586206370195773 val loss: 0.5929667081710557\n",
      "train loss:  0.5866074442299757 val loss: 0.5810927536702939\n",
      "train loss:  0.5866760274328454 val loss: 0.5765729573825084\n",
      "train loss:  0.5876832728036614 val loss: 0.572638304303928\n",
      "train loss:  0.587872400542633 val loss: 0.5708862276798734\n",
      "train loss:  0.5880079051830874 val loss: 0.5698729085068592\n",
      "train loss:  0.5875144038825572 val loss: 0.569192243560729\n",
      "train loss:  0.5874411351492521 val loss: 0.5688250338114093\n",
      "train loss:  0.5872096729896217 val loss: 0.5689695006706667\n",
      "train loss:  0.5865216187314573 val loss: 0.5694855872624544\n",
      "train loss:  0.5856849291467467 val loss: 0.5705969420295252\n",
      "\n"
     ]
    }
   ],
   "source": [
    "EPOCHS = 30\n",
    "train_loss_list, val_loss_list = [], []\n",
    "\n",
    "optimizer = AdamW(model.parameters(), lr=2e-5, correct_bias=False)\n",
    "total_steps = len(train_loader) * EPOCHS\n",
    "\n",
    "scheduler = get_linear_schedule_with_warmup(\n",
    "  optimizer,\n",
    "  num_warmup_steps=0,\n",
    "  num_training_steps=total_steps\n",
    ")\n",
    "\n",
    "loss_fn = nn.BCEWithLogitsLoss(reduction='none').to(device) \n",
    "\n",
    "for epoch in tqdm(range(EPOCHS)):\n",
    "    train_loss = train(\n",
    "        model,\n",
    "        train_loader,\n",
    "        loss_fn,\n",
    "        optimizer,\n",
    "        device,\n",
    "        scheduler,\n",
    "        len(df_train)\n",
    "    )\n",
    "\n",
    "    val_loss, preds_list, targets_list = val(\n",
    "        model,\n",
    "        test_loader,\n",
    "        loss_fn,\n",
    "        device,\n",
    "        len(df_test)\n",
    "    )\n",
    "\n",
    "    train_loss_list.append(train_loss)\n",
    "    val_loss_list.append(val_loss)\n",
    "    \n",
    "    print(\"train loss: \", train_loss, \"val loss:\", val_loss)"
   ]
  },
  {
   "cell_type": "markdown",
   "metadata": {},
   "source": [
    "### Result:"
   ]
  },
  {
   "cell_type": "code",
   "execution_count": 239,
   "metadata": {
    "colab": {
     "base_uri": "https://localhost:8080/",
     "height": 353
    },
    "colab_type": "code",
    "executionInfo": {
     "elapsed": 53,
     "status": "ok",
     "timestamp": 1593560523661,
     "user": {
      "displayName": "Yingji Zhang",
      "photoUrl": "https://lh3.googleusercontent.com/a-/AOh14Giy2yxVSh1vrnIZ8Au7mLgRDopnFAPXv1dEVD5P=s64",
      "userId": "02250671043329935284"
     },
     "user_tz": -60
    },
    "id": "xgKxtosRJNOX",
    "outputId": "428b84a1-c273-4de3-a01f-201761ecacce"
   },
   "outputs": [
    {
     "data": {
      "text/plain": [
       "<matplotlib.legend.Legend at 0x7f4448804d68>"
      ]
     },
     "execution_count": 239,
     "metadata": {
      "tags": []
     },
     "output_type": "execute_result"
    },
    {
     "data": {
      "image/png": "[encoded data removed]",
      "text/plain": [
       "<Figure size 360x360 with 1 Axes>"
      ]
     },
     "metadata": {
      "needs_background": "light",
      "tags": []
     },
     "output_type": "display_data"
    }
   ],
   "source": [
    "import matplotlib.pyplot as plt\n",
    "plt.figure(figsize=(5,5))\n",
    "plt.plot([i for i in range(EPOCHS)], train_loss_list, label=\"train\")\n",
    "plt.plot([i for i in range(EPOCHS)], val_loss_list, label=\"test\")\n",
    "plt.title(\"train and test loss\")\n",
    "plt.legend()"
   ]
  },
  {
   "cell_type": "code",
   "execution_count": 240,
   "metadata": {
    "colab": {},
    "colab_type": "code",
    "executionInfo": {
     "elapsed": 40,
     "status": "ok",
     "timestamp": 1593560523661,
     "user": {
      "displayName": "Yingji Zhang",
      "photoUrl": "https://lh3.googleusercontent.com/a-/AOh14Giy2yxVSh1vrnIZ8Au7mLgRDopnFAPXv1dEVD5P=s64",
      "userId": "02250671043329935284"
     },
     "user_tz": -60
    },
    "id": "peDAUXsPFeZl"
   },
   "outputs": [],
   "source": [
    "preds_te_arr = np.array(preds_list).reshape((-1, 25))\n",
    "\n",
    "preds_te_arr[preds_te_arr >= 0.5] = 1\n",
    "preds_te_arr[preds_te_arr < 0.5] = 0\n",
    "\n",
    "te_y = np.array(targets_list).reshape((-1, 25))\n"
   ]
  },
  {
   "cell_type": "code",
   "execution_count": 241,
   "metadata": {
    "colab": {
     "base_uri": "https://localhost:8080/",
     "height": 51
    },
    "colab_type": "code",
    "executionInfo": {
     "elapsed": 30,
     "status": "ok",
     "timestamp": 1593560523662,
     "user": {
      "displayName": "Yingji Zhang",
      "photoUrl": "https://lh3.googleusercontent.com/a-/AOh14Giy2yxVSh1vrnIZ8Au7mLgRDopnFAPXv1dEVD5P=s64",
      "userId": "02250671043329935284"
     },
     "user_tz": -60
    },
    "id": "swDUR3gLGJv4",
    "outputId": "94bb7eb4-8967-449f-8c7e-3c3cb44fa0fc"
   },
   "outputs": [
    {
     "name": "stdout",
     "output_type": "stream",
     "text": [
      "Macro-average F1-score:  0.47235981051999265\n",
      "Average accuracy:  0.9036605942046704\n"
     ]
    }
   ],
   "source": [
    "from sklearn.metrics import accuracy_score, f1_score\n",
    "\n",
    "score = 0\n",
    "acc = 0\n",
    "\n",
    "for i in range(preds_te_arr.shape[1]):\n",
    "    score += f1_score(te_y[:, i], preds_te_arr[:, i],average='macro')\n",
    "    acc += accuracy_score(te_y[:, i], preds_te_arr[:, i])\n",
    "    \n",
    "print(\"Macro-average F1-score: \", score/25)\n",
    "print(\"Average accuracy: \", acc/25)"
   ]
  },
  {
   "cell_type": "code",
   "execution_count": 241,
   "metadata": {
    "colab": {},
    "colab_type": "code",
    "executionInfo": {
     "elapsed": 20,
     "status": "ok",
     "timestamp": 1593560523662,
     "user": {
      "displayName": "Yingji Zhang",
      "photoUrl": "https://lh3.googleusercontent.com/a-/AOh14Giy2yxVSh1vrnIZ8Au7mLgRDopnFAPXv1dEVD5P=s64",
      "userId": "02250671043329935284"
     },
     "user_tz": -60
    },
    "id": "J1ER0bzrAOxi"
   },
   "outputs": [],
   "source": []
  }
 ],
 "metadata": {
  "accelerator": "GPU",
  "colab": {
   "authorship_tag": "ABX9TyNz4sY+MDKUJW94JGbMhvvF",
   "collapsed_sections": [],
   "name": "system-5.ipynb",
   "provenance": []
  },
  "kernelspec": {
   "display_name": "Python 3",
   "language": "python",
   "name": "python3"
  },
  "language_info": {
   "codemirror_mode": {
    "name": "ipython",
    "version": 3
   },
   "file_extension": ".py",
   "mimetype": "text/x-python",
   "name": "python",
   "nbconvert_exporter": "python",
   "pygments_lexer": "ipython3",
   "version": "3.7.3"
  },
  "widgets": {
   "application/vnd.jupyter.widget-state+json": {
    "1121e50a3f2e4a8793b025362987a1a3": {
     "model_module": "@jupyter-widgets/controls",
     "model_name": "DescriptionStyleModel",
     "state": {
      "_model_module": "@jupyter-widgets/controls",
      "_model_module_version": "1.5.0",
      "_model_name": "DescriptionStyleModel",
      "_view_count": null,
      "_view_module": "@jupyter-widgets/base",
      "_view_module_version": "1.2.0",
      "_view_name": "StyleView",
      "description_width": ""
     }
    },
    "67a28e11367d48809ec992c6b831eda4": {
     "model_module": "@jupyter-widgets/base",
     "model_name": "LayoutModel",
     "state": {
      "_model_module": "@jupyter-widgets/base",
      "_model_module_version": "1.2.0",
      "_model_name": "LayoutModel",
      "_view_count": null,
      "_view_module": "@jupyter-widgets/base",
      "_view_module_version": "1.2.0",
      "_view_name": "LayoutView",
      "align_content": null,
      "align_items": null,
      "align_self": null,
      "border": null,
      "bottom": null,
      "display": null,
      "flex": null,
      "flex_flow": null,
      "grid_area": null,
      "grid_auto_columns": null,
      "grid_auto_flow": null,
      "grid_auto_rows": null,
      "grid_column": null,
      "grid_gap": null,
      "grid_row": null,
      "grid_template_areas": null,
      "grid_template_columns": null,
      "grid_template_rows": null,
      "height": null,
      "justify_content": null,
      "justify_items": null,
      "left": null,
      "margin": null,
      "max_height": null,
      "max_width": null,
      "min_height": null,
      "min_width": null,
      "object_fit": null,
      "object_position": null,
      "order": null,
      "overflow": null,
      "overflow_x": null,
      "overflow_y": null,
      "padding": null,
      "right": null,
      "top": null,
      "visibility": null,
      "width": null
     }
    },
    "78f7cd204a0b410cabb4b55d571d4a37": {
     "model_module": "@jupyter-widgets/controls",
     "model_name": "HBoxModel",
     "state": {
      "_dom_classes": [],
      "_model_module": "@jupyter-widgets/controls",
      "_model_module_version": "1.5.0",
      "_model_name": "HBoxModel",
      "_view_count": null,
      "_view_module": "@jupyter-widgets/controls",
      "_view_module_version": "1.5.0",
      "_view_name": "HBoxView",
      "box_style": "",
      "children": [
       "IPY_MODEL_a74c5473a4be4fb898e81aa9fb25576a",
       "IPY_MODEL_c230c0e7819c4bb59457bb4ae1f2098c"
      ],
      "layout": "IPY_MODEL_8f4a4e0e23f44172ace5dfc99a6c0282"
     }
    },
    "8f4a4e0e23f44172ace5dfc99a6c0282": {
     "model_module": "@jupyter-widgets/base",
     "model_name": "LayoutModel",
     "state": {
      "_model_module": "@jupyter-widgets/base",
      "_model_module_version": "1.2.0",
      "_model_name": "LayoutModel",
      "_view_count": null,
      "_view_module": "@jupyter-widgets/base",
      "_view_module_version": "1.2.0",
      "_view_name": "LayoutView",
      "align_content": null,
      "align_items": null,
      "align_self": null,
      "border": null,
      "bottom": null,
      "display": null,
      "flex": null,
      "flex_flow": null,
      "grid_area": null,
      "grid_auto_columns": null,
      "grid_auto_flow": null,
      "grid_auto_rows": null,
      "grid_column": null,
      "grid_gap": null,
      "grid_row": null,
      "grid_template_areas": null,
      "grid_template_columns": null,
      "grid_template_rows": null,
      "height": null,
      "justify_content": null,
      "justify_items": null,
      "left": null,
      "margin": null,
      "max_height": null,
      "max_width": null,
      "min_height": null,
      "min_width": null,
      "object_fit": null,
      "object_position": null,
      "order": null,
      "overflow": null,
      "overflow_x": null,
      "overflow_y": null,
      "padding": null,
      "right": null,
      "top": null,
      "visibility": null,
      "width": null
     }
    },
    "a74c5473a4be4fb898e81aa9fb25576a": {
     "model_module": "@jupyter-widgets/controls",
     "model_name": "FloatProgressModel",
     "state": {
      "_dom_classes": [],
      "_model_module": "@jupyter-widgets/controls",
      "_model_module_version": "1.5.0",
      "_model_name": "FloatProgressModel",
      "_view_count": null,
      "_view_module": "@jupyter-widgets/controls",
      "_view_module_version": "1.5.0",
      "_view_name": "ProgressView",
      "bar_style": "success",
      "description": "100%",
      "description_tooltip": null,
      "layout": "IPY_MODEL_cf7e0d7436644838b4c89ed5dffaa7a4",
      "max": 30,
      "min": 0,
      "orientation": "horizontal",
      "style": "IPY_MODEL_e24cd62dfaa94e3b8576f5f110638bce",
      "value": 30
     }
    },
    "c230c0e7819c4bb59457bb4ae1f2098c": {
     "model_module": "@jupyter-widgets/controls",
     "model_name": "HTMLModel",
     "state": {
      "_dom_classes": [],
      "_model_module": "@jupyter-widgets/controls",
      "_model_module_version": "1.5.0",
      "_model_name": "HTMLModel",
      "_view_count": null,
      "_view_module": "@jupyter-widgets/controls",
      "_view_module_version": "1.5.0",
      "_view_name": "HTMLView",
      "description": "",
      "description_tooltip": null,
      "layout": "IPY_MODEL_67a28e11367d48809ec992c6b831eda4",
      "placeholder": "​",
      "style": "IPY_MODEL_1121e50a3f2e4a8793b025362987a1a3",
      "value": " 30/30 [2:09:16&lt;00:00, 258.56s/it]"
     }
    },
    "cf7e0d7436644838b4c89ed5dffaa7a4": {
     "model_module": "@jupyter-widgets/base",
     "model_name": "LayoutModel",
     "state": {
      "_model_module": "@jupyter-widgets/base",
      "_model_module_version": "1.2.0",
      "_model_name": "LayoutModel",
      "_view_count": null,
      "_view_module": "@jupyter-widgets/base",
      "_view_module_version": "1.2.0",
      "_view_name": "LayoutView",
      "align_content": null,
      "align_items": null,
      "align_self": null,
      "border": null,
      "bottom": null,
      "display": null,
      "flex": null,
      "flex_flow": null,
      "grid_area": null,
      "grid_auto_columns": null,
      "grid_auto_flow": null,
      "grid_auto_rows": null,
      "grid_column": null,
      "grid_gap": null,
      "grid_row": null,
      "grid_template_areas": null,
      "grid_template_columns": null,
      "grid_template_rows": null,
      "height": null,
      "justify_content": null,
      "justify_items": null,
      "left": null,
      "margin": null,
      "max_height": null,
      "max_width": null,
      "min_height": null,
      "min_width": null,
      "object_fit": null,
      "object_position": null,
      "order": null,
      "overflow": null,
      "overflow_x": null,
      "overflow_y": null,
      "padding": null,
      "right": null,
      "top": null,
      "visibility": null,
      "width": null
     }
    },
    "e24cd62dfaa94e3b8576f5f110638bce": {
     "model_module": "@jupyter-widgets/controls",
     "model_name": "ProgressStyleModel",
     "state": {
      "_model_module": "@jupyter-widgets/controls",
      "_model_module_version": "1.5.0",
      "_model_name": "ProgressStyleModel",
      "_view_count": null,
      "_view_module": "@jupyter-widgets/base",
      "_view_module_version": "1.2.0",
      "_view_name": "StyleView",
      "bar_color": null,
      "description_width": "initial"
     }
    }
   }
  }
 },
 "nbformat": 4,
 "nbformat_minor": 1
}
