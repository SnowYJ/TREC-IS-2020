{
 "cells": [
  {
   "cell_type": "markdown",
   "metadata": {},
   "source": [
    "## Logistic Regression - Feature Engineering"
   ]
  },
  {
   "cell_type": "code",
   "execution_count": 61,
   "metadata": {},
   "outputs": [],
   "source": [
    "import pandas as pd\n",
    "from sklearn.feature_extraction.text import TfidfVectorizer\n",
    "from sklearn.feature_extraction.text import CountVectorizer\n",
    "from collections import Counter\n",
    "from sklearn import preprocessing\n",
    "import numpy as np\n",
    "from sklearn.linear_model import LogisticRegression\n",
    "from sklearn.metrics import accuracy_score, precision_score, recall_score, f1_score\n",
    "import ast\n",
    "from sklearn.preprocessing import MultiLabelBinarizer\n",
    "from sklearn.multiclass import OneVsRestClassifier\n",
    "from sklearn.ensemble import RandomForestClassifier\n",
    "import matplotlib.pyplot as plt\n",
    "import heapq\n",
    "from tqdm.notebook import tqdm\n",
    "from warnings import filterwarnings"
   ]
  },
  {
   "cell_type": "code",
   "execution_count": 39,
   "metadata": {},
   "outputs": [],
   "source": [
    "dataset = pd.read_csv(\"pre-processed data/label_feature_dataset.csv\")\n",
    "testset = pd.read_csv(\"pre-processed data/label_feature_testset.csv\")\n",
    "\n",
    "dataset_1 = pd.read_csv(\"pre-processed data/new_label_dataset.csv\", sep=',')\n",
    "testset_1 = pd.read_csv(\"pre-processed data/new_label_testset.csv\", sep=',')\n",
    "\n",
    "dataset_1 = dataset_1[dataset_1['priority'] != 'Unknown']\n",
    "testset_1 = testset_1[testset_1['priority'] != 'Unknown']\n",
    "\n",
    "\n",
    "dataset = dataset[dataset['priority'] != 'Unknown']\n",
    "testset = testset[testset['priority'] != 'Unknown']"
   ]
  },
  {
   "cell_type": "code",
   "execution_count": 40,
   "metadata": {},
   "outputs": [
    {
     "data": {
      "text/html": [
       "<div>\n",
       "<style scoped>\n",
       "    .dataframe tbody tr th:only-of-type {\n",
       "        vertical-align: middle;\n",
       "    }\n",
       "\n",
       "    .dataframe tbody tr th {\n",
       "        vertical-align: top;\n",
       "    }\n",
       "\n",
       "    .dataframe thead th {\n",
       "        text-align: right;\n",
       "    }\n",
       "</style>\n",
       "<table border=\"1\" class=\"dataframe\">\n",
       "  <thead>\n",
       "    <tr style=\"text-align: right;\">\n",
       "      <th></th>\n",
       "      <th>loc</th>\n",
       "      <th>norp</th>\n",
       "      <th>person</th>\n",
       "      <th>org</th>\n",
       "      <th>friends</th>\n",
       "      <th>followers</th>\n",
       "      <th>retweet</th>\n",
       "      <th>hashtag</th>\n",
       "      <th>words</th>\n",
       "      <th>upper case words</th>\n",
       "      <th>emoji</th>\n",
       "      <th>urls</th>\n",
       "      <th>pos</th>\n",
       "      <th>neg</th>\n",
       "      <th>categories</th>\n",
       "      <th>priority</th>\n",
       "    </tr>\n",
       "  </thead>\n",
       "  <tbody>\n",
       "    <tr>\n",
       "      <th>0</th>\n",
       "      <td>0</td>\n",
       "      <td>1</td>\n",
       "      <td>0</td>\n",
       "      <td>0</td>\n",
       "      <td>3</td>\n",
       "      <td>3</td>\n",
       "      <td>1</td>\n",
       "      <td>2</td>\n",
       "      <td>15</td>\n",
       "      <td>0</td>\n",
       "      <td>0</td>\n",
       "      <td>1</td>\n",
       "      <td>0</td>\n",
       "      <td>2</td>\n",
       "      <td>['ThirdPartyObservation', 'Factoid', 'News']</td>\n",
       "      <td>Low</td>\n",
       "    </tr>\n",
       "    <tr>\n",
       "      <th>1</th>\n",
       "      <td>0</td>\n",
       "      <td>1</td>\n",
       "      <td>0</td>\n",
       "      <td>0</td>\n",
       "      <td>1</td>\n",
       "      <td>4</td>\n",
       "      <td>1</td>\n",
       "      <td>0</td>\n",
       "      <td>6</td>\n",
       "      <td>0</td>\n",
       "      <td>0</td>\n",
       "      <td>1</td>\n",
       "      <td>0</td>\n",
       "      <td>1</td>\n",
       "      <td>['ThirdPartyObservation', 'Factoid', 'News']</td>\n",
       "      <td>Low</td>\n",
       "    </tr>\n",
       "    <tr>\n",
       "      <th>2</th>\n",
       "      <td>2</td>\n",
       "      <td>0</td>\n",
       "      <td>0</td>\n",
       "      <td>1</td>\n",
       "      <td>1</td>\n",
       "      <td>2</td>\n",
       "      <td>1</td>\n",
       "      <td>0</td>\n",
       "      <td>20</td>\n",
       "      <td>1</td>\n",
       "      <td>0</td>\n",
       "      <td>1</td>\n",
       "      <td>0</td>\n",
       "      <td>0</td>\n",
       "      <td>['ThirdPartyObservation', 'Factoid', 'News']</td>\n",
       "      <td>Low</td>\n",
       "    </tr>\n",
       "  </tbody>\n",
       "</table>\n",
       "</div>"
      ],
      "text/plain": [
       "   loc  norp  person  org  friends  followers  retweet  hashtag  words  \\\n",
       "0    0     1       0    0        3          3        1        2     15   \n",
       "1    0     1       0    0        1          4        1        0      6   \n",
       "2    2     0       0    1        1          2        1        0     20   \n",
       "\n",
       "   upper case words  emoji  urls  pos  neg  \\\n",
       "0                 0      0     1    0    2   \n",
       "1                 0      0     1    0    1   \n",
       "2                 1      0     1    0    0   \n",
       "\n",
       "                                     categories priority  \n",
       "0  ['ThirdPartyObservation', 'Factoid', 'News']      Low  \n",
       "1  ['ThirdPartyObservation', 'Factoid', 'News']      Low  \n",
       "2  ['ThirdPartyObservation', 'Factoid', 'News']      Low  "
      ]
     },
     "execution_count": 40,
     "metadata": {},
     "output_type": "execute_result"
    }
   ],
   "source": [
    "dataset[:3]"
   ]
  },
  {
   "cell_type": "code",
   "execution_count": 41,
   "metadata": {},
   "outputs": [
    {
     "data": {
      "text/html": [
       "<div>\n",
       "<style scoped>\n",
       "    .dataframe tbody tr th:only-of-type {\n",
       "        vertical-align: middle;\n",
       "    }\n",
       "\n",
       "    .dataframe tbody tr th {\n",
       "        vertical-align: top;\n",
       "    }\n",
       "\n",
       "    .dataframe thead th {\n",
       "        text-align: right;\n",
       "    }\n",
       "</style>\n",
       "<table border=\"1\" class=\"dataframe\">\n",
       "  <thead>\n",
       "    <tr style=\"text-align: right;\">\n",
       "      <th></th>\n",
       "      <th>Unnamed: 0</th>\n",
       "      <th>content</th>\n",
       "      <th>categories</th>\n",
       "      <th>priority</th>\n",
       "    </tr>\n",
       "  </thead>\n",
       "  <tbody>\n",
       "    <tr>\n",
       "      <th>0</th>\n",
       "      <td>0</td>\n",
       "      <td>philippine flood worsen death toll hit wake ge...</td>\n",
       "      <td>['ThirdPartyObservation', 'Factoid', 'News']</td>\n",
       "      <td>Low</td>\n",
       "    </tr>\n",
       "    <tr>\n",
       "      <th>1</th>\n",
       "      <td>1</td>\n",
       "      <td>philippine flood fatality hit</td>\n",
       "      <td>['ThirdPartyObservation', 'Factoid', 'News']</td>\n",
       "      <td>Low</td>\n",
       "    </tr>\n",
       "    <tr>\n",
       "      <th>2</th>\n",
       "      <td>2</td>\n",
       "      <td>luzon dam release water flood warn up manila p...</td>\n",
       "      <td>['ThirdPartyObservation', 'Factoid', 'News']</td>\n",
       "      <td>Low</td>\n",
       "    </tr>\n",
       "  </tbody>\n",
       "</table>\n",
       "</div>"
      ],
      "text/plain": [
       "   Unnamed: 0                                            content  \\\n",
       "0           0  philippine flood worsen death toll hit wake ge...   \n",
       "1           1                     philippine flood fatality hit    \n",
       "2           2  luzon dam release water flood warn up manila p...   \n",
       "\n",
       "                                     categories priority  \n",
       "0  ['ThirdPartyObservation', 'Factoid', 'News']      Low  \n",
       "1  ['ThirdPartyObservation', 'Factoid', 'News']      Low  \n",
       "2  ['ThirdPartyObservation', 'Factoid', 'News']      Low  "
      ]
     },
     "execution_count": 41,
     "metadata": {},
     "output_type": "execute_result"
    }
   ],
   "source": [
    "dataset_1[:3]"
   ]
  },
  {
   "cell_type": "code",
   "execution_count": 42,
   "metadata": {},
   "outputs": [
    {
     "name": "stdout",
     "output_type": "stream",
     "text": [
      "(29113, 4)\n",
      "(29113, 16)\n"
     ]
    }
   ],
   "source": [
    "print(dataset_1.shape)\n",
    "\n",
    "print(dataset.shape)"
   ]
  },
  {
   "cell_type": "markdown",
   "metadata": {},
   "source": [
    "## 1. Dataset: \n",
    "\n",
    "### TF-IDF dataset:"
   ]
  },
  {
   "cell_type": "code",
   "execution_count": 43,
   "metadata": {},
   "outputs": [],
   "source": [
    "# create vocab according to tf.\n",
    "count_vec = CountVectorizer(ngram_range=(1, 1), max_features=1000)\n",
    "tf = count_vec.fit_transform(dataset_1['content'].values.astype('U')).toarray()\n",
    "vocab = count_vec.get_feature_names()\n",
    "\n",
    "# train set.\n",
    "tfidf_vec = TfidfVectorizer(ngram_range=(1, 1), min_df=1, vocabulary=vocab)\n",
    "tfidf= tfidf_vec.fit_transform(dataset_1['content'].values.astype('U')).toarray()\n",
    "\n",
    "# test set.\n",
    "tfidf_vec_test = TfidfVectorizer(ngram_range=(1, 1), min_df=1, vocabulary=vocab)\n",
    "tfidf_test = tfidf_vec_test.fit_transform(testset_1['content'].values.astype('U')).toarray()"
   ]
  },
  {
   "cell_type": "code",
   "execution_count": 44,
   "metadata": {},
   "outputs": [],
   "source": [
    "dataset_tfidf = pd.DataFrame(tfidf, columns=vocab)\n",
    "testset_tfidf = pd.DataFrame(tfidf_test, columns=vocab)\n",
    "\n",
    "tr_X_1 = dataset_tfidf\n",
    "te_X_1 = testset_tfidf\n",
    "\n",
    "tr_X_1 = np.array(tr_X_1)\n",
    "te_X_1 = np.array(te_X_1)"
   ]
  },
  {
   "cell_type": "markdown",
   "metadata": {},
   "source": [
    "### Feature Engineering dataset:"
   ]
  },
  {
   "cell_type": "code",
   "execution_count": 45,
   "metadata": {},
   "outputs": [],
   "source": [
    "col, label = list(dataset.columns)[:-2], list(dataset.columns)[-2:]\n",
    "\n",
    "tr_X, tr_y = dataset[col].values, dataset[label].values\n",
    "te_X, te_y = testset[col].values, testset[label].values"
   ]
  },
  {
   "cell_type": "code",
   "execution_count": 46,
   "metadata": {},
   "outputs": [],
   "source": [
    "# range to 0 and 1.\n",
    "tr_X = preprocessing.scale(tr_X)\n",
    "te_X = preprocessing.scale(te_X)"
   ]
  },
  {
   "cell_type": "markdown",
   "metadata": {},
   "source": [
    "### Priority label:"
   ]
  },
  {
   "cell_type": "code",
   "execution_count": 47,
   "metadata": {},
   "outputs": [],
   "source": [
    "tr_prior = tr_y[:, 1]\n",
    "te_prior = te_y[:, 1]\n",
    "\n",
    "tr_prior[tr_prior == 'Critical'], te_prior[te_prior == 'Critical'] = 0, 0\n",
    "tr_prior[tr_prior == 'Low'], te_prior[te_prior == 'Low'] = 1, 1\n",
    "tr_prior[tr_prior == 'Medium'], te_prior[te_prior == 'Medium'] = 2, 2\n",
    "tr_prior[tr_prior == 'High'], te_prior[te_prior == 'High'] = 3, 3\n",
    "\n",
    "\n",
    "# error: Unknown label type: 'unknown'\n",
    "tr_prior = tr_prior.astype('int')\n",
    "te_prior = te_prior.astype('int')"
   ]
  },
  {
   "cell_type": "markdown",
   "metadata": {},
   "source": [
    "### Multi-class:"
   ]
  },
  {
   "cell_type": "code",
   "execution_count": 48,
   "metadata": {},
   "outputs": [
    {
     "name": "stdout",
     "output_type": "stream",
     "text": [
      "Accuracy: 0.8664873456412764\n",
      "Precision: 0.33277393174793996\n",
      "Recall: 0.25446184942403566\n",
      "F1-Score: 0.24552891651499206\n"
     ]
    },
    {
     "name": "stderr",
     "output_type": "stream",
     "text": [
      "/Applications/anaconda3/lib/python3.7/site-packages/sklearn/metrics/classification.py:1437: UndefinedMetricWarning: Precision is ill-defined and being set to 0.0 in labels with no predicted samples.\n",
      "  'precision', 'predicted', average, warn_for)\n",
      "/Applications/anaconda3/lib/python3.7/site-packages/sklearn/metrics/classification.py:1437: UndefinedMetricWarning: F-score is ill-defined and being set to 0.0 in labels with no predicted samples.\n",
      "  'precision', 'predicted', average, warn_for)\n"
     ]
    }
   ],
   "source": [
    "# logistic regression.\n",
    "clf = LogisticRegression(random_state=0, solver='saga', multi_class='auto', max_iter=300).fit(tr_X, tr_prior)\n",
    "preds_te = clf.predict(te_X)\n",
    "\n",
    "print('Accuracy:', accuracy_score(te_prior,preds_te))\n",
    "print('Precision:', precision_score(te_prior,preds_te,average='macro'))\n",
    "print('Recall:', recall_score(te_prior,preds_te,average='macro'))\n",
    "print('F1-Score:', f1_score(te_prior,preds_te,average='macro'))\n",
    "\n",
    "# Accuracy: 0.5104536006846803\n",
    "# Precision: 0.3320920387771979\n",
    "# Recall: 0.6100083806810869\n",
    "# F1-Score: 0.3229423704779127"
   ]
  },
  {
   "cell_type": "code",
   "execution_count": 49,
   "metadata": {},
   "outputs": [
    {
     "name": "stdout",
     "output_type": "stream",
     "text": [
      "RMSE all:  0.04717388891112112\n"
     ]
    }
   ],
   "source": [
    "prob = clf.predict_proba(te_X)\n",
    "score = 0\n",
    "\n",
    "for i in range(len(te_prior)):\n",
    "    if te_prior[i] == 0: weight = 1\n",
    "    elif te_prior[i] == 1: weight = 0.25\n",
    "    elif te_prior[i] == 2: weight = 0.5\n",
    "    elif te_prior[i] == 3: weight = 0.75\n",
    "    else: weight = 0\n",
    "    \n",
    "    score += (weight - prob[i, te_prior[i]] * weight)**2\n",
    "    \n",
    "score /= len(te_prior)\n",
    "\n",
    "print(\"RMSE all: \", score)"
   ]
  },
  {
   "cell_type": "markdown",
   "metadata": {},
   "source": [
    "## Feature Importance:"
   ]
  },
  {
   "cell_type": "code",
   "execution_count": 50,
   "metadata": {},
   "outputs": [],
   "source": [
    "# print(list(dataset.columns)[np.argmax(clf.coef_[0])])\n",
    "# print(list(dataset.columns)[np.argmax(clf.coef_[1])])\n",
    "# print(list(dataset.columns)[np.argmax(clf.coef_[2])])\n",
    "# print(list(dataset.columns)[np.argmax(clf.coef_[3])])"
   ]
  },
  {
   "cell_type": "code",
   "execution_count": 51,
   "metadata": {},
   "outputs": [
    {
     "data": {
      "text/plain": [
       "array([0.0246801 , 0.02072969, 0.06193434, 0.06470746, 0.07303657,\n",
       "       0.09731199, 0.04318811, 0.09700833, 0.22359552, 0.09598549,\n",
       "       0.02067929, 0.10430151, 0.02412134, 0.04872025])"
      ]
     },
     "execution_count": 51,
     "metadata": {},
     "output_type": "execute_result"
    }
   ],
   "source": [
    "from sklearn.ensemble import GradientBoostingClassifier\n",
    "import matplotlib.pyplot as plt\n",
    "\n",
    "# fit model no training data\n",
    "model = GradientBoostingClassifier(n_estimators=100, max_depth=10, random_state=2020).fit(tr_X, tr_prior)\n",
    "\n",
    "model.feature_importances_"
   ]
  },
  {
   "cell_type": "code",
   "execution_count": 52,
   "metadata": {},
   "outputs": [
    {
     "data": {
      "image/png": "[encoded data removed]",
      "text/plain": [
       "<Figure size 432x288 with 1 Axes>"
      ]
     },
     "metadata": {
      "needs_background": "light"
     },
     "output_type": "display_data"
    },
    {
     "data": {
      "text/plain": [
       "<Figure size 432x288 with 0 Axes>"
      ]
     },
     "metadata": {},
     "output_type": "display_data"
    }
   ],
   "source": [
    "plt.barh(list(dataset.columns)[:14], list(model.feature_importances_))\n",
    "plt.title(\"Feature Importance\")\n",
    "plt.show()\n",
    "plt.savefig(\"image/feature_importance.png\", bbox_inches = 'tight')"
   ]
  },
  {
   "cell_type": "markdown",
   "metadata": {},
   "source": [
    "### Categories label:"
   ]
  },
  {
   "cell_type": "code",
   "execution_count": 53,
   "metadata": {},
   "outputs": [],
   "source": [
    "# convert categories into matrix.\n",
    "\n",
    "# convert str to list.\n",
    "cat_tr_list = []\n",
    "cat_te_list = []\n",
    "\n",
    "for i in tr_y[:, 0]:\n",
    "    cat_tr_list.append(ast.literal_eval(i))\n",
    "    \n",
    "for i in te_y[:, 0]:\n",
    "    cat_te_list.append(ast.literal_eval(i))\n",
    "\n",
    "mlb_tr = MultiLabelBinarizer()\n",
    "labels_tr = mlb_tr.fit_transform(cat_tr_list)\n",
    "mlb_te = MultiLabelBinarizer()\n",
    "labels_te = mlb_te.fit_transform(cat_te_list)\n",
    "\n",
    "categories_tr = mlb_tr.classes_\n",
    "categories_te = mlb_te.classes_"
   ]
  },
  {
   "cell_type": "markdown",
   "metadata": {},
   "source": [
    "### Multi-label:"
   ]
  },
  {
   "cell_type": "code",
   "execution_count": 54,
   "metadata": {
    "scrolled": true
   },
   "outputs": [
    {
     "name": "stdout",
     "output_type": "stream",
     "text": [
      "Category: Advice  F1-score: 0.14794921875  Accuracy:  0.5732974691282553\n",
      "Category: CleanUp  F1-score: 0.02485875706214689  Accuracy:  0.6834576354077515\n",
      "Category: ContextualInformation  F1-score: 0.07006020799124246  Accuracy:  0.5845457879936422\n",
      "Category: Discussion  F1-score: 0.1959203036053131  Accuracy:  0.5855239026775889\n",
      "Category: Donations  F1-score: 0.02432179607109448  Accuracy:  0.6174348942413498\n",
      "Category: EmergingThreats  F1-score: 0.20190023752969122  Accuracy:  0.6713534661939112\n",
      "Category: Factoid  F1-score: 0.23497636731937882  Accuracy:  0.5844235236581489\n",
      "Category: FirstPartyObservation  F1-score: 0.05700712589073634  Accuracy:  0.5146105880914538\n",
      "Category: GoodsServices  F1-score: 0.0045841519318926  Accuracy:  0.6283164201002568\n",
      "Category: Hashtags  F1-score: 0.6804564907275321  Accuracy:  0.726127888494926\n",
      "Category: InformationWanted  F1-score: 0.029411764705882353  Accuracy:  0.5642499083017484\n",
      "Category: Irrelevant  F1-score: 0.42124542124542125  Accuracy:  0.5363736398092677\n",
      "Category: Location  F1-score: 0.2983694329520564  Accuracy:  0.6475119207727106\n",
      "Category: MovePeople  F1-score: 0.05364891518737672  Accuracy:  0.7066878591514855\n",
      "Category: MultimediaShare  F1-score: 0.6021077749055478  Accuracy:  0.7553490646778335\n",
      "Category: NewSubEvent  F1-score: 0.050934880722114766  Accuracy:  0.640053796307617\n",
      "Category: News  F1-score: 0.37841439040639574  Accuracy:  0.6577821249541509\n",
      "Category: Official  F1-score: 0.08379272326350606  Accuracy:  0.6951950116151119\n",
      "Category: OriginalEvent  F1-score: 0.22503801317790167  Accuracy:  0.6261156620613767\n",
      "Category: SearchAndRescue  F1-score: 0.0  Accuracy:  0.7372539430248196\n",
      "Category: Sentiment  F1-score: 0.4363138998119337  Accuracy:  0.5968944858784693\n",
      "Category: ServiceAvailable  F1-score: 0.05024509803921568  Accuracy:  0.6209805599706566\n",
      "Category: ThirdPartyObservation  F1-score: 0.09184525466184247  Accuracy:  0.6010514732852427\n",
      "Category: Volunteer  F1-score: 0.007246376811594203  Accuracy:  0.5979948648979093\n",
      "Category: Weather  F1-score: 0.07440890125173852  Accuracy:  0.674532338916738\n"
     ]
    }
   ],
   "source": [
    "one_vs_rest = OneVsRestClassifier(LogisticRegression(class_weight=\"balanced\", random_state=0, solver='lbfgs', max_iter=200), n_jobs=1)\n",
    "preds_te_arr = np.zeros(labels_te.shape) \n",
    "accuracy = 0\n",
    "\n",
    "for i, category in enumerate(categories_tr):\n",
    "    \n",
    "    one_vs_rest.fit(tr_X, labels_tr[:, i])\n",
    "    preds_te = one_vs_rest.predict(te_X)\n",
    "    preds_te_arr[:, i] = preds_te\n",
    "    res = accuracy_score(labels_te[:, i], preds_te)\n",
    "    print('Category:', category, ' F1-score:', f1_score(labels_te[:, i], preds_te), ' Accuracy: ', res)\n",
    "    accuracy+=res"
   ]
  },
  {
   "cell_type": "code",
   "execution_count": 55,
   "metadata": {},
   "outputs": [
    {
     "name": "stdout",
     "output_type": "stream",
     "text": [
      "Accuracy all:  0.6330847291844969\n",
      "F1-Score all:  0.1778023001608622\n"
     ]
    }
   ],
   "source": [
    "print('Accuracy all: ', accuracy/len(categories_tr))\n",
    "print('F1-Score all: ', f1_score(labels_te,preds_te_arr,average='macro'))"
   ]
  },
  {
   "cell_type": "markdown",
   "metadata": {},
   "source": [
    "### Feature Importance:"
   ]
  },
  {
   "cell_type": "code",
   "execution_count": 56,
   "metadata": {
    "scrolled": true
   },
   "outputs": [
    {
     "name": "stdout",
     "output_type": "stream",
     "text": [
      "Category: Advice ['words', 'hashtag', 'followers']\n",
      "Category: CleanUp ['words', 'friends', 'hashtag']\n",
      "Category: ContextualInformation ['words', 'followers', 'hashtag']\n",
      "Category: Discussion ['words', 'followers', 'hashtag']\n",
      "Category: Donations ['words', 'followers', 'hashtag']\n",
      "Category: EmergingThreats ['words', 'followers', 'upper case words']\n",
      "Category: Factoid ['words', 'urls', 'neg']\n",
      "Category: FirstPartyObservation ['words', 'hashtag', 'upper case words']\n",
      "Category: GoodsServices ['words', 'hashtag', 'friends']\n",
      "Category: Hashtags ['hashtag', 'words', 'followers']\n",
      "Category: InformationWanted ['words', 'followers', 'hashtag']\n",
      "Category: Irrelevant ['words', 'hashtag', 'urls']\n",
      "Category: Location ['words', 'urls', 'hashtag']\n",
      "Category: MovePeople ['words', 'hashtag', 'person']\n",
      "Category: MultimediaShare ['urls', 'words', 'followers']\n",
      "Category: NewSubEvent ['words', 'followers', 'hashtag']\n",
      "Category: News ['words', 'urls', 'followers']\n",
      "Category: Official ['words', 'followers', 'upper case words']\n",
      "Category: OriginalEvent ['words', 'hashtag', 'followers']\n",
      "Category: SearchAndRescue ['words', 'followers', 'hashtag']\n",
      "Category: Sentiment ['words', 'urls', 'hashtag']\n",
      "Category: ServiceAvailable ['words', 'followers', 'hashtag']\n",
      "Category: ThirdPartyObservation ['words', 'urls', 'followers']\n",
      "Category: Volunteer ['words', 'followers', 'hashtag']\n",
      "Category: Weather ['words', 'hashtag', 'person']\n"
     ]
    }
   ],
   "source": [
    "preds_te_arr = np.zeros(labels_te.shape) \n",
    "accuracy = 0\n",
    "feature_list = []\n",
    "for i, category in enumerate(categories_tr):\n",
    "    \n",
    "    model = GradientBoostingClassifier(n_estimators=100, max_depth=10, random_state=2020).fit(tr_X, labels_tr[:, i])\n",
    "    preds_te = one_vs_rest.predict(te_X)\n",
    "    preds_te_arr[:, i] = preds_te\n",
    "    res = accuracy_score(labels_te[:, i], preds_te)\n",
    "    temp = model.feature_importances_\n",
    "    feature_list.append(temp)\n",
    "    res = map(list(temp).index, heapq.nlargest(3, temp))\n",
    "    cat = [list(dataset.columns)[:14][j] for j in res]\n",
    "    print(\"Category: \"+str(category), cat)"
   ]
  },
  {
   "cell_type": "code",
   "execution_count": 57,
   "metadata": {},
   "outputs": [
    {
     "data": {
      "text/plain": [
       "Text(0.5, 1.0, 'multi-label feature importance')"
      ]
     },
     "execution_count": 57,
     "metadata": {},
     "output_type": "execute_result"
    },
    {
     "data": {
      "image/png": "[encoded data removed]",
      "text/plain": [
       "<Figure size 720x720 with 1 Axes>"
      ]
     },
     "metadata": {
      "needs_background": "light"
     },
     "output_type": "display_data"
    }
   ],
   "source": [
    "# %config InlineBackend.figure_format='svg'\n",
    "plt.figure(figsize=(10, 10))\n",
    "for i in range(14):\n",
    "    plt.barh(list(dataset.columns)[:14], np.sum(feature_list[0:14-i], axis=0), label=categories_tr[i])\n",
    "plt.xlabel('feature importance')\n",
    "plt.ylabel('feature')\n",
    "plt.legend()\n",
    "plt.title('multi-label feature importance')\n",
    "# plt.savefig(\"image/featur\")"
   ]
  },
  {
   "cell_type": "markdown",
   "metadata": {},
   "source": [
    "### concatenate TF-IDF dataset and feature engineering dataset."
   ]
  },
  {
   "cell_type": "code",
   "execution_count": 73,
   "metadata": {},
   "outputs": [
    {
     "name": "stdout",
     "output_type": "stream",
     "text": [
      "RMSE all:  0.04555344565632896\n"
     ]
    }
   ],
   "source": [
    "tr_final_X = np.concatenate((tr_X_1, tr_X),axis=1)\n",
    "te_final_X = np.concatenate((te_X_1, te_X),axis=1)\n",
    "\n",
    "# logistic regression.\n",
    "filterwarnings('ignore')\n",
    "clf = LogisticRegression(random_state=0, solver='saga', multi_class='auto', max_iter=300).fit(tr_final_X, tr_prior)\n",
    "preds_te = clf.predict(te_final_X)\n",
    "\n",
    "prob = clf.predict_proba(te_final_X)\n",
    "score = 0\n",
    "\n",
    "for i in range(len(te_prior)):\n",
    "    if te_prior[i] == 0: weight = 1\n",
    "    elif te_prior[i] == 1: weight = 0.25\n",
    "    elif te_prior[i] == 2: weight = 0.5\n",
    "    elif te_prior[i] == 3: weight = 0.75\n",
    "    else: weight = 0\n",
    "\n",
    "    score += (weight - prob[i, te_prior[i]] * weight)**2\n",
    "\n",
    "score /= len(te_prior)\n",
    "\n",
    "print(\"RMSE all: \", score)"
   ]
  },
  {
   "cell_type": "code",
   "execution_count": 74,
   "metadata": {
    "scrolled": false
   },
   "outputs": [
    {
     "name": "stdout",
     "output_type": "stream",
     "text": [
      "Category: Advice  F1-score: 0.2330743618201998  Accuracy:  0.7465460325223132\n",
      "Category: CleanUp  F1-score: 0.16170212765957445  Accuracy:  0.9759139259078127\n",
      "Category: ContextualInformation  F1-score: 0.05078336034575906  Accuracy:  0.7851815625382076\n",
      "Category: Discussion  F1-score: 0.16887944768985663  Accuracy:  0.6173126299058564\n",
      "Category: Donations  F1-score: 0.24187725631768953  Accuracy:  0.9486489790927987\n",
      "Category: EmergingThreats  F1-score: 0.2627737226277372  Accuracy:  0.8271182296124221\n",
      "Category: Factoid  F1-score: 0.3182328715836765  Accuracy:  0.777356645066634\n",
      "Category: FirstPartyObservation  F1-score: 0.14941948510853104  Accuracy:  0.5879691893874557\n",
      "Category: GoodsServices  F1-score: 0.05617977528089887  Accuracy:  0.9589191832742389\n",
      "Category: Hashtags  F1-score: 0.7107804750717828  Accuracy:  0.729062232546766\n",
      "Category: InformationWanted  F1-score: 0.1056338028169014  Accuracy:  0.937889717569385\n",
      "Category: Irrelevant  F1-score: 0.45687975916415796  Accuracy:  0.6250152830419367\n",
      "Category: Location  F1-score: 0.28179741051028184  Accuracy:  0.7694094632595672\n",
      "Category: MovePeople  F1-score: 0.24766355140186916  Accuracy:  0.9606308839711456\n",
      "Category: MultimediaShare  F1-score: 0.603900188718809  Accuracy:  0.7690426702530871\n",
      "Category: NewSubEvent  F1-score: 0.05177603853100542  Accuracy:  0.8074336715979948\n",
      "Category: News  F1-score: 0.4900788907482668  Accuracy:  0.739210172392713\n",
      "Category: Official  F1-score: 0.1586021505376344  Accuracy:  0.8469250519623426\n",
      "Category: OriginalEvent  F1-score: 0.20256776034236806  Accuracy:  0.7949627093776745\n",
      "Category: SearchAndRescue  F1-score: 0.04918032786885246  Accuracy:  0.9716346741655459\n",
      "Category: Sentiment  F1-score: 0.5435228331780055  Accuracy:  0.7005746423768187\n",
      "Category: ServiceAvailable  F1-score: 0.14844267726971505  Accuracy:  0.8428903288910625\n",
      "Category: ThirdPartyObservation  F1-score: 0.10621879255560597  Accuracy:  0.7592615234136203\n",
      "Category: Volunteer  F1-score: 0.11382113821138211  Accuracy:  0.9733463748624526\n",
      "Category: Weather  F1-score: 0.2323232323232323  Accuracy:  0.9070791050250642\n",
      "Accuracy all:  0.8143733952805967\n",
      "F1-Score all:  0.24584445750735173\n"
     ]
    }
   ],
   "source": [
    "one_vs_rest = OneVsRestClassifier(LogisticRegression(class_weight=\"balanced\", random_state=0, solver='lbfgs', max_iter=300), n_jobs=1)\n",
    "preds_te_arr = np.zeros(labels_te.shape) \n",
    "accuracy = 0\n",
    "\n",
    "for i, category in enumerate(categories_tr):\n",
    "    filterwarnings('ignore')\n",
    "    one_vs_rest.fit(tr_final_X, labels_tr[:, i])\n",
    "    preds_te = one_vs_rest.predict(te_final_X)\n",
    "    preds_te_arr[:, i] = preds_te\n",
    "    res = accuracy_score(labels_te[:, i], preds_te)\n",
    "    print('Category:', category, ' F1-score:', f1_score(labels_te[:, i], preds_te), ' Accuracy: ', res)\n",
    "    accuracy+=res\n",
    "    \n",
    "print('Accuracy all: ', accuracy/len(categories_tr))\n",
    "print('F1-Score all: ', f1_score(labels_te,preds_te_arr,average='macro'))"
   ]
  },
  {
   "cell_type": "markdown",
   "metadata": {},
   "source": [
    "### Decide weight:"
   ]
  },
  {
   "cell_type": "code",
   "execution_count": 76,
   "metadata": {},
   "outputs": [],
   "source": [
    "# f1_score_list = [0.24589262507013984,\n",
    "#  0.24589049241564193,\n",
    "#  0.24585108250457516,\n",
    "#  0.24579817388857625,\n",
    "#  0.24568950879050508,\n",
    "#  0.24568476029959954,\n",
    "#  0.24575993754544775,\n",
    "#  0.24584907936158643,\n",
    "#  0.2455891589025643,\n",
    "#  0.2457403734959275,\n",
    "#  0.2457886122698053,\n",
    "#  0.24582812220094688,\n",
    "#  0.2456502954927343,\n",
    "#  0.2456867640360486,\n",
    "#  0.2458443536703795,\n",
    "#  0.24564757857899708]\n",
    "\n",
    "# f1_score_list = []\n",
    "# for w in tqdm([1.5, 2, 2.5, 3]):\n",
    "#     for f in [1, 2, 3, 4]:\n",
    "#         weight = np.ones((1, 14))\n",
    "#         if f == 1: weight[0, :4] = w\n",
    "#         elif f == 2: weight[0, 4:7] = w\n",
    "#         elif f ==3: weight[0, 7:-2] = w\n",
    "#         else: weight[0, -2:] = w"
   ]
  },
  {
   "cell_type": "markdown",
   "metadata": {},
   "source": [
    "## Ensemble learning:"
   ]
  },
  {
   "cell_type": "code",
   "execution_count": null,
   "metadata": {},
   "outputs": [],
   "source": []
  }
 ],
 "metadata": {
  "kernelspec": {
   "display_name": "Python 3",
   "language": "python",
   "name": "python3"
  },
  "language_info": {
   "codemirror_mode": {
    "name": "ipython",
    "version": 3
   },
   "file_extension": ".py",
   "mimetype": "text/x-python",
   "name": "python",
   "nbconvert_exporter": "python",
   "pygments_lexer": "ipython3",
   "version": "3.7.3"
  }
 },
 "nbformat": 4,
 "nbformat_minor": 2
}
