{
 "cells": [
  {
   "cell_type": "markdown",
   "metadata": {},
   "source": [
    "## Bert Multi-class fine-tuning "
   ]
  },
  {
   "cell_type": "code",
   "execution_count": 102,
   "metadata": {
    "colab": {
     "base_uri": "https://localhost:8080/",
     "height": 360
    },
    "colab_type": "code",
    "executionInfo": {
     "elapsed": 4106,
     "status": "ok",
     "timestamp": 1593472219045,
     "user": {
      "displayName": "Yingji Zhang",
      "photoUrl": "https://lh3.googleusercontent.com/a-/AOh14Giy2yxVSh1vrnIZ8Au7mLgRDopnFAPXv1dEVD5P=s64",
      "userId": "02250671043329935284"
     },
     "user_tz": -60
    },
    "id": "5wyNvJp3w0z2",
    "outputId": "b946c209-8861-4d5b-db19-e8f4e6308987"
   },
   "outputs": [
    {
     "name": "stdout",
     "output_type": "stream",
     "text": [
      "Requirement already satisfied: transformers in /usr/local/lib/python3.6/dist-packages (3.0.0)\n",
      "Requirement already satisfied: packaging in /usr/local/lib/python3.6/dist-packages (from transformers) (20.4)\n",
      "Requirement already satisfied: dataclasses; python_version < \"3.7\" in /usr/local/lib/python3.6/dist-packages (from transformers) (0.7)\n",
      "Requirement already satisfied: requests in /usr/local/lib/python3.6/dist-packages (from transformers) (2.23.0)\n",
      "Requirement already satisfied: sacremoses in /usr/local/lib/python3.6/dist-packages (from transformers) (0.0.43)\n",
      "Requirement already satisfied: tokenizers==0.8.0-rc4 in /usr/local/lib/python3.6/dist-packages (from transformers) (0.8.0rc4)\n",
      "Requirement already satisfied: numpy in /usr/local/lib/python3.6/dist-packages (from transformers) (1.18.5)\n",
      "Requirement already satisfied: tqdm>=4.27 in /usr/local/lib/python3.6/dist-packages (from transformers) (4.41.1)\n",
      "Requirement already satisfied: filelock in /usr/local/lib/python3.6/dist-packages (from transformers) (3.0.12)\n",
      "Requirement already satisfied: sentencepiece in /usr/local/lib/python3.6/dist-packages (from transformers) (0.1.91)\n",
      "Requirement already satisfied: regex!=2019.12.17 in /usr/local/lib/python3.6/dist-packages (from transformers) (2019.12.20)\n",
      "Requirement already satisfied: six in /usr/local/lib/python3.6/dist-packages (from packaging->transformers) (1.12.0)\n",
      "Requirement already satisfied: pyparsing>=2.0.2 in /usr/local/lib/python3.6/dist-packages (from packaging->transformers) (2.4.7)\n",
      "Requirement already satisfied: certifi>=2017.4.17 in /usr/local/lib/python3.6/dist-packages (from requests->transformers) (2020.6.20)\n",
      "Requirement already satisfied: idna<3,>=2.5 in /usr/local/lib/python3.6/dist-packages (from requests->transformers) (2.9)\n",
      "Requirement already satisfied: urllib3!=1.25.0,!=1.25.1,<1.26,>=1.21.1 in /usr/local/lib/python3.6/dist-packages (from requests->transformers) (1.24.3)\n",
      "Requirement already satisfied: chardet<4,>=3.0.2 in /usr/local/lib/python3.6/dist-packages (from requests->transformers) (3.0.4)\n",
      "Requirement already satisfied: click in /usr/local/lib/python3.6/dist-packages (from sacremoses->transformers) (7.1.2)\n",
      "Requirement already satisfied: joblib in /usr/local/lib/python3.6/dist-packages (from sacremoses->transformers) (0.15.1)\n"
     ]
    }
   ],
   "source": [
    "!pip install transformers"
   ]
  },
  {
   "cell_type": "code",
   "execution_count": 103,
   "metadata": {
    "colab": {},
    "colab_type": "code",
    "executionInfo": {
     "elapsed": 4093,
     "status": "ok",
     "timestamp": 1593472219047,
     "user": {
      "displayName": "Yingji Zhang",
      "photoUrl": "https://lh3.googleusercontent.com/a-/AOh14Giy2yxVSh1vrnIZ8Au7mLgRDopnFAPXv1dEVD5P=s64",
      "userId": "02250671043329935284"
     },
     "user_tz": -60
    },
    "id": "x6o_YDtUxCW7"
   },
   "outputs": [],
   "source": [
    "import transformers\n",
    "import torch\n",
    "import pandas as pd\n",
    "from tqdm.notebook import tqdm\n",
    "import torch.nn as nn\n",
    "from sklearn.model_selection import train_test_split\n",
    "from torch.utils import data\n",
    "import numpy as np\n",
    "from transformers import AdamW # optimizer\n",
    "from transformers import get_linear_schedule_with_warmup # for learning rate\n",
    "from transformers import BertModel"
   ]
  },
  {
   "cell_type": "code",
   "execution_count": 104,
   "metadata": {
    "colab": {},
    "colab_type": "code",
    "executionInfo": {
     "elapsed": 4490,
     "status": "ok",
     "timestamp": 1593472219453,
     "user": {
      "displayName": "Yingji Zhang",
      "photoUrl": "https://lh3.googleusercontent.com/a-/AOh14Giy2yxVSh1vrnIZ8Au7mLgRDopnFAPXv1dEVD5P=s64",
      "userId": "02250671043329935284"
     },
     "user_tz": -60
    },
    "id": "jwFpwMhHxTat"
   },
   "outputs": [],
   "source": [
    "tokenizer = transformers.BertTokenizer.from_pretrained('bert-base-uncased')"
   ]
  },
  {
   "cell_type": "code",
   "execution_count": 105,
   "metadata": {
    "colab": {
     "base_uri": "https://localhost:8080/",
     "height": 149,
     "referenced_widgets": [
      "19ad9f92be9f44ea977b3e3c3ef6e416",
      "9c7f3069db8a4d7a9a96986c559219d3",
      "3acb6fbbfcf54e23b4b40e76cdb93a0d",
      "ce134bf08c3d41d2be5cd0e049df0ac7",
      "080866000586408faa5638225f08d44c",
      "c8dcf0ca1df448198eb109a96b1c4de0",
      "a0163e4816af4b118a076f22f1931085",
      "bc5dabd2ca7946d1b430ef297a1d4770",
      "4789bc4b86b0494e86e2e47829278b04",
      "a62a071cb3ea4d2d9e80af175e7332e8",
      "814b506912eb4e0d9b3e62db85ba92d1",
      "5269599dfa1c4f349a56dc1780c0c3a6",
      "e426a73e23d249b382336bb9aff0b7ce",
      "354ee1e459bd496cac8b398e2c5d1edc",
      "0e09b7d3210d40098564758fcffb16ec",
      "5d7c068030a2450f8cce60eb470e237b"
     ]
    },
    "colab_type": "code",
    "executionInfo": {
     "elapsed": 14407,
     "status": "ok",
     "timestamp": 1593472229381,
     "user": {
      "displayName": "Yingji Zhang",
      "photoUrl": "https://lh3.googleusercontent.com/a-/AOh14Giy2yxVSh1vrnIZ8Au7mLgRDopnFAPXv1dEVD5P=s64",
      "userId": "02250671043329935284"
     },
     "user_tz": -60
    },
    "id": "kGt-cJzKxX-t",
    "outputId": "5b517bfd-4bc8-43ab-bdda-e0b768321f09"
   },
   "outputs": [
    {
     "name": "stdout",
     "output_type": "stream",
     "text": [
      "size of train set:  29113\n",
      "size of test set:  8179\n"
     ]
    },
    {
     "data": {
      "application/vnd.jupyter.widget-view+json": {
       "model_id": "19ad9f92be9f44ea977b3e3c3ef6e416",
       "version_major": 2,
       "version_minor": 0
      },
      "text/plain": [
       "HBox(children=(FloatProgress(value=0.0, max=29113.0), HTML(value='')))"
      ]
     },
     "metadata": {
      "tags": []
     },
     "output_type": "display_data"
    },
    {
     "name": "stdout",
     "output_type": "stream",
     "text": [
      "\n"
     ]
    },
    {
     "data": {
      "application/vnd.jupyter.widget-view+json": {
       "model_id": "4789bc4b86b0494e86e2e47829278b04",
       "version_major": 2,
       "version_minor": 0
      },
      "text/plain": [
       "HBox(children=(FloatProgress(value=0.0, max=8179.0), HTML(value='')))"
      ]
     },
     "metadata": {
      "tags": []
     },
     "output_type": "display_data"
    },
    {
     "name": "stdout",
     "output_type": "stream",
     "text": [
      "\n"
     ]
    }
   ],
   "source": [
    "dataset = pd.read_csv(\"sample_data/new_label_dataset.csv\")[['content', 'priority']]\n",
    "testset = pd.read_csv(\"sample_data/new_label_testset.csv\")[['content', 'priority']]\n",
    "dataset = dataset[dataset['priority'] != 'Unknown'].reset_index(drop=True)\n",
    "testset = testset[testset['priority'] != 'Unknown'].reset_index(drop=True)\n",
    "\n",
    "print(\"size of train set: \", len(dataset))\n",
    "print(\"size of test set: \", len(testset))\n",
    "\n",
    "for i in tqdm(range(len(dataset))):\n",
    "    if dataset.loc[i, 'priority'] == 'Critical': dataset.loc[i, 'priority'] = 0\n",
    "    elif dataset.loc[i, 'priority'] == 'High': dataset.loc[i, 'priority'] = 1\n",
    "    elif dataset.loc[i, 'priority'] == 'Medium': dataset.loc[i, 'priority'] = 2\n",
    "    elif dataset.loc[i, 'priority'] == 'Low': dataset.loc[i, 'priority'] = 3\n",
    "    else:\n",
    "        pass\n",
    "\n",
    "for i in tqdm(range(len(testset))):\n",
    "    if testset.loc[i, 'priority'] == 'Critical': testset.loc[i, 'priority'] = 0\n",
    "    elif testset.loc[i, 'priority'] == 'High': testset.loc[i, 'priority'] = 1\n",
    "    elif testset.loc[i, 'priority'] == 'Medium': testset.loc[i, 'priority'] = 2\n",
    "    elif testset.loc[i, 'priority'] == 'Low': testset.loc[i, 'priority'] = 3\n",
    "    else:\n",
    "        pass "
   ]
  },
  {
   "cell_type": "code",
   "execution_count": 106,
   "metadata": {
    "colab": {
     "base_uri": "https://localhost:8080/",
     "height": 142
    },
    "colab_type": "code",
    "executionInfo": {
     "elapsed": 14395,
     "status": "ok",
     "timestamp": 1593472229382,
     "user": {
      "displayName": "Yingji Zhang",
      "photoUrl": "https://lh3.googleusercontent.com/a-/AOh14Giy2yxVSh1vrnIZ8Au7mLgRDopnFAPXv1dEVD5P=s64",
      "userId": "02250671043329935284"
     },
     "user_tz": -60
    },
    "id": "v4__-MfP0BHq",
    "outputId": "f3654278-df42-488c-cbde-fcff06d82afc"
   },
   "outputs": [
    {
     "data": {
      "text/html": [
       "<div>\n",
       "<style scoped>\n",
       "    .dataframe tbody tr th:only-of-type {\n",
       "        vertical-align: middle;\n",
       "    }\n",
       "\n",
       "    .dataframe tbody tr th {\n",
       "        vertical-align: top;\n",
       "    }\n",
       "\n",
       "    .dataframe thead th {\n",
       "        text-align: right;\n",
       "    }\n",
       "</style>\n",
       "<table border=\"1\" class=\"dataframe\">\n",
       "  <thead>\n",
       "    <tr style=\"text-align: right;\">\n",
       "      <th></th>\n",
       "      <th>content</th>\n",
       "      <th>priority</th>\n",
       "    </tr>\n",
       "  </thead>\n",
       "  <tbody>\n",
       "    <tr>\n",
       "      <th>0</th>\n",
       "      <td>philippine flood worsen death toll hit wake ge...</td>\n",
       "      <td>3</td>\n",
       "    </tr>\n",
       "    <tr>\n",
       "      <th>1</th>\n",
       "      <td>philippine flood fatality hit</td>\n",
       "      <td>3</td>\n",
       "    </tr>\n",
       "    <tr>\n",
       "      <th>2</th>\n",
       "      <td>luzon dam release water flood warn up manila p...</td>\n",
       "      <td>3</td>\n",
       "    </tr>\n",
       "  </tbody>\n",
       "</table>\n",
       "</div>"
      ],
      "text/plain": [
       "                                             content priority\n",
       "0  philippine flood worsen death toll hit wake ge...        3\n",
       "1                     philippine flood fatality hit         3\n",
       "2  luzon dam release water flood warn up manila p...        3"
      ]
     },
     "execution_count": 106,
     "metadata": {
      "tags": []
     },
     "output_type": "execute_result"
    }
   ],
   "source": [
    "dataset[:3]"
   ]
  },
  {
   "cell_type": "code",
   "execution_count": 107,
   "metadata": {
    "colab": {},
    "colab_type": "code",
    "executionInfo": {
     "elapsed": 14382,
     "status": "ok",
     "timestamp": 1593472229382,
     "user": {
      "displayName": "Yingji Zhang",
      "photoUrl": "https://lh3.googleusercontent.com/a-/AOh14Giy2yxVSh1vrnIZ8Au7mLgRDopnFAPXv1dEVD5P=s64",
      "userId": "02250671043329935284"
     },
     "user_tz": -60
    },
    "id": "DIG5EVhmxtNe"
   },
   "outputs": [],
   "source": [
    "class GPRreviewDataset(data.Dataset):\n",
    "    def __init__(self, content, target, tokenizer, max_len):\n",
    "        self.content = content\n",
    "        self.target = target\n",
    "        self.tokenizer = tokenizer\n",
    "        self.max_len = max_len\n",
    "        \n",
    "    def __len__(self):\n",
    "        return len(self.content)\n",
    "    \n",
    "    def __getitem__(self, item):\n",
    "        content = str(self.content[item])\n",
    "        encoding = tokenizer.encode_plus(\n",
    "            content,\n",
    "            max_length=self.max_len,\n",
    "            add_special_tokens=True,\n",
    "            pad_to_max_length=True,\n",
    "            return_attention_mask=True,\n",
    "            return_token_type_ids=False,\n",
    "            truncation=True,\n",
    "            return_tensors='pt'\n",
    "        )\n",
    "        return {\n",
    "            'text': content,\n",
    "            'input_ids': encoding['input_ids'].flatten(),\n",
    "            'attention_mask': encoding['attention_mask'].flatten(),\n",
    "            'targets': torch.tensor(self.target[item], dtype=torch.long)\n",
    "        }"
   ]
  },
  {
   "cell_type": "code",
   "execution_count": 108,
   "metadata": {
    "colab": {},
    "colab_type": "code",
    "executionInfo": {
     "elapsed": 14375,
     "status": "ok",
     "timestamp": 1593472229383,
     "user": {
      "displayName": "Yingji Zhang",
      "photoUrl": "https://lh3.googleusercontent.com/a-/AOh14Giy2yxVSh1vrnIZ8Au7mLgRDopnFAPXv1dEVD5P=s64",
      "userId": "02250671043329935284"
     },
     "user_tz": -60
    },
    "id": "_32ZpBjLzLIT"
   },
   "outputs": [],
   "source": [
    "MAX_LEN = 30\n",
    "BATCH_SIZE = 64\n",
    "\n",
    "# df_train, df_test = train_test_split(dataset, test_size=0.2, random_state=2020)\n",
    "\n",
    "df_train, df_test = dataset, testset"
   ]
  },
  {
   "cell_type": "code",
   "execution_count": 109,
   "metadata": {
    "colab": {},
    "colab_type": "code",
    "executionInfo": {
     "elapsed": 14367,
     "status": "ok",
     "timestamp": 1593472229383,
     "user": {
      "displayName": "Yingji Zhang",
      "photoUrl": "https://lh3.googleusercontent.com/a-/AOh14Giy2yxVSh1vrnIZ8Au7mLgRDopnFAPXv1dEVD5P=s64",
      "userId": "02250671043329935284"
     },
     "user_tz": -60
    },
    "id": "smmVhQqFzVHN"
   },
   "outputs": [],
   "source": [
    "def create_data_loader(df, tokenizer, max_len, batch_size):\n",
    "    ds = GPRreviewDataset(\n",
    "        content = df.content.to_numpy(),\n",
    "        target = df.priority.to_numpy(),\n",
    "        tokenizer = tokenizer,\n",
    "        max_len = max_len,\n",
    "    )\n",
    "    return data.DataLoader(\n",
    "        ds, \n",
    "        batch_size = batch_size,\n",
    "    )"
   ]
  },
  {
   "cell_type": "code",
   "execution_count": 110,
   "metadata": {
    "colab": {},
    "colab_type": "code",
    "executionInfo": {
     "elapsed": 14358,
     "status": "ok",
     "timestamp": 1593472229383,
     "user": {
      "displayName": "Yingji Zhang",
      "photoUrl": "https://lh3.googleusercontent.com/a-/AOh14Giy2yxVSh1vrnIZ8Au7mLgRDopnFAPXv1dEVD5P=s64",
      "userId": "02250671043329935284"
     },
     "user_tz": -60
    },
    "id": "fmesCsVPzXvV"
   },
   "outputs": [],
   "source": [
    "train_loader = create_data_loader(df_train, tokenizer, MAX_LEN, BATCH_SIZE)\n",
    "test_loader = create_data_loader(df_test, tokenizer, MAX_LEN, BATCH_SIZE)"
   ]
  },
  {
   "cell_type": "code",
   "execution_count": 111,
   "metadata": {
    "colab": {},
    "colab_type": "code",
    "executionInfo": {
     "elapsed": 14356,
     "status": "ok",
     "timestamp": 1593472229384,
     "user": {
      "displayName": "Yingji Zhang",
      "photoUrl": "https://lh3.googleusercontent.com/a-/AOh14Giy2yxVSh1vrnIZ8Au7mLgRDopnFAPXv1dEVD5P=s64",
      "userId": "02250671043329935284"
     },
     "user_tz": -60
    },
    "id": "_YFti0_LUD2E"
   },
   "outputs": [],
   "source": [
    "from transformers import BertForSequenceClassification"
   ]
  },
  {
   "cell_type": "code",
   "execution_count": 112,
   "metadata": {
    "colab": {},
    "colab_type": "code",
    "executionInfo": {
     "elapsed": 14347,
     "status": "ok",
     "timestamp": 1593472229384,
     "user": {
      "displayName": "Yingji Zhang",
      "photoUrl": "https://lh3.googleusercontent.com/a-/AOh14Giy2yxVSh1vrnIZ8Au7mLgRDopnFAPXv1dEVD5P=s64",
      "userId": "02250671043329935284"
     },
     "user_tz": -60
    },
    "id": "tppehnj8zn51"
   },
   "outputs": [],
   "source": [
    "# class BertClassifier(nn.Module):\n",
    "#     def __init__(self, n_class):\n",
    "#         super(BertClassifier, self).__init__()\n",
    "#         self.bert = BertModel.from_pretrained(\"bert-base-uncased\")\n",
    "#         self.drop = nn.Dropout(p=0.3)\n",
    "#         self.out = nn.Linear(self.bert.config.hidden_size, n_class)\n",
    "        \n",
    "#     def forward(self, input_ids, attention_mask):\n",
    "#         _, pooled_output = self.bert(\n",
    "#             input_ids = input_ids,\n",
    "#             attention_mask = attention_mask\n",
    "#         )\n",
    "#         output = self.drop(pooled_output)\n",
    "#         output1 = self.out(output)\n",
    "#         return output1"
   ]
  },
  {
   "cell_type": "code",
   "execution_count": 113,
   "metadata": {
    "colab": {},
    "colab_type": "code",
    "executionInfo": {
     "elapsed": 14338,
     "status": "ok",
     "timestamp": 1593472229384,
     "user": {
      "displayName": "Yingji Zhang",
      "photoUrl": "https://lh3.googleusercontent.com/a-/AOh14Giy2yxVSh1vrnIZ8Au7mLgRDopnFAPXv1dEVD5P=s64",
      "userId": "02250671043329935284"
     },
     "user_tz": -60
    },
    "id": "q1XEMMmuzqu4"
   },
   "outputs": [],
   "source": [
    "device = 'cuda'\n",
    "# model = BertClassifier(4).to(device)"
   ]
  },
  {
   "cell_type": "code",
   "execution_count": 114,
   "metadata": {
    "colab": {
     "base_uri": "https://localhost:8080/",
     "height": 122
    },
    "colab_type": "code",
    "executionInfo": {
     "elapsed": 17732,
     "status": "ok",
     "timestamp": 1593472232790,
     "user": {
      "displayName": "Yingji Zhang",
      "photoUrl": "https://lh3.googleusercontent.com/a-/AOh14Giy2yxVSh1vrnIZ8Au7mLgRDopnFAPXv1dEVD5P=s64",
      "userId": "02250671043329935284"
     },
     "user_tz": -60
    },
    "id": "Rzyqg4X6AVZI",
    "outputId": "9c7d4f3f-f015-4c82-e0b6-9ffdad3acddc"
   },
   "outputs": [
    {
     "name": "stderr",
     "output_type": "stream",
     "text": [
      "Some weights of the model checkpoint at bert-base-uncased were not used when initializing BertForSequenceClassification: ['cls.predictions.bias', 'cls.predictions.transform.dense.weight', 'cls.predictions.transform.dense.bias', 'cls.predictions.decoder.weight', 'cls.seq_relationship.weight', 'cls.seq_relationship.bias', 'cls.predictions.transform.LayerNorm.weight', 'cls.predictions.transform.LayerNorm.bias']\n",
      "- This IS expected if you are initializing BertForSequenceClassification from the checkpoint of a model trained on another task or with another architecture (e.g. initializing a BertForSequenceClassification model from a BertForPretraining model).\n",
      "- This IS NOT expected if you are initializing BertForSequenceClassification from the checkpoint of a model that you expect to be exactly identical (initializing a BertForSequenceClassification model from a BertForSequenceClassification model).\n",
      "Some weights of BertForSequenceClassification were not initialized from the model checkpoint at bert-base-uncased and are newly initialized: ['classifier.weight', 'classifier.bias']\n",
      "You should probably TRAIN this model on a down-stream task to be able to use it for predictions and inference.\n"
     ]
    }
   ],
   "source": [
    "from transformers import BertForSequenceClassification\n",
    "\n",
    "\n",
    "# Load BertForSequenceClassification, the pretrained BERT model with a single \n",
    "# linear classification layer on top. \n",
    "model = BertForSequenceClassification.from_pretrained(\n",
    "    \"bert-base-uncased\", \n",
    "    num_labels = 4,  \n",
    "    output_attentions = False,\n",
    "    output_hidden_states = False, # Whether the model returns all hidden-states.\n",
    ")\n",
    "\n",
    "model = model.to(device)"
   ]
  },
  {
   "cell_type": "code",
   "execution_count": 115,
   "metadata": {
    "colab": {},
    "colab_type": "code",
    "executionInfo": {
     "elapsed": 17721,
     "status": "ok",
     "timestamp": 1593472232791,
     "user": {
      "displayName": "Yingji Zhang",
      "photoUrl": "https://lh3.googleusercontent.com/a-/AOh14Giy2yxVSh1vrnIZ8Au7mLgRDopnFAPXv1dEVD5P=s64",
      "userId": "02250671043329935284"
     },
     "user_tz": -60
    },
    "id": "kl7Uuiiv2xTZ"
   },
   "outputs": [],
   "source": [
    "def train(model, data_loader, loss_fn, optimizer, device, scheduler, n_examples):\n",
    "    model = model.train()\n",
    "    losses = 0\n",
    "    correct_predictions = 0\n",
    "    for d in data_loader:\n",
    "        optimizer.zero_grad()\n",
    "        \n",
    "        input_ids = d['input_ids'].to(device)\n",
    "        attention_mask = d['attention_mask'].to(device)\n",
    "        targets = d['targets'].to(device)\n",
    "        \n",
    "        # output = model(input_ids = input_ids, attention_mask = attention_mask)\n",
    "        loss, logits = model(input_ids, token_type_ids=None, attention_mask=attention_mask, labels=targets)\n",
    "        \n",
    "        # _, preds = torch.max(output, dim=1)\n",
    "        # loss = loss_fn(output, targets)\n",
    "        loss.backward()\n",
    "\n",
    "        nn.utils.clip_grad_norm_(model.parameters(), max_norm=1.0)\n",
    "        optimizer.step()\n",
    "        scheduler.step()\n",
    "\n",
    "        losses+=loss.item()\n",
    "    return losses/len(data_loader)"
   ]
  },
  {
   "cell_type": "code",
   "execution_count": 116,
   "metadata": {
    "colab": {},
    "colab_type": "code",
    "executionInfo": {
     "elapsed": 17714,
     "status": "ok",
     "timestamp": 1593472232792,
     "user": {
      "displayName": "Yingji Zhang",
      "photoUrl": "https://lh3.googleusercontent.com/a-/AOh14Giy2yxVSh1vrnIZ8Au7mLgRDopnFAPXv1dEVD5P=s64",
      "userId": "02250671043329935284"
     },
     "user_tz": -60
    },
    "id": "Vcy9wJhm3G7O"
   },
   "outputs": [],
   "source": [
    "def val(model, data_loader, loss_fn, device, n_examples):\n",
    "    model = model.eval()\n",
    "    losses = 0\n",
    "    preds_list, targets_list, prob_list = [], [], []\n",
    "    \n",
    "    with torch.no_grad():\n",
    "        for d in data_loader:\n",
    "            input_ids = d['input_ids'].to(device)\n",
    "            attention_mask = d['attention_mask'].to(device)\n",
    "            targets = d['targets'].to(device)\n",
    "\n",
    "            # output = model(input_ids = input_ids, attention_mask = attention_mask)\n",
    "            loss, logits = model(input_ids, \n",
    "                                   token_type_ids=None, \n",
    "                                   attention_mask=attention_mask,\n",
    "                                   labels=targets)\n",
    "            # _, preds = torch.max(output, dim=1)\n",
    "            # loss = loss_fn(output, targets)\n",
    "\n",
    "            losses+=loss.item()\n",
    "            # logits = logits.detach().cpu().numpy()\n",
    "            # preds_list.append(preds)\n",
    "            # targets_list.append(targets)\n",
    "            # prob_list.append(output)\n",
    "            # , preds_list, targets_list, prob_list\n",
    "    return losses/len(data_loader)"
   ]
  },
  {
   "cell_type": "code",
   "execution_count": 117,
   "metadata": {
    "colab": {
     "base_uri": "https://localhost:8080/",
     "height": 576,
     "referenced_widgets": [
      "55dab9f2991e4fe1848d500f1fead945",
      "0b2f703775fc4153b52d875673aef116",
      "de327f6eeadd4efb947bb652694f64e8",
      "f2a889491aa740c280326d82987cd1a3",
      "e19f97b83a504b3898cae4c19034a7f9",
      "39a11b4a0fb448bcb2bd47e84adc72ef",
      "bfa751156460470785994d6f54f077b3",
      "3176110f3dfb46db92d33155f39d3d80"
     ]
    },
    "colab_type": "code",
    "executionInfo": {
     "elapsed": 5555840,
     "status": "ok",
     "timestamp": 1593477770928,
     "user": {
      "displayName": "Yingji Zhang",
      "photoUrl": "https://lh3.googleusercontent.com/a-/AOh14Giy2yxVSh1vrnIZ8Au7mLgRDopnFAPXv1dEVD5P=s64",
      "userId": "02250671043329935284"
     },
     "user_tz": -60
    },
    "id": "P7R6MbN73MyN",
    "outputId": "0eb1741a-8143-417d-8ccd-d6fbed1844f2"
   },
   "outputs": [
    {
     "data": {
      "application/vnd.jupyter.widget-view+json": {
       "model_id": "55dab9f2991e4fe1848d500f1fead945",
       "version_major": 2,
       "version_minor": 0
      },
      "text/plain": [
       "HBox(children=(FloatProgress(value=0.0, max=30.0), HTML(value='')))"
      ]
     },
     "metadata": {
      "tags": []
     },
     "output_type": "display_data"
    },
    {
     "name": "stdout",
     "output_type": "stream",
     "text": [
      "train loss:  0.8627475146982041 val loss: 0.4863928991544526\n",
      "train loss:  0.8152681816573981 val loss: 0.4844004231854342\n",
      "train loss:  0.7926777448955473 val loss: 0.48696766450302675\n",
      "train loss:  0.7742654220907242 val loss: 0.4799807229428552\n",
      "train loss:  0.7399891300188316 val loss: 0.4952063990640454\n",
      "train loss:  0.7125110028209267 val loss: 0.494037376367487\n",
      "train loss:  0.6957001698377369 val loss: 0.5091740708448924\n",
      "train loss:  0.6538823597542532 val loss: 0.5174540824664291\n",
      "train loss:  0.6200116032918731 val loss: 0.5525896592880599\n",
      "train loss:  0.5803279516133634 val loss: 0.5808058762340806\n",
      "train loss:  0.54593296074769 val loss: 0.5745934486039914\n",
      "train loss:  0.5124498160658302 val loss: 0.5910517583251931\n",
      "train loss:  0.48006890599544233 val loss: 0.5946809161105193\n",
      "train loss:  0.45546126585904056 val loss: 0.7014674090314656\n",
      "train loss:  0.4248504238796758 val loss: 0.7105882372707129\n",
      "train loss:  0.4098521724097676 val loss: 0.7041408224613406\n",
      "train loss:  0.3835364662028931 val loss: 0.7661574742523953\n",
      "train loss:  0.36150823183521463 val loss: 0.8214091334375553\n",
      "train loss:  0.340594012638206 val loss: 0.8530963743687607\n",
      "train loss:  0.3309954975741905 val loss: 0.8930997942807153\n",
      "train loss:  0.3137434921421848 val loss: 0.8830104152439162\n",
      "train loss:  0.30195003403248366 val loss: 0.8644930853042752\n",
      "train loss:  0.2914823615862118 val loss: 0.888161574548576\n",
      "train loss:  0.27878983862043083 val loss: 0.9476516506401822\n",
      "train loss:  0.27163952277093145 val loss: 0.9800016321241856\n",
      "train loss:  0.2651447055267764 val loss: 1.0555613440228626\n",
      "train loss:  0.2628575862272755 val loss: 1.0793525278568268\n",
      "train loss:  0.2584958508733537 val loss: 1.1719385253963992\n",
      "train loss:  0.2540638811313189 val loss: 1.2740796017460525\n",
      "train loss:  0.26901885345987564 val loss: 1.192545147612691\n",
      "\n"
     ]
    }
   ],
   "source": [
    "EPOCHS = 30\n",
    "train_loss_list, val_loss_list = [], []\n",
    "\n",
    "weight = torch.tensor([0.0348, 0.0941, 0.1742, 0.7220])\n",
    "\n",
    "total_steps = len(train_loader) * EPOCHS\n",
    "\n",
    "loss_fn = nn.CrossEntropyLoss(weight=weight).to(device)\n",
    "optimizer = AdamW(model.parameters(), lr=2e-5)\n",
    "\n",
    "scheduler = get_linear_schedule_with_warmup(\n",
    "    optimizer,\n",
    "    num_warmup_steps = 0,\n",
    "    num_training_steps = total_steps\n",
    ")\n",
    "\n",
    "for epoch in tqdm(range(EPOCHS)):\n",
    "    train_loss = train(\n",
    "        model,\n",
    "        train_loader,\n",
    "        loss_fn,\n",
    "        optimizer,\n",
    "        device,\n",
    "        scheduler,\n",
    "        len(df_train)\n",
    "    )\n",
    "    # , preds_list, targets_list, prob_list\n",
    "    val_loss = val(\n",
    "        model,\n",
    "        test_loader,\n",
    "        loss_fn,\n",
    "        device,\n",
    "        len(df_test)\n",
    "    )\n",
    "\n",
    "    train_loss_list.append(train_loss)\n",
    "    val_loss_list.append(val_loss)\n",
    "    \n",
    "    print(\"train loss: \", train_loss, \"val loss:\", val_loss)"
   ]
  },
  {
   "cell_type": "code",
   "execution_count": 118,
   "metadata": {
    "colab": {},
    "colab_type": "code",
    "executionInfo": {
     "elapsed": 5555829,
     "status": "ok",
     "timestamp": 1593477770930,
     "user": {
      "displayName": "Yingji Zhang",
      "photoUrl": "https://lh3.googleusercontent.com/a-/AOh14Giy2yxVSh1vrnIZ8Au7mLgRDopnFAPXv1dEVD5P=s64",
      "userId": "02250671043329935284"
     },
     "user_tz": -60
    },
    "id": "IM_Pnle73xCe"
   },
   "outputs": [],
   "source": [
    "# score = 0\n",
    "\n",
    "# for i in range(len(targets_list)):\n",
    "#   index_list = targets_list[i]\n",
    "#   for j, index in enumerate(index_list):\n",
    "#     key = index.item()\n",
    "#     if key == 0: weight = 1\n",
    "#     elif key == 1: weight = 0.75\n",
    "#     elif key == 2: weight = 0.5\n",
    "#     elif key == 3: weight = 0.25\n",
    "#     else: weight = 0\n",
    "\n",
    "#     score += (weight - weight * prob_list[i][j][key].cpu().item())**2\n",
    "\n",
    "# score /= len(testset)\n",
    "\n",
    "# print(\"RMSE all: \", score)"
   ]
  },
  {
   "cell_type": "code",
   "execution_count": 119,
   "metadata": {
    "colab": {
     "base_uri": "https://localhost:8080/",
     "height": 353
    },
    "colab_type": "code",
    "executionInfo": {
     "elapsed": 5555817,
     "status": "ok",
     "timestamp": 1593477770930,
     "user": {
      "displayName": "Yingji Zhang",
      "photoUrl": "https://lh3.googleusercontent.com/a-/AOh14Giy2yxVSh1vrnIZ8Au7mLgRDopnFAPXv1dEVD5P=s64",
      "userId": "02250671043329935284"
     },
     "user_tz": -60
    },
    "id": "yls0acLf3Tr9",
    "outputId": "b1d56d60-19d9-4623-e3e8-7fe1f20b7fea"
   },
   "outputs": [
    {
     "data": {
      "text/plain": [
       "Text(0.5, 1.0, 'train and test loss')"
      ]
     },
     "execution_count": 119,
     "metadata": {
      "tags": []
     },
     "output_type": "execute_result"
    },
    {
     "data": {
      "image/png": "[encoded data removed]",
      "text/plain": [
       "<Figure size 360x360 with 1 Axes>"
      ]
     },
     "metadata": {
      "needs_background": "light",
      "tags": []
     },
     "output_type": "display_data"
    }
   ],
   "source": [
    "import matplotlib.pyplot as plt\n",
    "plt.figure(figsize=(5,5))\n",
    "plt.plot([i for i in range(EPOCHS)], train_loss_list)\n",
    "plt.plot([i for i in range(EPOCHS)], val_loss_list)\n",
    "plt.title(\"train and test loss\")"
   ]
  },
  {
   "cell_type": "markdown",
   "metadata": {
    "colab": {},
    "colab_type": "code",
    "executionInfo": {
     "elapsed": 5555806,
     "status": "ok",
     "timestamp": 1593477770931,
     "user": {
      "displayName": "Yingji Zhang",
      "photoUrl": "https://lh3.googleusercontent.com/a-/AOh14Giy2yxVSh1vrnIZ8Au7mLgRDopnFAPXv1dEVD5P=s64",
      "userId": "02250671043329935284"
     },
     "user_tz": -60
    },
    "id": "FdB7_vRKNQDi"
   },
   "source": [
    "tutorial: \n",
    "\n",
    "https://www.curiousily.com/posts/sentiment-analysis-with-bert-and-hugging-face-using-pytorch-and-python/\n",
    "\n",
    "https://www.youtube.com/watch?v=8N-nM3QW7O0\n",
    "\n",
    "https://www.youtube.com/watch?v=Osj0Z6rwJB4\n",
    "\n",
    "https://mccormickml.com/2019/07/22/BERT-fine-tuning/\n",
    "\n",
    "https://github.com/kaushaltrivedi/fast-bert"
   ]
  },
  {
   "cell_type": "code",
   "execution_count": null,
   "metadata": {},
   "outputs": [],
   "source": []
  }
 ],
 "metadata": {
  "accelerator": "GPU",
  "colab": {
   "authorship_tag": "ABX9TyPr6myXFYINt7Jd9JPkZBoW",
   "collapsed_sections": [],
   "name": "system-4.ipynb",
   "provenance": []
  },
  "kernelspec": {
   "display_name": "Python 3",
   "language": "python",
   "name": "python3"
  },
  "language_info": {
   "codemirror_mode": {
    "name": "ipython",
    "version": 3
   },
   "file_extension": ".py",
   "mimetype": "text/x-python",
   "name": "python",
   "nbconvert_exporter": "python",
   "pygments_lexer": "ipython3",
   "version": "3.7.3"
  },
  "widgets": {
   "application/vnd.jupyter.widget-state+json": {
    "080866000586408faa5638225f08d44c": {
     "model_module": "@jupyter-widgets/controls",
     "model_name": "ProgressStyleModel",
     "state": {
      "_model_module": "@jupyter-widgets/controls",
      "_model_module_version": "1.5.0",
      "_model_name": "ProgressStyleModel",
      "_view_count": null,
      "_view_module": "@jupyter-widgets/base",
      "_view_module_version": "1.2.0",
      "_view_name": "StyleView",
      "bar_color": null,
      "description_width": "initial"
     }
    },
    "0b2f703775fc4153b52d875673aef116": {
     "model_module": "@jupyter-widgets/base",
     "model_name": "LayoutModel",
     "state": {
      "_model_module": "@jupyter-widgets/base",
      "_model_module_version": "1.2.0",
      "_model_name": "LayoutModel",
      "_view_count": null,
      "_view_module": "@jupyter-widgets/base",
      "_view_module_version": "1.2.0",
      "_view_name": "LayoutView",
      "align_content": null,
      "align_items": null,
      "align_self": null,
      "border": null,
      "bottom": null,
      "display": null,
      "flex": null,
      "flex_flow": null,
      "grid_area": null,
      "grid_auto_columns": null,
      "grid_auto_flow": null,
      "grid_auto_rows": null,
      "grid_column": null,
      "grid_gap": null,
      "grid_row": null,
      "grid_template_areas": null,
      "grid_template_columns": null,
      "grid_template_rows": null,
      "height": null,
      "justify_content": null,
      "justify_items": null,
      "left": null,
      "margin": null,
      "max_height": null,
      "max_width": null,
      "min_height": null,
      "min_width": null,
      "object_fit": null,
      "object_position": null,
      "order": null,
      "overflow": null,
      "overflow_x": null,
      "overflow_y": null,
      "padding": null,
      "right": null,
      "top": null,
      "visibility": null,
      "width": null
     }
    },
    "0e09b7d3210d40098564758fcffb16ec": {
     "model_module": "@jupyter-widgets/controls",
     "model_name": "DescriptionStyleModel",
     "state": {
      "_model_module": "@jupyter-widgets/controls",
      "_model_module_version": "1.5.0",
      "_model_name": "DescriptionStyleModel",
      "_view_count": null,
      "_view_module": "@jupyter-widgets/base",
      "_view_module_version": "1.2.0",
      "_view_name": "StyleView",
      "description_width": ""
     }
    },
    "19ad9f92be9f44ea977b3e3c3ef6e416": {
     "model_module": "@jupyter-widgets/controls",
     "model_name": "HBoxModel",
     "state": {
      "_dom_classes": [],
      "_model_module": "@jupyter-widgets/controls",
      "_model_module_version": "1.5.0",
      "_model_name": "HBoxModel",
      "_view_count": null,
      "_view_module": "@jupyter-widgets/controls",
      "_view_module_version": "1.5.0",
      "_view_name": "HBoxView",
      "box_style": "",
      "children": [
       "IPY_MODEL_3acb6fbbfcf54e23b4b40e76cdb93a0d",
       "IPY_MODEL_ce134bf08c3d41d2be5cd0e049df0ac7"
      ],
      "layout": "IPY_MODEL_9c7f3069db8a4d7a9a96986c559219d3"
     }
    },
    "3176110f3dfb46db92d33155f39d3d80": {
     "model_module": "@jupyter-widgets/base",
     "model_name": "LayoutModel",
     "state": {
      "_model_module": "@jupyter-widgets/base",
      "_model_module_version": "1.2.0",
      "_model_name": "LayoutModel",
      "_view_count": null,
      "_view_module": "@jupyter-widgets/base",
      "_view_module_version": "1.2.0",
      "_view_name": "LayoutView",
      "align_content": null,
      "align_items": null,
      "align_self": null,
      "border": null,
      "bottom": null,
      "display": null,
      "flex": null,
      "flex_flow": null,
      "grid_area": null,
      "grid_auto_columns": null,
      "grid_auto_flow": null,
      "grid_auto_rows": null,
      "grid_column": null,
      "grid_gap": null,
      "grid_row": null,
      "grid_template_areas": null,
      "grid_template_columns": null,
      "grid_template_rows": null,
      "height": null,
      "justify_content": null,
      "justify_items": null,
      "left": null,
      "margin": null,
      "max_height": null,
      "max_width": null,
      "min_height": null,
      "min_width": null,
      "object_fit": null,
      "object_position": null,
      "order": null,
      "overflow": null,
      "overflow_x": null,
      "overflow_y": null,
      "padding": null,
      "right": null,
      "top": null,
      "visibility": null,
      "width": null
     }
    },
    "354ee1e459bd496cac8b398e2c5d1edc": {
     "model_module": "@jupyter-widgets/base",
     "model_name": "LayoutModel",
     "state": {
      "_model_module": "@jupyter-widgets/base",
      "_model_module_version": "1.2.0",
      "_model_name": "LayoutModel",
      "_view_count": null,
      "_view_module": "@jupyter-widgets/base",
      "_view_module_version": "1.2.0",
      "_view_name": "LayoutView",
      "align_content": null,
      "align_items": null,
      "align_self": null,
      "border": null,
      "bottom": null,
      "display": null,
      "flex": null,
      "flex_flow": null,
      "grid_area": null,
      "grid_auto_columns": null,
      "grid_auto_flow": null,
      "grid_auto_rows": null,
      "grid_column": null,
      "grid_gap": null,
      "grid_row": null,
      "grid_template_areas": null,
      "grid_template_columns": null,
      "grid_template_rows": null,
      "height": null,
      "justify_content": null,
      "justify_items": null,
      "left": null,
      "margin": null,
      "max_height": null,
      "max_width": null,
      "min_height": null,
      "min_width": null,
      "object_fit": null,
      "object_position": null,
      "order": null,
      "overflow": null,
      "overflow_x": null,
      "overflow_y": null,
      "padding": null,
      "right": null,
      "top": null,
      "visibility": null,
      "width": null
     }
    },
    "39a11b4a0fb448bcb2bd47e84adc72ef": {
     "model_module": "@jupyter-widgets/base",
     "model_name": "LayoutModel",
     "state": {
      "_model_module": "@jupyter-widgets/base",
      "_model_module_version": "1.2.0",
      "_model_name": "LayoutModel",
      "_view_count": null,
      "_view_module": "@jupyter-widgets/base",
      "_view_module_version": "1.2.0",
      "_view_name": "LayoutView",
      "align_content": null,
      "align_items": null,
      "align_self": null,
      "border": null,
      "bottom": null,
      "display": null,
      "flex": null,
      "flex_flow": null,
      "grid_area": null,
      "grid_auto_columns": null,
      "grid_auto_flow": null,
      "grid_auto_rows": null,
      "grid_column": null,
      "grid_gap": null,
      "grid_row": null,
      "grid_template_areas": null,
      "grid_template_columns": null,
      "grid_template_rows": null,
      "height": null,
      "justify_content": null,
      "justify_items": null,
      "left": null,
      "margin": null,
      "max_height": null,
      "max_width": null,
      "min_height": null,
      "min_width": null,
      "object_fit": null,
      "object_position": null,
      "order": null,
      "overflow": null,
      "overflow_x": null,
      "overflow_y": null,
      "padding": null,
      "right": null,
      "top": null,
      "visibility": null,
      "width": null
     }
    },
    "3acb6fbbfcf54e23b4b40e76cdb93a0d": {
     "model_module": "@jupyter-widgets/controls",
     "model_name": "FloatProgressModel",
     "state": {
      "_dom_classes": [],
      "_model_module": "@jupyter-widgets/controls",
      "_model_module_version": "1.5.0",
      "_model_name": "FloatProgressModel",
      "_view_count": null,
      "_view_module": "@jupyter-widgets/controls",
      "_view_module_version": "1.5.0",
      "_view_name": "ProgressView",
      "bar_style": "success",
      "description": "100%",
      "description_tooltip": null,
      "layout": "IPY_MODEL_c8dcf0ca1df448198eb109a96b1c4de0",
      "max": 29113,
      "min": 0,
      "orientation": "horizontal",
      "style": "IPY_MODEL_080866000586408faa5638225f08d44c",
      "value": 29113
     }
    },
    "4789bc4b86b0494e86e2e47829278b04": {
     "model_module": "@jupyter-widgets/controls",
     "model_name": "HBoxModel",
     "state": {
      "_dom_classes": [],
      "_model_module": "@jupyter-widgets/controls",
      "_model_module_version": "1.5.0",
      "_model_name": "HBoxModel",
      "_view_count": null,
      "_view_module": "@jupyter-widgets/controls",
      "_view_module_version": "1.5.0",
      "_view_name": "HBoxView",
      "box_style": "",
      "children": [
       "IPY_MODEL_814b506912eb4e0d9b3e62db85ba92d1",
       "IPY_MODEL_5269599dfa1c4f349a56dc1780c0c3a6"
      ],
      "layout": "IPY_MODEL_a62a071cb3ea4d2d9e80af175e7332e8"
     }
    },
    "5269599dfa1c4f349a56dc1780c0c3a6": {
     "model_module": "@jupyter-widgets/controls",
     "model_name": "HTMLModel",
     "state": {
      "_dom_classes": [],
      "_model_module": "@jupyter-widgets/controls",
      "_model_module_version": "1.5.0",
      "_model_name": "HTMLModel",
      "_view_count": null,
      "_view_module": "@jupyter-widgets/controls",
      "_view_module_version": "1.5.0",
      "_view_name": "HTMLView",
      "description": "",
      "description_tooltip": null,
      "layout": "IPY_MODEL_5d7c068030a2450f8cce60eb470e237b",
      "placeholder": "​",
      "style": "IPY_MODEL_0e09b7d3210d40098564758fcffb16ec",
      "value": " 8179/8179 [00:02&lt;00:00, 3017.47it/s]"
     }
    },
    "55dab9f2991e4fe1848d500f1fead945": {
     "model_module": "@jupyter-widgets/controls",
     "model_name": "HBoxModel",
     "state": {
      "_dom_classes": [],
      "_model_module": "@jupyter-widgets/controls",
      "_model_module_version": "1.5.0",
      "_model_name": "HBoxModel",
      "_view_count": null,
      "_view_module": "@jupyter-widgets/controls",
      "_view_module_version": "1.5.0",
      "_view_name": "HBoxView",
      "box_style": "",
      "children": [
       "IPY_MODEL_de327f6eeadd4efb947bb652694f64e8",
       "IPY_MODEL_f2a889491aa740c280326d82987cd1a3"
      ],
      "layout": "IPY_MODEL_0b2f703775fc4153b52d875673aef116"
     }
    },
    "5d7c068030a2450f8cce60eb470e237b": {
     "model_module": "@jupyter-widgets/base",
     "model_name": "LayoutModel",
     "state": {
      "_model_module": "@jupyter-widgets/base",
      "_model_module_version": "1.2.0",
      "_model_name": "LayoutModel",
      "_view_count": null,
      "_view_module": "@jupyter-widgets/base",
      "_view_module_version": "1.2.0",
      "_view_name": "LayoutView",
      "align_content": null,
      "align_items": null,
      "align_self": null,
      "border": null,
      "bottom": null,
      "display": null,
      "flex": null,
      "flex_flow": null,
      "grid_area": null,
      "grid_auto_columns": null,
      "grid_auto_flow": null,
      "grid_auto_rows": null,
      "grid_column": null,
      "grid_gap": null,
      "grid_row": null,
      "grid_template_areas": null,
      "grid_template_columns": null,
      "grid_template_rows": null,
      "height": null,
      "justify_content": null,
      "justify_items": null,
      "left": null,
      "margin": null,
      "max_height": null,
      "max_width": null,
      "min_height": null,
      "min_width": null,
      "object_fit": null,
      "object_position": null,
      "order": null,
      "overflow": null,
      "overflow_x": null,
      "overflow_y": null,
      "padding": null,
      "right": null,
      "top": null,
      "visibility": null,
      "width": null
     }
    },
    "814b506912eb4e0d9b3e62db85ba92d1": {
     "model_module": "@jupyter-widgets/controls",
     "model_name": "FloatProgressModel",
     "state": {
      "_dom_classes": [],
      "_model_module": "@jupyter-widgets/controls",
      "_model_module_version": "1.5.0",
      "_model_name": "FloatProgressModel",
      "_view_count": null,
      "_view_module": "@jupyter-widgets/controls",
      "_view_module_version": "1.5.0",
      "_view_name": "ProgressView",
      "bar_style": "success",
      "description": "100%",
      "description_tooltip": null,
      "layout": "IPY_MODEL_354ee1e459bd496cac8b398e2c5d1edc",
      "max": 8179,
      "min": 0,
      "orientation": "horizontal",
      "style": "IPY_MODEL_e426a73e23d249b382336bb9aff0b7ce",
      "value": 8179
     }
    },
    "9c7f3069db8a4d7a9a96986c559219d3": {
     "model_module": "@jupyter-widgets/base",
     "model_name": "LayoutModel",
     "state": {
      "_model_module": "@jupyter-widgets/base",
      "_model_module_version": "1.2.0",
      "_model_name": "LayoutModel",
      "_view_count": null,
      "_view_module": "@jupyter-widgets/base",
      "_view_module_version": "1.2.0",
      "_view_name": "LayoutView",
      "align_content": null,
      "align_items": null,
      "align_self": null,
      "border": null,
      "bottom": null,
      "display": null,
      "flex": null,
      "flex_flow": null,
      "grid_area": null,
      "grid_auto_columns": null,
      "grid_auto_flow": null,
      "grid_auto_rows": null,
      "grid_column": null,
      "grid_gap": null,
      "grid_row": null,
      "grid_template_areas": null,
      "grid_template_columns": null,
      "grid_template_rows": null,
      "height": null,
      "justify_content": null,
      "justify_items": null,
      "left": null,
      "margin": null,
      "max_height": null,
      "max_width": null,
      "min_height": null,
      "min_width": null,
      "object_fit": null,
      "object_position": null,
      "order": null,
      "overflow": null,
      "overflow_x": null,
      "overflow_y": null,
      "padding": null,
      "right": null,
      "top": null,
      "visibility": null,
      "width": null
     }
    },
    "a0163e4816af4b118a076f22f1931085": {
     "model_module": "@jupyter-widgets/controls",
     "model_name": "DescriptionStyleModel",
     "state": {
      "_model_module": "@jupyter-widgets/controls",
      "_model_module_version": "1.5.0",
      "_model_name": "DescriptionStyleModel",
      "_view_count": null,
      "_view_module": "@jupyter-widgets/base",
      "_view_module_version": "1.2.0",
      "_view_name": "StyleView",
      "description_width": ""
     }
    },
    "a62a071cb3ea4d2d9e80af175e7332e8": {
     "model_module": "@jupyter-widgets/base",
     "model_name": "LayoutModel",
     "state": {
      "_model_module": "@jupyter-widgets/base",
      "_model_module_version": "1.2.0",
      "_model_name": "LayoutModel",
      "_view_count": null,
      "_view_module": "@jupyter-widgets/base",
      "_view_module_version": "1.2.0",
      "_view_name": "LayoutView",
      "align_content": null,
      "align_items": null,
      "align_self": null,
      "border": null,
      "bottom": null,
      "display": null,
      "flex": null,
      "flex_flow": null,
      "grid_area": null,
      "grid_auto_columns": null,
      "grid_auto_flow": null,
      "grid_auto_rows": null,
      "grid_column": null,
      "grid_gap": null,
      "grid_row": null,
      "grid_template_areas": null,
      "grid_template_columns": null,
      "grid_template_rows": null,
      "height": null,
      "justify_content": null,
      "justify_items": null,
      "left": null,
      "margin": null,
      "max_height": null,
      "max_width": null,
      "min_height": null,
      "min_width": null,
      "object_fit": null,
      "object_position": null,
      "order": null,
      "overflow": null,
      "overflow_x": null,
      "overflow_y": null,
      "padding": null,
      "right": null,
      "top": null,
      "visibility": null,
      "width": null
     }
    },
    "bc5dabd2ca7946d1b430ef297a1d4770": {
     "model_module": "@jupyter-widgets/base",
     "model_name": "LayoutModel",
     "state": {
      "_model_module": "@jupyter-widgets/base",
      "_model_module_version": "1.2.0",
      "_model_name": "LayoutModel",
      "_view_count": null,
      "_view_module": "@jupyter-widgets/base",
      "_view_module_version": "1.2.0",
      "_view_name": "LayoutView",
      "align_content": null,
      "align_items": null,
      "align_self": null,
      "border": null,
      "bottom": null,
      "display": null,
      "flex": null,
      "flex_flow": null,
      "grid_area": null,
      "grid_auto_columns": null,
      "grid_auto_flow": null,
      "grid_auto_rows": null,
      "grid_column": null,
      "grid_gap": null,
      "grid_row": null,
      "grid_template_areas": null,
      "grid_template_columns": null,
      "grid_template_rows": null,
      "height": null,
      "justify_content": null,
      "justify_items": null,
      "left": null,
      "margin": null,
      "max_height": null,
      "max_width": null,
      "min_height": null,
      "min_width": null,
      "object_fit": null,
      "object_position": null,
      "order": null,
      "overflow": null,
      "overflow_x": null,
      "overflow_y": null,
      "padding": null,
      "right": null,
      "top": null,
      "visibility": null,
      "width": null
     }
    },
    "bfa751156460470785994d6f54f077b3": {
     "model_module": "@jupyter-widgets/controls",
     "model_name": "DescriptionStyleModel",
     "state": {
      "_model_module": "@jupyter-widgets/controls",
      "_model_module_version": "1.5.0",
      "_model_name": "DescriptionStyleModel",
      "_view_count": null,
      "_view_module": "@jupyter-widgets/base",
      "_view_module_version": "1.2.0",
      "_view_name": "StyleView",
      "description_width": ""
     }
    },
    "c8dcf0ca1df448198eb109a96b1c4de0": {
     "model_module": "@jupyter-widgets/base",
     "model_name": "LayoutModel",
     "state": {
      "_model_module": "@jupyter-widgets/base",
      "_model_module_version": "1.2.0",
      "_model_name": "LayoutModel",
      "_view_count": null,
      "_view_module": "@jupyter-widgets/base",
      "_view_module_version": "1.2.0",
      "_view_name": "LayoutView",
      "align_content": null,
      "align_items": null,
      "align_self": null,
      "border": null,
      "bottom": null,
      "display": null,
      "flex": null,
      "flex_flow": null,
      "grid_area": null,
      "grid_auto_columns": null,
      "grid_auto_flow": null,
      "grid_auto_rows": null,
      "grid_column": null,
      "grid_gap": null,
      "grid_row": null,
      "grid_template_areas": null,
      "grid_template_columns": null,
      "grid_template_rows": null,
      "height": null,
      "justify_content": null,
      "justify_items": null,
      "left": null,
      "margin": null,
      "max_height": null,
      "max_width": null,
      "min_height": null,
      "min_width": null,
      "object_fit": null,
      "object_position": null,
      "order": null,
      "overflow": null,
      "overflow_x": null,
      "overflow_y": null,
      "padding": null,
      "right": null,
      "top": null,
      "visibility": null,
      "width": null
     }
    },
    "ce134bf08c3d41d2be5cd0e049df0ac7": {
     "model_module": "@jupyter-widgets/controls",
     "model_name": "HTMLModel",
     "state": {
      "_dom_classes": [],
      "_model_module": "@jupyter-widgets/controls",
      "_model_module_version": "1.5.0",
      "_model_name": "HTMLModel",
      "_view_count": null,
      "_view_module": "@jupyter-widgets/controls",
      "_view_module_version": "1.5.0",
      "_view_name": "HTMLView",
      "description": "",
      "description_tooltip": null,
      "layout": "IPY_MODEL_bc5dabd2ca7946d1b430ef297a1d4770",
      "placeholder": "​",
      "style": "IPY_MODEL_a0163e4816af4b118a076f22f1931085",
      "value": " 29113/29113 [10:26&lt;00:00, 46.45it/s]"
     }
    },
    "de327f6eeadd4efb947bb652694f64e8": {
     "model_module": "@jupyter-widgets/controls",
     "model_name": "FloatProgressModel",
     "state": {
      "_dom_classes": [],
      "_model_module": "@jupyter-widgets/controls",
      "_model_module_version": "1.5.0",
      "_model_name": "FloatProgressModel",
      "_view_count": null,
      "_view_module": "@jupyter-widgets/controls",
      "_view_module_version": "1.5.0",
      "_view_name": "ProgressView",
      "bar_style": "success",
      "description": "100%",
      "description_tooltip": null,
      "layout": "IPY_MODEL_39a11b4a0fb448bcb2bd47e84adc72ef",
      "max": 30,
      "min": 0,
      "orientation": "horizontal",
      "style": "IPY_MODEL_e19f97b83a504b3898cae4c19034a7f9",
      "value": 30
     }
    },
    "e19f97b83a504b3898cae4c19034a7f9": {
     "model_module": "@jupyter-widgets/controls",
     "model_name": "ProgressStyleModel",
     "state": {
      "_model_module": "@jupyter-widgets/controls",
      "_model_module_version": "1.5.0",
      "_model_name": "ProgressStyleModel",
      "_view_count": null,
      "_view_module": "@jupyter-widgets/base",
      "_view_module_version": "1.2.0",
      "_view_name": "StyleView",
      "bar_color": null,
      "description_width": "initial"
     }
    },
    "e426a73e23d249b382336bb9aff0b7ce": {
     "model_module": "@jupyter-widgets/controls",
     "model_name": "ProgressStyleModel",
     "state": {
      "_model_module": "@jupyter-widgets/controls",
      "_model_module_version": "1.5.0",
      "_model_name": "ProgressStyleModel",
      "_view_count": null,
      "_view_module": "@jupyter-widgets/base",
      "_view_module_version": "1.2.0",
      "_view_name": "StyleView",
      "bar_color": null,
      "description_width": "initial"
     }
    },
    "f2a889491aa740c280326d82987cd1a3": {
     "model_module": "@jupyter-widgets/controls",
     "model_name": "HTMLModel",
     "state": {
      "_dom_classes": [],
      "_model_module": "@jupyter-widgets/controls",
      "_model_module_version": "1.5.0",
      "_model_name": "HTMLModel",
      "_view_count": null,
      "_view_module": "@jupyter-widgets/controls",
      "_view_module_version": "1.5.0",
      "_view_name": "HTMLView",
      "description": "",
      "description_tooltip": null,
      "layout": "IPY_MODEL_3176110f3dfb46db92d33155f39d3d80",
      "placeholder": "​",
      "style": "IPY_MODEL_bfa751156460470785994d6f54f077b3",
      "value": " 30/30 [1:32:17&lt;00:00, 184.59s/it]"
     }
    }
   }
  }
 },
 "nbformat": 4,
 "nbformat_minor": 1
}
