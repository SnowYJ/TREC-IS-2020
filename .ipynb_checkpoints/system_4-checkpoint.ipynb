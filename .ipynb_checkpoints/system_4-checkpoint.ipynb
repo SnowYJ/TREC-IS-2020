{
 "cells": [
  {
   "cell_type": "markdown",
   "metadata": {},
   "source": [
    "## Bert multi-class"
   ]
  },
  {
   "cell_type": "code",
   "execution_count": 68,
   "metadata": {
    "colab": {
     "base_uri": "https://localhost:8080/",
     "height": 360
    },
    "colab_type": "code",
    "executionInfo": {
     "elapsed": 4590,
     "status": "ok",
     "timestamp": 1593552785422,
     "user": {
      "displayName": "Yingji Zhang",
      "photoUrl": "https://lh3.googleusercontent.com/a-/AOh14Giy2yxVSh1vrnIZ8Au7mLgRDopnFAPXv1dEVD5P=s64",
      "userId": "02250671043329935284"
     },
     "user_tz": -60
    },
    "id": "5wyNvJp3w0z2",
    "outputId": "94bc460d-dab5-4398-e932-6ec0906d994f"
   },
   "outputs": [
    {
     "name": "stdout",
     "output_type": "stream",
     "text": [
      "Requirement already satisfied: transformers in /usr/local/lib/python3.6/dist-packages (3.0.0)\n",
      "Requirement already satisfied: requests in /usr/local/lib/python3.6/dist-packages (from transformers) (2.23.0)\n",
      "Requirement already satisfied: filelock in /usr/local/lib/python3.6/dist-packages (from transformers) (3.0.12)\n",
      "Requirement already satisfied: packaging in /usr/local/lib/python3.6/dist-packages (from transformers) (20.4)\n",
      "Requirement already satisfied: tqdm>=4.27 in /usr/local/lib/python3.6/dist-packages (from transformers) (4.41.1)\n",
      "Requirement already satisfied: sentencepiece in /usr/local/lib/python3.6/dist-packages (from transformers) (0.1.91)\n",
      "Requirement already satisfied: regex!=2019.12.17 in /usr/local/lib/python3.6/dist-packages (from transformers) (2019.12.20)\n",
      "Requirement already satisfied: sacremoses in /usr/local/lib/python3.6/dist-packages (from transformers) (0.0.43)\n",
      "Requirement already satisfied: tokenizers==0.8.0-rc4 in /usr/local/lib/python3.6/dist-packages (from transformers) (0.8.0rc4)\n",
      "Requirement already satisfied: dataclasses; python_version < \"3.7\" in /usr/local/lib/python3.6/dist-packages (from transformers) (0.7)\n",
      "Requirement already satisfied: numpy in /usr/local/lib/python3.6/dist-packages (from transformers) (1.18.5)\n",
      "Requirement already satisfied: idna<3,>=2.5 in /usr/local/lib/python3.6/dist-packages (from requests->transformers) (2.9)\n",
      "Requirement already satisfied: chardet<4,>=3.0.2 in /usr/local/lib/python3.6/dist-packages (from requests->transformers) (3.0.4)\n",
      "Requirement already satisfied: certifi>=2017.4.17 in /usr/local/lib/python3.6/dist-packages (from requests->transformers) (2020.6.20)\n",
      "Requirement already satisfied: urllib3!=1.25.0,!=1.25.1,<1.26,>=1.21.1 in /usr/local/lib/python3.6/dist-packages (from requests->transformers) (1.24.3)\n",
      "Requirement already satisfied: six in /usr/local/lib/python3.6/dist-packages (from packaging->transformers) (1.12.0)\n",
      "Requirement already satisfied: pyparsing>=2.0.2 in /usr/local/lib/python3.6/dist-packages (from packaging->transformers) (2.4.7)\n",
      "Requirement already satisfied: click in /usr/local/lib/python3.6/dist-packages (from sacremoses->transformers) (7.1.2)\n",
      "Requirement already satisfied: joblib in /usr/local/lib/python3.6/dist-packages (from sacremoses->transformers) (0.15.1)\n"
     ]
    }
   ],
   "source": [
    "!pip install transformers"
   ]
  },
  {
   "cell_type": "code",
   "execution_count": 69,
   "metadata": {
    "colab": {},
    "colab_type": "code",
    "executionInfo": {
     "elapsed": 4580,
     "status": "ok",
     "timestamp": 1593552785423,
     "user": {
      "displayName": "Yingji Zhang",
      "photoUrl": "https://lh3.googleusercontent.com/a-/AOh14Giy2yxVSh1vrnIZ8Au7mLgRDopnFAPXv1dEVD5P=s64",
      "userId": "02250671043329935284"
     },
     "user_tz": -60
    },
    "id": "x6o_YDtUxCW7"
   },
   "outputs": [],
   "source": [
    "import transformers\n",
    "import torch\n",
    "import pandas as pd\n",
    "from tqdm.notebook import tqdm\n",
    "import torch.nn as nn\n",
    "from sklearn.model_selection import train_test_split\n",
    "from torch.utils import data\n",
    "import numpy as np\n",
    "from transformers import AdamW # optimizer\n",
    "from transformers import get_linear_schedule_with_warmup # for learning rate\n",
    "from transformers import BertModel\n",
    "import torch.nn.functional as F"
   ]
  },
  {
   "cell_type": "code",
   "execution_count": 70,
   "metadata": {
    "colab": {},
    "colab_type": "code",
    "executionInfo": {
     "elapsed": 5704,
     "status": "ok",
     "timestamp": 1593552786552,
     "user": {
      "displayName": "Yingji Zhang",
      "photoUrl": "https://lh3.googleusercontent.com/a-/AOh14Giy2yxVSh1vrnIZ8Au7mLgRDopnFAPXv1dEVD5P=s64",
      "userId": "02250671043329935284"
     },
     "user_tz": -60
    },
    "id": "jwFpwMhHxTat"
   },
   "outputs": [],
   "source": [
    "tokenizer = transformers.BertTokenizer.from_pretrained('bert-base-uncased')"
   ]
  },
  {
   "cell_type": "code",
   "execution_count": 71,
   "metadata": {
    "colab": {
     "base_uri": "https://localhost:8080/",
     "height": 149,
     "referenced_widgets": [
      "6037ca50a09d4e899d8ee36694dd6465",
      "ed33de2c14c04a3ba6836e3c0b668939",
      "142d27f4f3544bc5be4ac02a7fc4c8db",
      "e9b8924d2e2b4c4ebe741ab0971112db",
      "984dcf61cebb411caceadb0c996592a3",
      "078155a843ad464daa8a2d5283a2cae3",
      "18f1cd71561e4e98ada4e75b0a080187",
      "017327b6245c4d4584caf77fabad09ab",
      "60fc5d7ba7094c8395a89bd6a613e4ef",
      "3bbef768a92443daabbe295f83e8ffc6",
      "92918c3d21994883b0f16a3362310998",
      "167641b7378b45d9a95037328fdec65d",
      "ed90dc0417834b31af3fd2da9ad16c66",
      "12172eafa09e4fb4a0015f76ab404e19",
      "af40608727234fb6b5a971e7ba4e3672",
      "50f501ac5b24485caec95d341c9ab0ca"
     ]
    },
    "colab_type": "code",
    "executionInfo": {
     "elapsed": 15820,
     "status": "ok",
     "timestamp": 1593552796675,
     "user": {
      "displayName": "Yingji Zhang",
      "photoUrl": "https://lh3.googleusercontent.com/a-/AOh14Giy2yxVSh1vrnIZ8Au7mLgRDopnFAPXv1dEVD5P=s64",
      "userId": "02250671043329935284"
     },
     "user_tz": -60
    },
    "id": "kGt-cJzKxX-t",
    "outputId": "bfbb4239-5a2b-469e-83b4-74183f27fc03"
   },
   "outputs": [
    {
     "name": "stdout",
     "output_type": "stream",
     "text": [
      "size of train set:  29113\n",
      "size of test set:  8179\n"
     ]
    },
    {
     "data": {
      "application/vnd.jupyter.widget-view+json": {
       "model_id": "6037ca50a09d4e899d8ee36694dd6465",
       "version_major": 2,
       "version_minor": 0
      },
      "text/plain": [
       "HBox(children=(FloatProgress(value=0.0, max=29113.0), HTML(value='')))"
      ]
     },
     "metadata": {
      "tags": []
     },
     "output_type": "display_data"
    },
    {
     "name": "stdout",
     "output_type": "stream",
     "text": [
      "\n"
     ]
    },
    {
     "data": {
      "application/vnd.jupyter.widget-view+json": {
       "model_id": "60fc5d7ba7094c8395a89bd6a613e4ef",
       "version_major": 2,
       "version_minor": 0
      },
      "text/plain": [
       "HBox(children=(FloatProgress(value=0.0, max=8179.0), HTML(value='')))"
      ]
     },
     "metadata": {
      "tags": []
     },
     "output_type": "display_data"
    },
    {
     "name": "stdout",
     "output_type": "stream",
     "text": [
      "\n"
     ]
    }
   ],
   "source": [
    "dataset = pd.read_csv(\"sample_data/new_label_dataset.csv\")[['content', 'priority']]\n",
    "testset = pd.read_csv(\"sample_data/new_label_testset.csv\")[['content', 'priority']]\n",
    "dataset = dataset[dataset['priority'] != 'Unknown'].reset_index(drop=True)\n",
    "testset = testset[testset['priority'] != 'Unknown'].reset_index(drop=True)\n",
    "\n",
    "print(\"size of train set: \", len(dataset))\n",
    "print(\"size of test set: \", len(testset))\n",
    "\n",
    "for i in tqdm(range(len(dataset))):\n",
    "    if dataset.loc[i, 'priority'] == 'Critical': dataset.loc[i, 'priority'] = 0\n",
    "    elif dataset.loc[i, 'priority'] == 'High': dataset.loc[i, 'priority'] = 1\n",
    "    elif dataset.loc[i, 'priority'] == 'Medium': dataset.loc[i, 'priority'] = 2\n",
    "    elif dataset.loc[i, 'priority'] == 'Low': dataset.loc[i, 'priority'] = 3\n",
    "    else:\n",
    "        pass\n",
    "\n",
    "for i in tqdm(range(len(testset))):\n",
    "    if testset.loc[i, 'priority'] == 'Critical': testset.loc[i, 'priority'] = 0\n",
    "    elif testset.loc[i, 'priority'] == 'High': testset.loc[i, 'priority'] = 1\n",
    "    elif testset.loc[i, 'priority'] == 'Medium': testset.loc[i, 'priority'] = 2\n",
    "    elif testset.loc[i, 'priority'] == 'Low': testset.loc[i, 'priority'] = 3\n",
    "    else:\n",
    "        pass "
   ]
  },
  {
   "cell_type": "code",
   "execution_count": 72,
   "metadata": {
    "colab": {
     "base_uri": "https://localhost:8080/",
     "height": 142
    },
    "colab_type": "code",
    "executionInfo": {
     "elapsed": 15810,
     "status": "ok",
     "timestamp": 1593552796676,
     "user": {
      "displayName": "Yingji Zhang",
      "photoUrl": "https://lh3.googleusercontent.com/a-/AOh14Giy2yxVSh1vrnIZ8Au7mLgRDopnFAPXv1dEVD5P=s64",
      "userId": "02250671043329935284"
     },
     "user_tz": -60
    },
    "id": "v4__-MfP0BHq",
    "outputId": "9737b9cf-141c-4778-84aa-e3fc0f59defa"
   },
   "outputs": [
    {
     "data": {
      "text/html": [
       "<div>\n",
       "<style scoped>\n",
       "    .dataframe tbody tr th:only-of-type {\n",
       "        vertical-align: middle;\n",
       "    }\n",
       "\n",
       "    .dataframe tbody tr th {\n",
       "        vertical-align: top;\n",
       "    }\n",
       "\n",
       "    .dataframe thead th {\n",
       "        text-align: right;\n",
       "    }\n",
       "</style>\n",
       "<table border=\"1\" class=\"dataframe\">\n",
       "  <thead>\n",
       "    <tr style=\"text-align: right;\">\n",
       "      <th></th>\n",
       "      <th>content</th>\n",
       "      <th>priority</th>\n",
       "    </tr>\n",
       "  </thead>\n",
       "  <tbody>\n",
       "    <tr>\n",
       "      <th>0</th>\n",
       "      <td>philippine flood worsen death toll hit wake ge...</td>\n",
       "      <td>3</td>\n",
       "    </tr>\n",
       "    <tr>\n",
       "      <th>1</th>\n",
       "      <td>philippine flood fatality hit</td>\n",
       "      <td>3</td>\n",
       "    </tr>\n",
       "    <tr>\n",
       "      <th>2</th>\n",
       "      <td>luzon dam release water flood warn up manila p...</td>\n",
       "      <td>3</td>\n",
       "    </tr>\n",
       "  </tbody>\n",
       "</table>\n",
       "</div>"
      ],
      "text/plain": [
       "                                             content priority\n",
       "0  philippine flood worsen death toll hit wake ge...        3\n",
       "1                     philippine flood fatality hit         3\n",
       "2  luzon dam release water flood warn up manila p...        3"
      ]
     },
     "execution_count": 72,
     "metadata": {
      "tags": []
     },
     "output_type": "execute_result"
    }
   ],
   "source": [
    "dataset[:3]"
   ]
  },
  {
   "cell_type": "code",
   "execution_count": 73,
   "metadata": {
    "colab": {
     "base_uri": "https://localhost:8080/",
     "height": 34
    },
    "colab_type": "code",
    "executionInfo": {
     "elapsed": 15800,
     "status": "ok",
     "timestamp": 1593552796676,
     "user": {
      "displayName": "Yingji Zhang",
      "photoUrl": "https://lh3.googleusercontent.com/a-/AOh14Giy2yxVSh1vrnIZ8Au7mLgRDopnFAPXv1dEVD5P=s64",
      "userId": "02250671043329935284"
     },
     "user_tz": -60
    },
    "id": "jssfUbLtkA1_",
    "outputId": "f4db0145-6aed-404d-cb9f-a29fd7b1d876"
   },
   "outputs": [
    {
     "data": {
      "text/plain": [
       "tensor([0.0072, 0.0822, 0.1255, 0.4665])"
      ]
     },
     "execution_count": 73,
     "metadata": {
      "tags": []
     },
     "output_type": "execute_result"
    }
   ],
   "source": [
    "weight = torch.tensor([len(dataset[dataset['priority']==0])/42726, len(dataset[dataset['priority']==1])/42726, len(dataset[dataset['priority']==2])/42726, len(dataset[dataset['priority']==3])/42726])\n",
    "\n",
    "weight"
   ]
  },
  {
   "cell_type": "code",
   "execution_count": 74,
   "metadata": {
    "colab": {},
    "colab_type": "code",
    "executionInfo": {
     "elapsed": 15791,
     "status": "ok",
     "timestamp": 1593552796677,
     "user": {
      "displayName": "Yingji Zhang",
      "photoUrl": "https://lh3.googleusercontent.com/a-/AOh14Giy2yxVSh1vrnIZ8Au7mLgRDopnFAPXv1dEVD5P=s64",
      "userId": "02250671043329935284"
     },
     "user_tz": -60
    },
    "id": "DIG5EVhmxtNe"
   },
   "outputs": [],
   "source": [
    "class GPRreviewDataset(data.Dataset):\n",
    "    def __init__(self, content, target, tokenizer, max_len):\n",
    "        self.content = content\n",
    "        self.target = target\n",
    "        self.tokenizer = tokenizer\n",
    "        self.max_len = max_len\n",
    "        \n",
    "    def __len__(self):\n",
    "        return len(self.content)\n",
    "    \n",
    "    def __getitem__(self, item):\n",
    "        content = str(self.content[item])\n",
    "        encoding = tokenizer.encode_plus(\n",
    "            content,\n",
    "            max_length=self.max_len,\n",
    "            add_special_tokens=True,\n",
    "            pad_to_max_length=True,\n",
    "            return_attention_mask=True,\n",
    "            return_token_type_ids=False,\n",
    "            truncation=True,\n",
    "            return_tensors='pt'\n",
    "        )\n",
    "        return {\n",
    "            'text': content,\n",
    "            'input_ids': encoding['input_ids'].flatten(),\n",
    "            'attention_mask': encoding['attention_mask'].flatten(),\n",
    "            'targets': torch.tensor(self.target[item], dtype=torch.long)\n",
    "        }"
   ]
  },
  {
   "cell_type": "code",
   "execution_count": 75,
   "metadata": {
    "colab": {},
    "colab_type": "code",
    "executionInfo": {
     "elapsed": 15787,
     "status": "ok",
     "timestamp": 1593552796677,
     "user": {
      "displayName": "Yingji Zhang",
      "photoUrl": "https://lh3.googleusercontent.com/a-/AOh14Giy2yxVSh1vrnIZ8Au7mLgRDopnFAPXv1dEVD5P=s64",
      "userId": "02250671043329935284"
     },
     "user_tz": -60
    },
    "id": "_32ZpBjLzLIT"
   },
   "outputs": [],
   "source": [
    "MAX_LEN = 30\n",
    "BATCH_SIZE = 32\n",
    "\n",
    "df_train, df_test = dataset, testset"
   ]
  },
  {
   "cell_type": "code",
   "execution_count": 76,
   "metadata": {
    "colab": {},
    "colab_type": "code",
    "executionInfo": {
     "elapsed": 15784,
     "status": "ok",
     "timestamp": 1593552796678,
     "user": {
      "displayName": "Yingji Zhang",
      "photoUrl": "https://lh3.googleusercontent.com/a-/AOh14Giy2yxVSh1vrnIZ8Au7mLgRDopnFAPXv1dEVD5P=s64",
      "userId": "02250671043329935284"
     },
     "user_tz": -60
    },
    "id": "smmVhQqFzVHN"
   },
   "outputs": [],
   "source": [
    "def create_data_loader(df, tokenizer, max_len, batch_size):\n",
    "    ds = GPRreviewDataset(\n",
    "        content = df.content.to_numpy(),\n",
    "        target = df.priority.to_numpy(),\n",
    "        tokenizer = tokenizer,\n",
    "        max_len = max_len,\n",
    "    )\n",
    "    return data.DataLoader(\n",
    "        ds, \n",
    "        batch_size = batch_size,\n",
    "    )"
   ]
  },
  {
   "cell_type": "code",
   "execution_count": 77,
   "metadata": {
    "colab": {},
    "colab_type": "code",
    "executionInfo": {
     "elapsed": 15779,
     "status": "ok",
     "timestamp": 1593552796678,
     "user": {
      "displayName": "Yingji Zhang",
      "photoUrl": "https://lh3.googleusercontent.com/a-/AOh14Giy2yxVSh1vrnIZ8Au7mLgRDopnFAPXv1dEVD5P=s64",
      "userId": "02250671043329935284"
     },
     "user_tz": -60
    },
    "id": "fmesCsVPzXvV"
   },
   "outputs": [],
   "source": [
    "train_loader = create_data_loader(df_train, tokenizer, MAX_LEN, BATCH_SIZE)\n",
    "test_loader = create_data_loader(df_test, tokenizer, MAX_LEN, BATCH_SIZE)"
   ]
  },
  {
   "cell_type": "code",
   "execution_count": 78,
   "metadata": {
    "colab": {
     "base_uri": "https://localhost:8080/",
     "height": 122
    },
    "colab_type": "code",
    "executionInfo": {
     "elapsed": 19371,
     "status": "ok",
     "timestamp": 1593552800276,
     "user": {
      "displayName": "Yingji Zhang",
      "photoUrl": "https://lh3.googleusercontent.com/a-/AOh14Giy2yxVSh1vrnIZ8Au7mLgRDopnFAPXv1dEVD5P=s64",
      "userId": "02250671043329935284"
     },
     "user_tz": -60
    },
    "id": "Rzyqg4X6AVZI",
    "outputId": "fd1a599d-f7ba-45de-cefc-788011832bcb"
   },
   "outputs": [
    {
     "name": "stderr",
     "output_type": "stream",
     "text": [
      "Some weights of the model checkpoint at bert-base-uncased were not used when initializing BertForSequenceClassification: ['cls.predictions.bias', 'cls.predictions.transform.dense.weight', 'cls.predictions.transform.dense.bias', 'cls.predictions.decoder.weight', 'cls.seq_relationship.weight', 'cls.seq_relationship.bias', 'cls.predictions.transform.LayerNorm.weight', 'cls.predictions.transform.LayerNorm.bias']\n",
      "- This IS expected if you are initializing BertForSequenceClassification from the checkpoint of a model trained on another task or with another architecture (e.g. initializing a BertForSequenceClassification model from a BertForPretraining model).\n",
      "- This IS NOT expected if you are initializing BertForSequenceClassification from the checkpoint of a model that you expect to be exactly identical (initializing a BertForSequenceClassification model from a BertForSequenceClassification model).\n",
      "Some weights of BertForSequenceClassification were not initialized from the model checkpoint at bert-base-uncased and are newly initialized: ['classifier.weight', 'classifier.bias']\n",
      "You should probably TRAIN this model on a down-stream task to be able to use it for predictions and inference.\n"
     ]
    }
   ],
   "source": [
    "from transformers import BertForSequenceClassification\n",
    "\n",
    "\n",
    "# Load BertForSequenceClassification, the pretrained BERT model with a single \n",
    "# linear classification layer on top. \n",
    "model = BertForSequenceClassification.from_pretrained(\n",
    "    \"bert-base-uncased\", \n",
    "    num_labels = 4,  \n",
    "    output_attentions = False,\n",
    "    output_hidden_states = False, # Whether the model returns all hidden-states.\n",
    ")\n",
    "\n",
    "device = 'cuda'\n",
    "model = model.to(device)"
   ]
  },
  {
   "cell_type": "code",
   "execution_count": 79,
   "metadata": {
    "colab": {},
    "colab_type": "code",
    "executionInfo": {
     "elapsed": 19362,
     "status": "ok",
     "timestamp": 1593552800277,
     "user": {
      "displayName": "Yingji Zhang",
      "photoUrl": "https://lh3.googleusercontent.com/a-/AOh14Giy2yxVSh1vrnIZ8Au7mLgRDopnFAPXv1dEVD5P=s64",
      "userId": "02250671043329935284"
     },
     "user_tz": -60
    },
    "id": "kl7Uuiiv2xTZ"
   },
   "outputs": [],
   "source": [
    "def train(model, data_loader, loss_fn, optimizer, device, scheduler, n_examples):\n",
    "    model = model.train()\n",
    "    losses = 0\n",
    "    correct_predictions = 0\n",
    "    for d in data_loader:\n",
    "        optimizer.zero_grad()\n",
    "        \n",
    "        input_ids = d['input_ids'].to(device)\n",
    "        attention_mask = d['attention_mask'].to(device)\n",
    "        targets = d['targets'].to(device)\n",
    "        \n",
    "        loss, logits = model(input_ids, token_type_ids=None, attention_mask=attention_mask, labels=targets)\n",
    "        loss.backward()\n",
    "\n",
    "        nn.utils.clip_grad_norm_(model.parameters(), max_norm=1.0)\n",
    "        optimizer.step()\n",
    "        scheduler.step()\n",
    "\n",
    "        losses+=loss.item()\n",
    "    return losses/len(data_loader)"
   ]
  },
  {
   "cell_type": "code",
   "execution_count": 80,
   "metadata": {
    "colab": {},
    "colab_type": "code",
    "executionInfo": {
     "elapsed": 19357,
     "status": "ok",
     "timestamp": 1593552800277,
     "user": {
      "displayName": "Yingji Zhang",
      "photoUrl": "https://lh3.googleusercontent.com/a-/AOh14Giy2yxVSh1vrnIZ8Au7mLgRDopnFAPXv1dEVD5P=s64",
      "userId": "02250671043329935284"
     },
     "user_tz": -60
    },
    "id": "Vcy9wJhm3G7O"
   },
   "outputs": [],
   "source": [
    "def val(model, data_loader, loss_fn, device, n_examples):\n",
    "    model = model.eval()\n",
    "    losses = 0\n",
    "    targets_list, prob_list = [], []\n",
    "    \n",
    "    with torch.no_grad():\n",
    "        for d in data_loader:\n",
    "            input_ids = d['input_ids'].to(device)\n",
    "            attention_mask = d['attention_mask'].to(device)\n",
    "            targets = d['targets'].to(device)\n",
    "\n",
    "            loss, logits = model(input_ids, token_type_ids=None, attention_mask=attention_mask,labels=targets)\n",
    "            \n",
    "            logits = logits.detach().cpu()\n",
    "            prob = F.softmax(logits, dim=1).numpy()\n",
    "\n",
    "            losses+=loss.item()\n",
    "            targets_list.append(targets)\n",
    "            prob_list.append(prob)\n",
    "    return losses/len(data_loader), targets_list, prob_list"
   ]
  },
  {
   "cell_type": "code",
   "execution_count": 81,
   "metadata": {
    "colab": {
     "base_uri": "https://localhost:8080/",
     "height": 576,
     "referenced_widgets": [
      "64f06205723a4aa7a2c63ade081aad5b",
      "61de60e6d3784815abe8965fc1366952",
      "0f9d2d6aa8d142ecb4122cf9786ddcdd",
      "9d3f46b4aae14b558bbdb3b968097ba0",
      "7cf5d3dd9cfa47a4a807b504800e4509",
      "71676086fd8b46fab57ef2ce80a5df6b",
      "5c16be92e668475fb3ea45a1224fc869",
      "9e4ca64226b5485b946c05bd47ece411"
     ]
    },
    "colab_type": "code",
    "executionInfo": {
     "elapsed": 2521423,
     "status": "ok",
     "timestamp": 1593559194761,
     "user": {
      "displayName": "Yingji Zhang",
      "photoUrl": "https://lh3.googleusercontent.com/a-/AOh14Giy2yxVSh1vrnIZ8Au7mLgRDopnFAPXv1dEVD5P=s64",
      "userId": "02250671043329935284"
     },
     "user_tz": -60
    },
    "id": "P7R6MbN73MyN",
    "outputId": "4ab9075e-2482-4704-d76b-69ff4c586e30"
   },
   "outputs": [
    {
     "data": {
      "application/vnd.jupyter.widget-view+json": {
       "model_id": "64f06205723a4aa7a2c63ade081aad5b",
       "version_major": 2,
       "version_minor": 0
      },
      "text/plain": [
       "HBox(children=(FloatProgress(value=0.0, max=30.0), HTML(value='')))"
      ]
     },
     "metadata": {
      "tags": []
     },
     "output_type": "display_data"
    },
    {
     "name": "stdout",
     "output_type": "stream",
     "text": [
      "train loss:  0.7705374629042305 val loss: 0.47217112967337016\n",
      "train loss:  0.7633861502161721 val loss: 0.47709171642782167\n",
      "train loss:  0.7070192237640475 val loss: 0.5152837299829116\n",
      "train loss:  0.6829728672014815 val loss: 0.5380142947979039\n",
      "train loss:  0.6742230783083609 val loss: 0.5364078381535364\n",
      "train loss:  0.6048035125319774 val loss: 0.5876604471122846\n",
      "train loss:  0.5392538697018728 val loss: 0.5675879717455246\n",
      "train loss:  0.4989341038555562 val loss: 0.6559780559473438\n",
      "train loss:  0.47074787093142234 val loss: 0.7190113053366076\n",
      "train loss:  0.4306738769860713 val loss: 0.7508641191816423\n",
      "train loss:  0.410749101503701 val loss: 0.7522167621646076\n",
      "train loss:  0.38447188904693164 val loss: 0.7826754457055358\n",
      "train loss:  0.3636226848985713 val loss: 0.8156945925002219\n",
      "train loss:  0.3368251916021109 val loss: 0.8882574426970677\n",
      "train loss:  0.3181829325517046 val loss: 0.9046175761322957\n",
      "train loss:  0.298800618689671 val loss: 0.8941515682963654\n",
      "train loss:  0.27716066892473745 val loss: 0.9554795728909085\n",
      "train loss:  0.26335656087804626 val loss: 0.9714174067776185\n",
      "train loss:  0.2394323182793764 val loss: 0.9938770017033676\n",
      "train loss:  0.22854284034775837 val loss: 1.0957475854083896\n",
      "train loss:  0.2156937247735786 val loss: 1.1086017080233432\n",
      "train loss:  0.21381727047980978 val loss: 1.1030535869504092\n",
      "train loss:  0.1961988629148966 val loss: 1.1339269680902362\n",
      "train loss:  0.19196050139502263 val loss: 1.2291722200170625\n",
      "train loss:  0.18763182788350424 val loss: 1.231689548585564\n",
      "train loss:  0.17832806974158183 val loss: 1.336204817489488\n",
      "train loss:  0.17366173347089808 val loss: 1.4917407305038068\n",
      "train loss:  0.16982726711616083 val loss: 1.608127693485585\n",
      "train loss:  0.17058015889846362 val loss: 1.7886005777691025\n",
      "train loss:  0.18188650217111949 val loss: 1.6217101587972138\n",
      "\n"
     ]
    }
   ],
   "source": [
    "EPOCHS = 30\n",
    "train_loss_list, val_loss_list = [], []\n",
    "\n",
    "total_steps = len(train_loader) * EPOCHS\n",
    "optimizer = AdamW(model.parameters(), lr=2e-5)\n",
    "\n",
    "scheduler = get_linear_schedule_with_warmup(\n",
    "    optimizer,\n",
    "    num_warmup_steps = 0,\n",
    "    num_training_steps = total_steps\n",
    ")\n",
    "\n",
    "for epoch in tqdm(range(EPOCHS)):\n",
    "    train_loss = train(\n",
    "        model,\n",
    "        train_loader,\n",
    "        loss_fn,\n",
    "        optimizer,\n",
    "        device,\n",
    "        scheduler,\n",
    "        len(df_train)\n",
    "    )\n",
    "\n",
    "    val_loss, targets_list, prob_list = val(\n",
    "        model,\n",
    "        test_loader,\n",
    "        loss_fn,\n",
    "        device,\n",
    "        len(df_test)\n",
    "    )\n",
    "\n",
    "    train_loss_list.append(train_loss)\n",
    "    val_loss_list.append(val_loss)\n",
    "    \n",
    "    print(\"train loss: \", train_loss, \"val loss:\", val_loss)\n",
    "\n",
    "    # if len(val_loss_list) >= 2:\n",
    "    #     if val_loss_list[-2] - val_loss_list[-1] < 0.01:\n",
    "    #         break"
   ]
  },
  {
   "cell_type": "markdown",
   "metadata": {},
   "source": [
    "### Result:"
   ]
  },
  {
   "cell_type": "code",
   "execution_count": 82,
   "metadata": {
    "colab": {
     "base_uri": "https://localhost:8080/",
     "height": 34
    },
    "colab_type": "code",
    "executionInfo": {
     "elapsed": 17,
     "status": "ok",
     "timestamp": 1593559194762,
     "user": {
      "displayName": "Yingji Zhang",
      "photoUrl": "https://lh3.googleusercontent.com/a-/AOh14Giy2yxVSh1vrnIZ8Au7mLgRDopnFAPXv1dEVD5P=s64",
      "userId": "02250671043329935284"
     },
     "user_tz": -60
    },
    "id": "IM_Pnle73xCe",
    "outputId": "91c32e5a-1965-43df-98b8-c91bdc1c4ebe"
   },
   "outputs": [
    {
     "name": "stdout",
     "output_type": "stream",
     "text": [
      "RMSE all:  0.05327899082140905\n"
     ]
    }
   ],
   "source": [
    "\n",
    "score = 0\n",
    "\n",
    "for i in range(len(targets_list)):\n",
    "    index_list = targets_list[i]\n",
    "    for j, index in enumerate(index_list):\n",
    "    key = index.item()\n",
    "    if key == 0: weight = 1\n",
    "    elif key == 1: weight = 0.75\n",
    "    elif key == 2: weight = 0.5\n",
    "    elif key == 3: weight = 0.25\n",
    "    else: weight = 0\n",
    "\n",
    "    score += (weight - weight * prob_list[i][j][key].item())**2\n",
    "\n",
    "score /= len(testset)\n",
    "\n",
    "print(\"RMSE all: \", score)"
   ]
  },
  {
   "cell_type": "code",
   "execution_count": 83,
   "metadata": {
    "colab": {
     "base_uri": "https://localhost:8080/",
     "height": 353
    },
    "colab_type": "code",
    "executionInfo": {
     "elapsed": 612,
     "status": "ok",
     "timestamp": 1593559195368,
     "user": {
      "displayName": "Yingji Zhang",
      "photoUrl": "https://lh3.googleusercontent.com/a-/AOh14Giy2yxVSh1vrnIZ8Au7mLgRDopnFAPXv1dEVD5P=s64",
      "userId": "02250671043329935284"
     },
     "user_tz": -60
    },
    "id": "yls0acLf3Tr9",
    "outputId": "924b6c98-f22d-488e-beab-a3ec3358f077"
   },
   "outputs": [
    {
     "data": {
      "text/plain": [
       "Text(0.5, 1.0, 'train and test loss')"
      ]
     },
     "execution_count": 83,
     "metadata": {
      "tags": []
     },
     "output_type": "execute_result"
    },
    {
     "data": {
      "image/png": "[encoded data removed]",
      "text/plain": [
       "<Figure size 360x360 with 1 Axes>"
      ]
     },
     "metadata": {
      "needs_background": "light",
      "tags": []
     },
     "output_type": "display_data"
    }
   ],
   "source": [
    "import matplotlib.pyplot as plt\n",
    "plt.figure(figsize=(5,5))\n",
    "plt.plot([i for i in range(len(train_loss_list))], train_loss_list, label='train')\n",
    "plt.plot([i for i in range(len(train_loss_list))], val_loss_list, label='test')\n",
    "plt.legend()\n",
    "plt.title(\"train and test loss\")"
   ]
  },
  {
   "cell_type": "markdown",
   "metadata": {
    "colab": {},
    "colab_type": "code",
    "executionInfo": {
     "elapsed": 27,
     "status": "ok",
     "timestamp": 1593559195369,
     "user": {
      "displayName": "Yingji Zhang",
      "photoUrl": "https://lh3.googleusercontent.com/a-/AOh14Giy2yxVSh1vrnIZ8Au7mLgRDopnFAPXv1dEVD5P=s64",
      "userId": "02250671043329935284"
     },
     "user_tz": -60
    },
    "id": "FdB7_vRKNQDi"
   },
   "source": [
    "* BERT Fine-Tuning Tutorial with PyTorch: https://mccormickml.com/2019/07/22/BERT-fine-tuning/\n",
    "\n",
    "* BERT and Transformers by Hugging Face: https://www.curiousily.com/posts/sentiment-analysis-with-bert-and-hugging-face-using-pytorch-and-python/"
   ]
  },
  {
   "cell_type": "code",
   "execution_count": 84,
   "metadata": {
    "colab": {},
    "colab_type": "code",
    "executionInfo": {
     "elapsed": 18,
     "status": "ok",
     "timestamp": 1593559195370,
     "user": {
      "displayName": "Yingji Zhang",
      "photoUrl": "https://lh3.googleusercontent.com/a-/AOh14Giy2yxVSh1vrnIZ8Au7mLgRDopnFAPXv1dEVD5P=s64",
      "userId": "02250671043329935284"
     },
     "user_tz": -60
    },
    "id": "nB22YJMik1T7"
   },
   "outputs": [],
   "source": []
  }
 ],
 "metadata": {
  "accelerator": "GPU",
  "colab": {
   "authorship_tag": "ABX9TyPCbx/+tAyK1dFGpuyZ8Qs2",
   "collapsed_sections": [],
   "name": "system-4.ipynb",
   "provenance": []
  },
  "kernelspec": {
   "display_name": "Python 3",
   "language": "python",
   "name": "python3"
  },
  "language_info": {
   "codemirror_mode": {
    "name": "ipython",
    "version": 3
   },
   "file_extension": ".py",
   "mimetype": "text/x-python",
   "name": "python",
   "nbconvert_exporter": "python",
   "pygments_lexer": "ipython3",
   "version": "3.7.3"
  },
  "widgets": {
   "application/vnd.jupyter.widget-state+json": {
    "017327b6245c4d4584caf77fabad09ab": {
     "model_module": "@jupyter-widgets/base",
     "model_name": "LayoutModel",
     "state": {
      "_model_module": "@jupyter-widgets/base",
      "_model_module_version": "1.2.0",
      "_model_name": "LayoutModel",
      "_view_count": null,
      "_view_module": "@jupyter-widgets/base",
      "_view_module_version": "1.2.0",
      "_view_name": "LayoutView",
      "align_content": null,
      "align_items": null,
      "align_self": null,
      "border": null,
      "bottom": null,
      "display": null,
      "flex": null,
      "flex_flow": null,
      "grid_area": null,
      "grid_auto_columns": null,
      "grid_auto_flow": null,
      "grid_auto_rows": null,
      "grid_column": null,
      "grid_gap": null,
      "grid_row": null,
      "grid_template_areas": null,
      "grid_template_columns": null,
      "grid_template_rows": null,
      "height": null,
      "justify_content": null,
      "justify_items": null,
      "left": null,
      "margin": null,
      "max_height": null,
      "max_width": null,
      "min_height": null,
      "min_width": null,
      "object_fit": null,
      "object_position": null,
      "order": null,
      "overflow": null,
      "overflow_x": null,
      "overflow_y": null,
      "padding": null,
      "right": null,
      "top": null,
      "visibility": null,
      "width": null
     }
    },
    "078155a843ad464daa8a2d5283a2cae3": {
     "model_module": "@jupyter-widgets/base",
     "model_name": "LayoutModel",
     "state": {
      "_model_module": "@jupyter-widgets/base",
      "_model_module_version": "1.2.0",
      "_model_name": "LayoutModel",
      "_view_count": null,
      "_view_module": "@jupyter-widgets/base",
      "_view_module_version": "1.2.0",
      "_view_name": "LayoutView",
      "align_content": null,
      "align_items": null,
      "align_self": null,
      "border": null,
      "bottom": null,
      "display": null,
      "flex": null,
      "flex_flow": null,
      "grid_area": null,
      "grid_auto_columns": null,
      "grid_auto_flow": null,
      "grid_auto_rows": null,
      "grid_column": null,
      "grid_gap": null,
      "grid_row": null,
      "grid_template_areas": null,
      "grid_template_columns": null,
      "grid_template_rows": null,
      "height": null,
      "justify_content": null,
      "justify_items": null,
      "left": null,
      "margin": null,
      "max_height": null,
      "max_width": null,
      "min_height": null,
      "min_width": null,
      "object_fit": null,
      "object_position": null,
      "order": null,
      "overflow": null,
      "overflow_x": null,
      "overflow_y": null,
      "padding": null,
      "right": null,
      "top": null,
      "visibility": null,
      "width": null
     }
    },
    "0f9d2d6aa8d142ecb4122cf9786ddcdd": {
     "model_module": "@jupyter-widgets/controls",
     "model_name": "FloatProgressModel",
     "state": {
      "_dom_classes": [],
      "_model_module": "@jupyter-widgets/controls",
      "_model_module_version": "1.5.0",
      "_model_name": "FloatProgressModel",
      "_view_count": null,
      "_view_module": "@jupyter-widgets/controls",
      "_view_module_version": "1.5.0",
      "_view_name": "ProgressView",
      "bar_style": "success",
      "description": "100%",
      "description_tooltip": null,
      "layout": "IPY_MODEL_71676086fd8b46fab57ef2ce80a5df6b",
      "max": 30,
      "min": 0,
      "orientation": "horizontal",
      "style": "IPY_MODEL_7cf5d3dd9cfa47a4a807b504800e4509",
      "value": 30
     }
    },
    "12172eafa09e4fb4a0015f76ab404e19": {
     "model_module": "@jupyter-widgets/base",
     "model_name": "LayoutModel",
     "state": {
      "_model_module": "@jupyter-widgets/base",
      "_model_module_version": "1.2.0",
      "_model_name": "LayoutModel",
      "_view_count": null,
      "_view_module": "@jupyter-widgets/base",
      "_view_module_version": "1.2.0",
      "_view_name": "LayoutView",
      "align_content": null,
      "align_items": null,
      "align_self": null,
      "border": null,
      "bottom": null,
      "display": null,
      "flex": null,
      "flex_flow": null,
      "grid_area": null,
      "grid_auto_columns": null,
      "grid_auto_flow": null,
      "grid_auto_rows": null,
      "grid_column": null,
      "grid_gap": null,
      "grid_row": null,
      "grid_template_areas": null,
      "grid_template_columns": null,
      "grid_template_rows": null,
      "height": null,
      "justify_content": null,
      "justify_items": null,
      "left": null,
      "margin": null,
      "max_height": null,
      "max_width": null,
      "min_height": null,
      "min_width": null,
      "object_fit": null,
      "object_position": null,
      "order": null,
      "overflow": null,
      "overflow_x": null,
      "overflow_y": null,
      "padding": null,
      "right": null,
      "top": null,
      "visibility": null,
      "width": null
     }
    },
    "142d27f4f3544bc5be4ac02a7fc4c8db": {
     "model_module": "@jupyter-widgets/controls",
     "model_name": "FloatProgressModel",
     "state": {
      "_dom_classes": [],
      "_model_module": "@jupyter-widgets/controls",
      "_model_module_version": "1.5.0",
      "_model_name": "FloatProgressModel",
      "_view_count": null,
      "_view_module": "@jupyter-widgets/controls",
      "_view_module_version": "1.5.0",
      "_view_name": "ProgressView",
      "bar_style": "success",
      "description": "100%",
      "description_tooltip": null,
      "layout": "IPY_MODEL_078155a843ad464daa8a2d5283a2cae3",
      "max": 29113,
      "min": 0,
      "orientation": "horizontal",
      "style": "IPY_MODEL_984dcf61cebb411caceadb0c996592a3",
      "value": 29113
     }
    },
    "167641b7378b45d9a95037328fdec65d": {
     "model_module": "@jupyter-widgets/controls",
     "model_name": "HTMLModel",
     "state": {
      "_dom_classes": [],
      "_model_module": "@jupyter-widgets/controls",
      "_model_module_version": "1.5.0",
      "_model_name": "HTMLModel",
      "_view_count": null,
      "_view_module": "@jupyter-widgets/controls",
      "_view_module_version": "1.5.0",
      "_view_name": "HTMLView",
      "description": "",
      "description_tooltip": null,
      "layout": "IPY_MODEL_50f501ac5b24485caec95d341c9ab0ca",
      "placeholder": "​",
      "style": "IPY_MODEL_af40608727234fb6b5a971e7ba4e3672",
      "value": " 8179/8179 [1:10:09&lt;00:00,  1.94it/s]"
     }
    },
    "18f1cd71561e4e98ada4e75b0a080187": {
     "model_module": "@jupyter-widgets/controls",
     "model_name": "DescriptionStyleModel",
     "state": {
      "_model_module": "@jupyter-widgets/controls",
      "_model_module_version": "1.5.0",
      "_model_name": "DescriptionStyleModel",
      "_view_count": null,
      "_view_module": "@jupyter-widgets/base",
      "_view_module_version": "1.2.0",
      "_view_name": "StyleView",
      "description_width": ""
     }
    },
    "3bbef768a92443daabbe295f83e8ffc6": {
     "model_module": "@jupyter-widgets/base",
     "model_name": "LayoutModel",
     "state": {
      "_model_module": "@jupyter-widgets/base",
      "_model_module_version": "1.2.0",
      "_model_name": "LayoutModel",
      "_view_count": null,
      "_view_module": "@jupyter-widgets/base",
      "_view_module_version": "1.2.0",
      "_view_name": "LayoutView",
      "align_content": null,
      "align_items": null,
      "align_self": null,
      "border": null,
      "bottom": null,
      "display": null,
      "flex": null,
      "flex_flow": null,
      "grid_area": null,
      "grid_auto_columns": null,
      "grid_auto_flow": null,
      "grid_auto_rows": null,
      "grid_column": null,
      "grid_gap": null,
      "grid_row": null,
      "grid_template_areas": null,
      "grid_template_columns": null,
      "grid_template_rows": null,
      "height": null,
      "justify_content": null,
      "justify_items": null,
      "left": null,
      "margin": null,
      "max_height": null,
      "max_width": null,
      "min_height": null,
      "min_width": null,
      "object_fit": null,
      "object_position": null,
      "order": null,
      "overflow": null,
      "overflow_x": null,
      "overflow_y": null,
      "padding": null,
      "right": null,
      "top": null,
      "visibility": null,
      "width": null
     }
    },
    "50f501ac5b24485caec95d341c9ab0ca": {
     "model_module": "@jupyter-widgets/base",
     "model_name": "LayoutModel",
     "state": {
      "_model_module": "@jupyter-widgets/base",
      "_model_module_version": "1.2.0",
      "_model_name": "LayoutModel",
      "_view_count": null,
      "_view_module": "@jupyter-widgets/base",
      "_view_module_version": "1.2.0",
      "_view_name": "LayoutView",
      "align_content": null,
      "align_items": null,
      "align_self": null,
      "border": null,
      "bottom": null,
      "display": null,
      "flex": null,
      "flex_flow": null,
      "grid_area": null,
      "grid_auto_columns": null,
      "grid_auto_flow": null,
      "grid_auto_rows": null,
      "grid_column": null,
      "grid_gap": null,
      "grid_row": null,
      "grid_template_areas": null,
      "grid_template_columns": null,
      "grid_template_rows": null,
      "height": null,
      "justify_content": null,
      "justify_items": null,
      "left": null,
      "margin": null,
      "max_height": null,
      "max_width": null,
      "min_height": null,
      "min_width": null,
      "object_fit": null,
      "object_position": null,
      "order": null,
      "overflow": null,
      "overflow_x": null,
      "overflow_y": null,
      "padding": null,
      "right": null,
      "top": null,
      "visibility": null,
      "width": null
     }
    },
    "5c16be92e668475fb3ea45a1224fc869": {
     "model_module": "@jupyter-widgets/controls",
     "model_name": "DescriptionStyleModel",
     "state": {
      "_model_module": "@jupyter-widgets/controls",
      "_model_module_version": "1.5.0",
      "_model_name": "DescriptionStyleModel",
      "_view_count": null,
      "_view_module": "@jupyter-widgets/base",
      "_view_module_version": "1.2.0",
      "_view_name": "StyleView",
      "description_width": ""
     }
    },
    "6037ca50a09d4e899d8ee36694dd6465": {
     "model_module": "@jupyter-widgets/controls",
     "model_name": "HBoxModel",
     "state": {
      "_dom_classes": [],
      "_model_module": "@jupyter-widgets/controls",
      "_model_module_version": "1.5.0",
      "_model_name": "HBoxModel",
      "_view_count": null,
      "_view_module": "@jupyter-widgets/controls",
      "_view_module_version": "1.5.0",
      "_view_name": "HBoxView",
      "box_style": "",
      "children": [
       "IPY_MODEL_142d27f4f3544bc5be4ac02a7fc4c8db",
       "IPY_MODEL_e9b8924d2e2b4c4ebe741ab0971112db"
      ],
      "layout": "IPY_MODEL_ed33de2c14c04a3ba6836e3c0b668939"
     }
    },
    "60fc5d7ba7094c8395a89bd6a613e4ef": {
     "model_module": "@jupyter-widgets/controls",
     "model_name": "HBoxModel",
     "state": {
      "_dom_classes": [],
      "_model_module": "@jupyter-widgets/controls",
      "_model_module_version": "1.5.0",
      "_model_name": "HBoxModel",
      "_view_count": null,
      "_view_module": "@jupyter-widgets/controls",
      "_view_module_version": "1.5.0",
      "_view_name": "HBoxView",
      "box_style": "",
      "children": [
       "IPY_MODEL_92918c3d21994883b0f16a3362310998",
       "IPY_MODEL_167641b7378b45d9a95037328fdec65d"
      ],
      "layout": "IPY_MODEL_3bbef768a92443daabbe295f83e8ffc6"
     }
    },
    "61de60e6d3784815abe8965fc1366952": {
     "model_module": "@jupyter-widgets/base",
     "model_name": "LayoutModel",
     "state": {
      "_model_module": "@jupyter-widgets/base",
      "_model_module_version": "1.2.0",
      "_model_name": "LayoutModel",
      "_view_count": null,
      "_view_module": "@jupyter-widgets/base",
      "_view_module_version": "1.2.0",
      "_view_name": "LayoutView",
      "align_content": null,
      "align_items": null,
      "align_self": null,
      "border": null,
      "bottom": null,
      "display": null,
      "flex": null,
      "flex_flow": null,
      "grid_area": null,
      "grid_auto_columns": null,
      "grid_auto_flow": null,
      "grid_auto_rows": null,
      "grid_column": null,
      "grid_gap": null,
      "grid_row": null,
      "grid_template_areas": null,
      "grid_template_columns": null,
      "grid_template_rows": null,
      "height": null,
      "justify_content": null,
      "justify_items": null,
      "left": null,
      "margin": null,
      "max_height": null,
      "max_width": null,
      "min_height": null,
      "min_width": null,
      "object_fit": null,
      "object_position": null,
      "order": null,
      "overflow": null,
      "overflow_x": null,
      "overflow_y": null,
      "padding": null,
      "right": null,
      "top": null,
      "visibility": null,
      "width": null
     }
    },
    "64f06205723a4aa7a2c63ade081aad5b": {
     "model_module": "@jupyter-widgets/controls",
     "model_name": "HBoxModel",
     "state": {
      "_dom_classes": [],
      "_model_module": "@jupyter-widgets/controls",
      "_model_module_version": "1.5.0",
      "_model_name": "HBoxModel",
      "_view_count": null,
      "_view_module": "@jupyter-widgets/controls",
      "_view_module_version": "1.5.0",
      "_view_name": "HBoxView",
      "box_style": "",
      "children": [
       "IPY_MODEL_0f9d2d6aa8d142ecb4122cf9786ddcdd",
       "IPY_MODEL_9d3f46b4aae14b558bbdb3b968097ba0"
      ],
      "layout": "IPY_MODEL_61de60e6d3784815abe8965fc1366952"
     }
    },
    "71676086fd8b46fab57ef2ce80a5df6b": {
     "model_module": "@jupyter-widgets/base",
     "model_name": "LayoutModel",
     "state": {
      "_model_module": "@jupyter-widgets/base",
      "_model_module_version": "1.2.0",
      "_model_name": "LayoutModel",
      "_view_count": null,
      "_view_module": "@jupyter-widgets/base",
      "_view_module_version": "1.2.0",
      "_view_name": "LayoutView",
      "align_content": null,
      "align_items": null,
      "align_self": null,
      "border": null,
      "bottom": null,
      "display": null,
      "flex": null,
      "flex_flow": null,
      "grid_area": null,
      "grid_auto_columns": null,
      "grid_auto_flow": null,
      "grid_auto_rows": null,
      "grid_column": null,
      "grid_gap": null,
      "grid_row": null,
      "grid_template_areas": null,
      "grid_template_columns": null,
      "grid_template_rows": null,
      "height": null,
      "justify_content": null,
      "justify_items": null,
      "left": null,
      "margin": null,
      "max_height": null,
      "max_width": null,
      "min_height": null,
      "min_width": null,
      "object_fit": null,
      "object_position": null,
      "order": null,
      "overflow": null,
      "overflow_x": null,
      "overflow_y": null,
      "padding": null,
      "right": null,
      "top": null,
      "visibility": null,
      "width": null
     }
    },
    "7cf5d3dd9cfa47a4a807b504800e4509": {
     "model_module": "@jupyter-widgets/controls",
     "model_name": "ProgressStyleModel",
     "state": {
      "_model_module": "@jupyter-widgets/controls",
      "_model_module_version": "1.5.0",
      "_model_name": "ProgressStyleModel",
      "_view_count": null,
      "_view_module": "@jupyter-widgets/base",
      "_view_module_version": "1.2.0",
      "_view_name": "StyleView",
      "bar_color": null,
      "description_width": "initial"
     }
    },
    "92918c3d21994883b0f16a3362310998": {
     "model_module": "@jupyter-widgets/controls",
     "model_name": "FloatProgressModel",
     "state": {
      "_dom_classes": [],
      "_model_module": "@jupyter-widgets/controls",
      "_model_module_version": "1.5.0",
      "_model_name": "FloatProgressModel",
      "_view_count": null,
      "_view_module": "@jupyter-widgets/controls",
      "_view_module_version": "1.5.0",
      "_view_name": "ProgressView",
      "bar_style": "success",
      "description": "100%",
      "description_tooltip": null,
      "layout": "IPY_MODEL_12172eafa09e4fb4a0015f76ab404e19",
      "max": 8179,
      "min": 0,
      "orientation": "horizontal",
      "style": "IPY_MODEL_ed90dc0417834b31af3fd2da9ad16c66",
      "value": 8179
     }
    },
    "984dcf61cebb411caceadb0c996592a3": {
     "model_module": "@jupyter-widgets/controls",
     "model_name": "ProgressStyleModel",
     "state": {
      "_model_module": "@jupyter-widgets/controls",
      "_model_module_version": "1.5.0",
      "_model_name": "ProgressStyleModel",
      "_view_count": null,
      "_view_module": "@jupyter-widgets/base",
      "_view_module_version": "1.2.0",
      "_view_name": "StyleView",
      "bar_color": null,
      "description_width": "initial"
     }
    },
    "9d3f46b4aae14b558bbdb3b968097ba0": {
     "model_module": "@jupyter-widgets/controls",
     "model_name": "HTMLModel",
     "state": {
      "_dom_classes": [],
      "_model_module": "@jupyter-widgets/controls",
      "_model_module_version": "1.5.0",
      "_model_name": "HTMLModel",
      "_view_count": null,
      "_view_module": "@jupyter-widgets/controls",
      "_view_module_version": "1.5.0",
      "_view_name": "HTMLView",
      "description": "",
      "description_tooltip": null,
      "layout": "IPY_MODEL_9e4ca64226b5485b946c05bd47ece411",
      "placeholder": "​",
      "style": "IPY_MODEL_5c16be92e668475fb3ea45a1224fc869",
      "value": " 30/30 [1:46:34&lt;00:00, 213.14s/it]"
     }
    },
    "9e4ca64226b5485b946c05bd47ece411": {
     "model_module": "@jupyter-widgets/base",
     "model_name": "LayoutModel",
     "state": {
      "_model_module": "@jupyter-widgets/base",
      "_model_module_version": "1.2.0",
      "_model_name": "LayoutModel",
      "_view_count": null,
      "_view_module": "@jupyter-widgets/base",
      "_view_module_version": "1.2.0",
      "_view_name": "LayoutView",
      "align_content": null,
      "align_items": null,
      "align_self": null,
      "border": null,
      "bottom": null,
      "display": null,
      "flex": null,
      "flex_flow": null,
      "grid_area": null,
      "grid_auto_columns": null,
      "grid_auto_flow": null,
      "grid_auto_rows": null,
      "grid_column": null,
      "grid_gap": null,
      "grid_row": null,
      "grid_template_areas": null,
      "grid_template_columns": null,
      "grid_template_rows": null,
      "height": null,
      "justify_content": null,
      "justify_items": null,
      "left": null,
      "margin": null,
      "max_height": null,
      "max_width": null,
      "min_height": null,
      "min_width": null,
      "object_fit": null,
      "object_position": null,
      "order": null,
      "overflow": null,
      "overflow_x": null,
      "overflow_y": null,
      "padding": null,
      "right": null,
      "top": null,
      "visibility": null,
      "width": null
     }
    },
    "af40608727234fb6b5a971e7ba4e3672": {
     "model_module": "@jupyter-widgets/controls",
     "model_name": "DescriptionStyleModel",
     "state": {
      "_model_module": "@jupyter-widgets/controls",
      "_model_module_version": "1.5.0",
      "_model_name": "DescriptionStyleModel",
      "_view_count": null,
      "_view_module": "@jupyter-widgets/base",
      "_view_module_version": "1.2.0",
      "_view_name": "StyleView",
      "description_width": ""
     }
    },
    "e9b8924d2e2b4c4ebe741ab0971112db": {
     "model_module": "@jupyter-widgets/controls",
     "model_name": "HTMLModel",
     "state": {
      "_dom_classes": [],
      "_model_module": "@jupyter-widgets/controls",
      "_model_module_version": "1.5.0",
      "_model_name": "HTMLModel",
      "_view_count": null,
      "_view_module": "@jupyter-widgets/controls",
      "_view_module_version": "1.5.0",
      "_view_name": "HTMLView",
      "description": "",
      "description_tooltip": null,
      "layout": "IPY_MODEL_017327b6245c4d4584caf77fabad09ab",
      "placeholder": "​",
      "style": "IPY_MODEL_18f1cd71561e4e98ada4e75b0a080187",
      "value": " 29113/29113 [00:10&lt;00:00, 2653.94it/s]"
     }
    },
    "ed33de2c14c04a3ba6836e3c0b668939": {
     "model_module": "@jupyter-widgets/base",
     "model_name": "LayoutModel",
     "state": {
      "_model_module": "@jupyter-widgets/base",
      "_model_module_version": "1.2.0",
      "_model_name": "LayoutModel",
      "_view_count": null,
      "_view_module": "@jupyter-widgets/base",
      "_view_module_version": "1.2.0",
      "_view_name": "LayoutView",
      "align_content": null,
      "align_items": null,
      "align_self": null,
      "border": null,
      "bottom": null,
      "display": null,
      "flex": null,
      "flex_flow": null,
      "grid_area": null,
      "grid_auto_columns": null,
      "grid_auto_flow": null,
      "grid_auto_rows": null,
      "grid_column": null,
      "grid_gap": null,
      "grid_row": null,
      "grid_template_areas": null,
      "grid_template_columns": null,
      "grid_template_rows": null,
      "height": null,
      "justify_content": null,
      "justify_items": null,
      "left": null,
      "margin": null,
      "max_height": null,
      "max_width": null,
      "min_height": null,
      "min_width": null,
      "object_fit": null,
      "object_position": null,
      "order": null,
      "overflow": null,
      "overflow_x": null,
      "overflow_y": null,
      "padding": null,
      "right": null,
      "top": null,
      "visibility": null,
      "width": null
     }
    },
    "ed90dc0417834b31af3fd2da9ad16c66": {
     "model_module": "@jupyter-widgets/controls",
     "model_name": "ProgressStyleModel",
     "state": {
      "_model_module": "@jupyter-widgets/controls",
      "_model_module_version": "1.5.0",
      "_model_name": "ProgressStyleModel",
      "_view_count": null,
      "_view_module": "@jupyter-widgets/base",
      "_view_module_version": "1.2.0",
      "_view_name": "StyleView",
      "bar_color": null,
      "description_width": "initial"
     }
    }
   }
  }
 },
 "nbformat": 4,
 "nbformat_minor": 1
}
