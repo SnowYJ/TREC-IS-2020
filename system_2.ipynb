{
 "cells": [
  {
   "cell_type": "markdown",
   "metadata": {},
   "source": [
    "## Neural Network\n",
    "\n",
    "* pytorch introduction\n",
    "* bi-LSTM for \"priority\" multi-class classification\n"
   ]
  },
  {
   "cell_type": "markdown",
   "metadata": {},
   "source": [
    "## 1. pytorch - LSTM introduction"
   ]
  },
  {
   "cell_type": "markdown",
   "metadata": {},
   "source": [
    "<img src=\"image/pytorch_LSTM_1.png\" width=\"550\">\n",
    "\n",
    "### 1.1 LSTM architecture\n",
    "> **model = nn.LSTM(input_size, hidden_size, num_layers, bias, batch_first, dropout, bidirectional)**\n",
    "1. input_size: 每个单词的 embedding or one-hot encoding 的尺寸，例如：glove 300d。\n",
    "2. hidden_size: 隐含层神经元的个数，例如上图的n。\n",
    "3. num_layers: LSTM的层数，例如上图的层数为1。\n",
    "4. bias: default true。\n",
    "5. batch_first: \n",
    "6. dropout: 0-1\n",
    "7. bidirectional: true or false."
   ]
  },
  {
   "cell_type": "code",
   "execution_count": 1,
   "metadata": {},
   "outputs": [
    {
     "name": "stdout",
     "output_type": "stream",
     "text": [
      "torch.Size([12, 100])\n",
      "torch.Size([12, 3])\n",
      "torch.Size([12])\n",
      "torch.Size([12])\n"
     ]
    }
   ],
   "source": [
    "import torch\n",
    "import torch.nn as nn\n",
    "import torch.nn.functional as F\n",
    "import torch.optim as optim\n",
    "\n",
    "torch.manual_seed(1)\n",
    "\n",
    "lstm = nn.LSTM(100, 3, 2)  # word embedding size is 300, hidden layer size is 3, two LSTM layer. \n",
    "print(lstm.all_weights[0][0].shape)\n",
    "print(lstm.all_weights[0][1].shape)\n",
    "print(lstm.all_weights[0][2].shape)\n",
    "print(lstm.all_weights[0][3].shape)"
   ]
  },
  {
   "cell_type": "markdown",
   "metadata": {},
   "source": [
    "### 1.2 LSTM input and output\n",
    "><img src=\"image/pytorch_LSTM.png\" width=\"500\">\n",
    ">\n",
    ">**output, ($\\text{h}_n$, $\\text{c}_n$) = model(input, ($\\text{h}_0$, $\\text{c}_0$))**\n",
    ">\n",
    ">* input维度：(句子长度, batch_size（一次多少个句子）, input_size（每个单词向量的长度）) 。\n",
    ">* $\\text{h}_0, \\text{c}_0$维度：(num_layers * num_directions, batch, hidden_size)。例如，上图有w+1层，单向，hidden_size为每个LSTM结构内隐含层神经元个数。 \n"
   ]
  },
  {
   "cell_type": "code",
   "execution_count": 2,
   "metadata": {},
   "outputs": [
    {
     "name": "stdout",
     "output_type": "stream",
     "text": [
      "1. sentence length:  5  word embedding: torch.Size([1, 100])\n",
      "2. input is every word in sentence:  torch.Size([1, 1, 100])\n",
      "3. output size:  torch.Size([1, 1, 3])\n",
      "4. h_1 size:  torch.Size([2, 1, 3])\n",
      "5. c_1 size:  torch.Size([2, 1, 3])\n"
     ]
    }
   ],
   "source": [
    "inputs = [torch.randn(1, 100) for _ in range(5)] # In a sentence, 5 words, every words' length is 4.\n",
    "\n",
    "hidden = (torch.randn(2*1, 1, 3), torch.randn(2*1, 1, 3)) # h_0, c_0.\n",
    "\n",
    "for i in inputs:\n",
    "    out, hidden = lstm(i.view(1, 1, -1), hidden)\n",
    "\n",
    "print(\"1. sentence length: \",len(inputs),\" word embedding:\",inputs[0].shape)\n",
    "print(\"2. input is every word in sentence: \", i.view(1, 1, -1).shape)\n",
    "print(\"3. output size: \", out.shape)\n",
    "print(\"4. h_1 size: \", hidden[0].shape)\n",
    "print(\"5. c_1 size: \", hidden[1].shape)"
   ]
  },
  {
   "cell_type": "markdown",
   "metadata": {},
   "source": [
    "### 1.3 forward pass\n",
    ">**module(data) = module.forward(data)**\n",
    ">\n",
    "><img src=\"image/forward.png\" width=\"550\">\n",
    "\n",
    "### 1.4 handle input with variable length\n",
    ">* torch.nn.utils.rnn.pad_sequence()：把不等长的tensor数据, 补充成等长的tensor数据.\n",
    "* torch.nn.utils.rnn.pack_padded_sequence()：把等长的tensor根据所输入的参数压缩成实际的数据, 同时数据格式变成PackedSequence。\n",
    "* torch.nn.utils.rnn.pad_packed_sequence()：把上面所压缩成PackedSequence的数据还原成tensor类型, 并补成等长的数据。\n",
    "\n",
    "https://blog.csdn.net/kejizuiqianfang/article/details/100835528\n",
    "\n",
    "### 1.5 pytorch loss function for classification\n",
    ">\n",
    ">* nn.Softmax and nn.LogSoftmax: \n",
    "* nn.NLLLoss: negative log likelihood loss. \n",
    "* nn.CrossEntropy: the combination of nn.Softmax and nn.NLLLoss.\n",
    "* nn.BCELoss: *bianry* classification loss. "
   ]
  },
  {
   "cell_type": "markdown",
   "metadata": {},
   "source": [
    "## 2. bi-directional LSTM \n",
    "\n",
    "**There are two labels in dataset. one is for categories (multi-label), another is for priority (multi-class).**"
   ]
  },
  {
   "cell_type": "code",
   "execution_count": 3,
   "metadata": {},
   "outputs": [],
   "source": [
    "# load pre-processed dataset.\n",
    "import pandas as pd\n",
    "import json\n",
    "import torch   \n",
    "from torchtext import data \n",
    "import numpy as np\n",
    "import matplotlib.pyplot as plt\n",
    "from sklearn.metrics import accuracy_score, precision_score, recall_score, f1_score\n",
    "import random\n",
    "import os\n",
    "from torchtext.vocab import Vectors\n",
    "import torch.nn as nn\n",
    "import torch.optim as optim"
   ]
  },
  {
   "cell_type": "markdown",
   "metadata": {},
   "source": [
    "## 2.1 classification for \"priority\" label: "
   ]
  },
  {
   "cell_type": "code",
   "execution_count": 4,
   "metadata": {},
   "outputs": [
    {
     "data": {
      "text/html": [
       "<div>\n",
       "<style scoped>\n",
       "    .dataframe tbody tr th:only-of-type {\n",
       "        vertical-align: middle;\n",
       "    }\n",
       "\n",
       "    .dataframe tbody tr th {\n",
       "        vertical-align: top;\n",
       "    }\n",
       "\n",
       "    .dataframe thead th {\n",
       "        text-align: right;\n",
       "    }\n",
       "</style>\n",
       "<table border=\"1\" class=\"dataframe\">\n",
       "  <thead>\n",
       "    <tr style=\"text-align: right;\">\n",
       "      <th></th>\n",
       "      <th>priority</th>\n",
       "      <th>content</th>\n",
       "    </tr>\n",
       "  </thead>\n",
       "  <tbody>\n",
       "    <tr>\n",
       "      <th>0</th>\n",
       "      <td>Medium</td>\n",
       "      <td>pagasa advisory red warning metro manila heavy...</td>\n",
       "    </tr>\n",
       "    <tr>\n",
       "      <th>1</th>\n",
       "      <td>Medium</td>\n",
       "      <td>pagasa advisory red warning metro manila heavy...</td>\n",
       "    </tr>\n",
       "    <tr>\n",
       "      <th>2</th>\n",
       "      <td>Medium</td>\n",
       "      <td>pagasa advisory red warning metro manila heavy...</td>\n",
       "    </tr>\n",
       "    <tr>\n",
       "      <th>3</th>\n",
       "      <td>Medium</td>\n",
       "      <td>pagasa advisory red warning metro manila heavy...</td>\n",
       "    </tr>\n",
       "    <tr>\n",
       "      <th>4</th>\n",
       "      <td>Medium</td>\n",
       "      <td>flood alert san marcelino taft ayala manila pa...</td>\n",
       "    </tr>\n",
       "  </tbody>\n",
       "</table>\n",
       "</div>"
      ],
      "text/plain": [
       "  priority                                            content\n",
       "0   Medium  pagasa advisory red warning metro manila heavy...\n",
       "1   Medium  pagasa advisory red warning metro manila heavy...\n",
       "2   Medium  pagasa advisory red warning metro manila heavy...\n",
       "3   Medium  pagasa advisory red warning metro manila heavy...\n",
       "4   Medium  flood alert san marcelino taft ayala manila pa..."
      ]
     },
     "execution_count": 4,
     "metadata": {},
     "output_type": "execute_result"
    }
   ],
   "source": [
    "# notice dataset is extremely unbalanced.\n",
    "dataset = pd.read_csv(\"pre-processed data/dataset_aug_priority.csv\", usecols=['content','priority'])\n",
    "\n",
    "dataset[:5]"
   ]
  },
  {
   "cell_type": "code",
   "execution_count": 5,
   "metadata": {},
   "outputs": [
    {
     "name": "stdout",
     "output_type": "stream",
     "text": [
      "{'priority': 'Medium', 'content': ['pagasa', 'advisory', 'red', 'warning', 'metro', 'manila', 'heavy', 'intense', 'rain', 'next', 'hr', 'flood', 'low', 'lie', 'area', 'near', 'river']}\n"
     ]
    }
   ],
   "source": [
    "torch.manual_seed(2020)\n",
    "\n",
    "# loading custom dataset\n",
    "TEXT = data.Field(tokenize=lambda x: x.split() ,batch_first=True, include_lengths=True)\n",
    "LABEL = data.LabelField(dtype = torch.float, batch_first=True)\n",
    "\n",
    "fields = [('priority', LABEL), ('content', TEXT)]\n",
    "\n",
    "dataset=data.TabularDataset(path = 'pre-processed data/dataset_aug_priority.csv',format = 'csv',fields = fields,skip_header = True)\n",
    "\n",
    "print(vars(dataset.examples[0]))"
   ]
  },
  {
   "cell_type": "code",
   "execution_count": 6,
   "metadata": {},
   "outputs": [
    {
     "name": "stdout",
     "output_type": "stream",
     "text": [
      "Size of TEXT vocabulary: 7994\n",
      "Size of LABEL vocabulary: 4\n",
      "Top words:  [('shoot', 3638), ('flood', 3344), ('school', 3198), ('people', 2834), ('after', 2709)]\n",
      "LABEL vocabulary:  defaultdict(None, {'Medium': 0, 'High': 1, 'Critical': 2, 'Unknown': 3})\n"
     ]
    }
   ],
   "source": [
    "tr_X, te_X = dataset.split(split_ratio=0.8, random_state = random.seed(2020))\n",
    "tr_x, val_x = tr_X.split(split_ratio=0.7, random_state = random.seed(2020))\n",
    "\n",
    "# load downloaded glove word embedding.\n",
    "cache = '.vector_cache'\n",
    "if not os.path.exists(cache): os.mkdir(cache)\n",
    "vectors = Vectors(name='./glove.840B.300d.txt', cache=cache)\n",
    "\n",
    "# create vocab.\n",
    "TEXT.build_vocab(tr_X, min_freq=3, vectors=vectors)\n",
    "LABEL.build_vocab(tr_X)\n",
    "\n",
    "print(\"Size of TEXT vocabulary:\",len(TEXT.vocab))\n",
    "\n",
    "print(\"Size of LABEL vocabulary:\",len(LABEL.vocab))\n",
    "\n",
    "print(\"Top words: \", TEXT.vocab.freqs.most_common(5))  \n",
    "\n",
    "# Word dictionary.\n",
    "print(\"LABEL vocabulary: \", LABEL.vocab.stoi)"
   ]
  },
  {
   "cell_type": "code",
   "execution_count": 15,
   "metadata": {},
   "outputs": [],
   "source": [
    "class RNN_classifier(nn.Module):\n",
    "    #define all the layers used in model\n",
    "    def __init__(self, vocab_size, embedding_dim, hidden_dim, output_dim, n_layers, bidirectional, dropout):\n",
    "        super().__init__()\n",
    "\n",
    "        # embedding layer\n",
    "        self.embedding = nn.Embedding(vocab_size, embedding_dim)\n",
    "\n",
    "        # bi-directional LSTM\n",
    "        self.lstm = nn.LSTM(embedding_dim, \n",
    "                            hidden_dim, \n",
    "                            num_layers=n_layers, \n",
    "                            bidirectional=bidirectional, \n",
    "                            dropout=dropout,\n",
    "                            batch_first=True)\n",
    "\n",
    "        # dense layer\n",
    "        self.fc = nn.Linear(hidden_dim*2, output_dim)\n",
    "\n",
    "        # activation function\n",
    "        # self.act = nn.Softmax(dim=1)\n",
    "    \n",
    "    def forward(self, text, text_lengths):\n",
    "        \n",
    "        embedded = self.embedding(text)\n",
    "        \n",
    "        #packed sequence\n",
    "        packed_embedded = nn.utils.rnn.pack_padded_sequence(embedded, text_lengths,batch_first=True)\n",
    "        \n",
    "        packed_output, (hidden, cell) = self.lstm(packed_embedded)\n",
    "        \n",
    "        # concat the final forward and backward hidden state (use hidden state, not output)\n",
    "        hidden = torch.cat((hidden[-2,:,:], hidden[-1,:,:]), dim = 1)\n",
    "        \n",
    "        #hidden = [batch size, hid dim * num directions]\n",
    "        dense_outputs=self.fc(hidden)\n",
    "        \n",
    "        #Final activation function\n",
    "        # outputs=self.act(dense_outputs)\n",
    "        \n",
    "        return dense_outputs"
   ]
  },
  {
   "cell_type": "code",
   "execution_count": 8,
   "metadata": {},
   "outputs": [],
   "source": [
    "def train(model, iterator, optimizer, criterion):\n",
    "    #initialize every epoch \n",
    "    epoch_loss = 0\n",
    "    epoch_acc = 0\n",
    "    \n",
    "    #set the model in training phase\n",
    "    model.train()  \n",
    "    \n",
    "    for batch in iterator:\n",
    "        #resets the gradients after every batch\n",
    "        optimizer.zero_grad()   \n",
    "        \n",
    "        #retrieve text and no. of words\n",
    "        cont, cont_lengths = batch.content \n",
    "\n",
    "        # forward (convert to 1D tensor) \n",
    "        predictions = model(cont, cont_lengths).squeeze()  \n",
    "\n",
    "        #compute the loss\n",
    "        loss = criterion(predictions, batch.priority.long())  \n",
    "        \n",
    "        # backward\n",
    "        loss.backward()       \n",
    "        \n",
    "        #update the weights\n",
    "        optimizer.step() \n",
    "        \n",
    "        #loss and accuracy\n",
    "        epoch_loss += loss.item()     \n",
    "        \n",
    "    return epoch_loss / len(iterator)"
   ]
  },
  {
   "cell_type": "code",
   "execution_count": 9,
   "metadata": {},
   "outputs": [],
   "source": [
    "def evaluate(model, iterator, criterion):\n",
    "    label_list, preds_list = [], []\n",
    "    # initialize every epoch\n",
    "    epoch_loss = 0\n",
    "    epoch_acc = 0\n",
    "\n",
    "    # deactivating dropout layers\n",
    "    model.eval()\n",
    "    \n",
    "    # deactivates autograd\n",
    "    with torch.no_grad():\n",
    "    \n",
    "        for batch in iterator:\n",
    "        \n",
    "            # retrieve text and length\n",
    "            cont, cont_lengths = batch.content \n",
    "\n",
    "            predictions = model(cont, cont_lengths).squeeze()\n",
    "            \n",
    "            # keep result\n",
    "            preds_list.extend(list(np.array(torch.max(predictions, 1)[1].numpy(), dtype=int)))\n",
    "            label_list.extend(list(np.array(batch.priority.numpy(), dtype=int)))\n",
    "\n",
    "            # compute loss and accuracy\n",
    "            loss = criterion(predictions, batch.priority.long())\n",
    "            \n",
    "            # train loss.\n",
    "            epoch_loss += loss.item()\n",
    "        \n",
    "    return epoch_loss / len(iterator), preds_list, label_list"
   ]
  },
  {
   "cell_type": "code",
   "execution_count": 10,
   "metadata": {},
   "outputs": [],
   "source": [
    "size_of_vocab = len(TEXT.vocab)\n",
    "\n",
    "\n",
    "def SGD(tr_x, val_x, n_epoches=100, lr = 0.001, dropout = 0.3, batch_size = 32, num_hidden_nodes = 32):\n",
    "    \n",
    "    train_loss_list, valid_loss_list = [], []\n",
    "    \n",
    "    embedding_dim = 300\n",
    "    num_output_nodes = 5\n",
    "    num_layers = 1 # depth\n",
    "    bidirection = True\n",
    "    \n",
    "    # GPU or CPU.\n",
    "    device = torch.device('cuda' if torch.cuda.is_available() else 'cpu') \n",
    "    \n",
    "    # Load an iterator\n",
    "    train_iterator, valid_iterator = data.BucketIterator.splits((tr_x, val_x), \n",
    "                                                                batch_size = batch_size,\n",
    "                                                                sort_key = lambda x: len(x.content),\n",
    "                                                                sort_within_batch=True,\n",
    "                                                                device=device)\n",
    "\n",
    "\n",
    "\n",
    "    # model print(model)\n",
    "    model = RNN_classifier(size_of_vocab, embedding_dim, \n",
    "                       num_hidden_nodes,num_output_nodes, \n",
    "                       num_layers, bidirectional = True, \n",
    "                       dropout = dropout)\n",
    "    \n",
    "    # pre-trained Glove.\n",
    "    pretrained_embeddings = TEXT.vocab.vectors\n",
    "    model.embedding.weight.data.copy_(pretrained_embeddings)\n",
    "    \n",
    "    # define optimizer and loss.\n",
    "    optimizer = optim.SGD(model.parameters(), lr=lr, weight_decay=1e-8)\n",
    "    criterion = nn.CrossEntropyLoss()\n",
    "    \n",
    "    # training\n",
    "    for epoch in range(n_epoches):\n",
    "\n",
    "        #train the model\n",
    "        train_loss = train(model, train_iterator, optimizer, criterion)\n",
    "\n",
    "        #evaluate the model\n",
    "        valid_loss, preds_list, label_list = evaluate(model, valid_iterator, criterion)\n",
    "        \n",
    "        train_loss_list.append(train_loss)\n",
    "        valid_loss_list.append(valid_loss)\n",
    "        \n",
    "        print(f\"Epoch: {epoch:d} : Train Loss: {train_loss:.4f} | Valid loss: {valid_loss:.4f}\")\n",
    "        \n",
    "        #if (len(valid_loss_list) >= 2):\n",
    "        #    if (valid_loss_list[-2] - valid_loss_list[-1]) < 0.001: break\n",
    "        \n",
    "    return train_loss_list, valid_loss_list, preds_list, label_list"
   ]
  },
  {
   "cell_type": "markdown",
   "metadata": {},
   "source": [
    "### hyper-parameter choosing"
   ]
  },
  {
   "cell_type": "code",
   "execution_count": 11,
   "metadata": {
    "scrolled": false
   },
   "outputs": [],
   "source": [
    "# for hn in [10, 20, 40, 100]:\n",
    "#     for lr in [0.001, 0.01, 0.1]:\n",
    "#         print(\"hidden layer nodes: \", hn, \", learning rate: \", lr)\n",
    "#         train_loss, valid_loss = SGD(tr_x, val_x, \n",
    "#                                      n_epoches=50, lr=lr, \n",
    "#                                      dropout=0, batch_size = 64, \n",
    "#                                      num_hidden_nodes = hn)"
   ]
  },
  {
   "cell_type": "markdown",
   "metadata": {},
   "source": [
    "### training and testing"
   ]
  },
  {
   "cell_type": "code",
   "execution_count": 12,
   "metadata": {
    "scrolled": true
   },
   "outputs": [
    {
     "name": "stderr",
     "output_type": "stream",
     "text": [
      "/Applications/anaconda3/lib/python3.7/site-packages/torch/nn/modules/rnn.py:51: UserWarning: dropout option adds dropout after all but last recurrent layer, so non-zero dropout expects num_layers greater than 1, but got dropout=0.3 and num_layers=1\n",
      "  \"num_layers={}\".format(dropout, num_layers))\n"
     ]
    },
    {
     "name": "stdout",
     "output_type": "stream",
     "text": [
      "Epoch: 0 : Train Loss: 1.2678 | Valid loss: 1.1259\n",
      "Epoch: 1 : Train Loss: 1.0934 | Valid loss: 1.0735\n",
      "Epoch: 2 : Train Loss: 1.0582 | Valid loss: 1.0478\n",
      "Epoch: 3 : Train Loss: 1.0342 | Valid loss: 1.0251\n",
      "Epoch: 4 : Train Loss: 1.0108 | Valid loss: 1.0017\n",
      "Epoch: 5 : Train Loss: 0.9868 | Valid loss: 0.9777\n",
      "Epoch: 6 : Train Loss: 0.9638 | Valid loss: 0.9554\n",
      "Epoch: 7 : Train Loss: 0.9430 | Valid loss: 0.9354\n",
      "Epoch: 8 : Train Loss: 0.9242 | Valid loss: 0.9176\n",
      "Epoch: 9 : Train Loss: 0.9062 | Valid loss: 0.9010\n",
      "Epoch: 10 : Train Loss: 0.8893 | Valid loss: 0.8828\n",
      "Epoch: 11 : Train Loss: 0.8718 | Valid loss: 0.8689\n",
      "Epoch: 12 : Train Loss: 0.8540 | Valid loss: 0.8476\n",
      "Epoch: 13 : Train Loss: 0.8369 | Valid loss: 0.8318\n",
      "Epoch: 14 : Train Loss: 0.8189 | Valid loss: 0.8123\n",
      "Epoch: 15 : Train Loss: 0.8020 | Valid loss: 0.8005\n",
      "Epoch: 16 : Train Loss: 0.7837 | Valid loss: 0.7817\n",
      "Epoch: 17 : Train Loss: 0.7676 | Valid loss: 0.7684\n",
      "Epoch: 18 : Train Loss: 0.7521 | Valid loss: 0.7546\n",
      "Epoch: 19 : Train Loss: 0.7357 | Valid loss: 0.7384\n",
      "Epoch: 20 : Train Loss: 0.7217 | Valid loss: 0.7152\n",
      "Epoch: 21 : Train Loss: 0.7056 | Valid loss: 0.7016\n",
      "Epoch: 22 : Train Loss: 0.6923 | Valid loss: 0.6896\n",
      "Epoch: 23 : Train Loss: 0.6771 | Valid loss: 0.6780\n",
      "Epoch: 24 : Train Loss: 0.6622 | Valid loss: 0.6626\n",
      "Epoch: 25 : Train Loss: 0.6495 | Valid loss: 0.6519\n",
      "Epoch: 26 : Train Loss: 0.6341 | Valid loss: 0.6471\n",
      "Epoch: 27 : Train Loss: 0.6237 | Valid loss: 0.6353\n",
      "Epoch: 28 : Train Loss: 0.6232 | Valid loss: 0.6379\n",
      "Epoch: 29 : Train Loss: 0.6020 | Valid loss: 0.6076\n",
      "Epoch: 30 : Train Loss: 0.5903 | Valid loss: 0.6045\n",
      "Epoch: 31 : Train Loss: 0.5797 | Valid loss: 0.5930\n",
      "Epoch: 32 : Train Loss: 0.5679 | Valid loss: 0.5845\n",
      "Epoch: 33 : Train Loss: 0.5584 | Valid loss: 0.5705\n",
      "Epoch: 34 : Train Loss: 0.5518 | Valid loss: 0.5685\n",
      "Epoch: 35 : Train Loss: 0.5414 | Valid loss: 0.5622\n",
      "Epoch: 36 : Train Loss: 0.5349 | Valid loss: 0.5478\n",
      "Epoch: 37 : Train Loss: 0.5236 | Valid loss: 0.5460\n",
      "Epoch: 38 : Train Loss: 0.5136 | Valid loss: 0.5414\n",
      "Epoch: 39 : Train Loss: 0.5064 | Valid loss: 0.5309\n",
      "Epoch: 40 : Train Loss: 0.4997 | Valid loss: 0.5230\n",
      "Epoch: 41 : Train Loss: 0.4913 | Valid loss: 0.5277\n",
      "Epoch: 42 : Train Loss: 0.4855 | Valid loss: 0.5167\n",
      "Epoch: 43 : Train Loss: 0.4837 | Valid loss: 0.5275\n",
      "Epoch: 44 : Train Loss: 0.4707 | Valid loss: 0.5005\n",
      "Epoch: 45 : Train Loss: 0.4708 | Valid loss: 0.5254\n",
      "Epoch: 46 : Train Loss: 0.4585 | Valid loss: 0.5021\n",
      "Epoch: 47 : Train Loss: 0.4536 | Valid loss: 0.5041\n",
      "Epoch: 48 : Train Loss: 0.4451 | Valid loss: 0.4871\n",
      "Epoch: 49 : Train Loss: 0.4371 | Valid loss: 0.4853\n",
      "Epoch: 50 : Train Loss: 0.4315 | Valid loss: 0.4734\n",
      "Epoch: 51 : Train Loss: 0.4262 | Valid loss: 0.4837\n",
      "Epoch: 52 : Train Loss: 0.4295 | Valid loss: 0.4671\n",
      "Epoch: 53 : Train Loss: 0.4148 | Valid loss: 0.4713\n",
      "Epoch: 54 : Train Loss: 0.4108 | Valid loss: 0.4804\n",
      "Epoch: 55 : Train Loss: 0.4030 | Valid loss: 0.5651\n",
      "Epoch: 56 : Train Loss: 0.3966 | Valid loss: 0.4743\n",
      "Epoch: 57 : Train Loss: 0.3926 | Valid loss: 0.4595\n",
      "Epoch: 58 : Train Loss: 0.3917 | Valid loss: 0.4487\n",
      "Epoch: 59 : Train Loss: 0.3803 | Valid loss: 0.4635\n",
      "Epoch: 60 : Train Loss: 0.3721 | Valid loss: 0.4321\n",
      "Epoch: 61 : Train Loss: 0.3681 | Valid loss: 0.4558\n",
      "Epoch: 62 : Train Loss: 0.3639 | Valid loss: 0.4392\n",
      "Epoch: 63 : Train Loss: 0.3615 | Valid loss: 0.8953\n",
      "Epoch: 64 : Train Loss: 0.3496 | Valid loss: 0.4323\n",
      "Epoch: 65 : Train Loss: 0.3481 | Valid loss: 0.4443\n",
      "Epoch: 66 : Train Loss: 0.3417 | Valid loss: 0.4074\n",
      "Epoch: 67 : Train Loss: 0.3369 | Valid loss: 0.4436\n",
      "Epoch: 68 : Train Loss: 0.3301 | Valid loss: 0.4119\n",
      "Epoch: 69 : Train Loss: 0.3242 | Valid loss: 0.4009\n",
      "Epoch: 70 : Train Loss: 0.3293 | Valid loss: 0.4084\n",
      "Epoch: 71 : Train Loss: 0.3088 | Valid loss: 0.4052\n",
      "Epoch: 72 : Train Loss: 0.3075 | Valid loss: 0.3860\n",
      "Epoch: 73 : Train Loss: 0.3000 | Valid loss: 0.3875\n",
      "Epoch: 74 : Train Loss: 0.2948 | Valid loss: 0.3737\n",
      "Epoch: 75 : Train Loss: 0.2882 | Valid loss: 0.3706\n",
      "Epoch: 76 : Train Loss: 0.2825 | Valid loss: 0.3855\n",
      "Epoch: 77 : Train Loss: 0.2810 | Valid loss: 0.5139\n",
      "Epoch: 78 : Train Loss: 0.2768 | Valid loss: 0.4142\n",
      "Epoch: 79 : Train Loss: 0.2656 | Valid loss: 0.3928\n",
      "Epoch: 80 : Train Loss: 0.2631 | Valid loss: 0.3549\n",
      "Epoch: 81 : Train Loss: 0.2647 | Valid loss: 0.3829\n",
      "Epoch: 82 : Train Loss: 0.2497 | Valid loss: 0.3729\n",
      "Epoch: 83 : Train Loss: 0.2522 | Valid loss: 0.3577\n",
      "Epoch: 84 : Train Loss: 0.2420 | Valid loss: 0.3642\n",
      "Epoch: 85 : Train Loss: 0.2438 | Valid loss: 0.3528\n",
      "Epoch: 86 : Train Loss: 0.2264 | Valid loss: 0.3346\n",
      "Epoch: 87 : Train Loss: 0.2226 | Valid loss: 0.3496\n",
      "Epoch: 88 : Train Loss: 0.2561 | Valid loss: 0.3295\n",
      "Epoch: 89 : Train Loss: 0.2139 | Valid loss: 0.3205\n",
      "Epoch: 90 : Train Loss: 0.2164 | Valid loss: 0.3227\n",
      "Epoch: 91 : Train Loss: 0.2015 | Valid loss: 0.3063\n",
      "Epoch: 92 : Train Loss: 0.1998 | Valid loss: 0.3091\n",
      "Epoch: 93 : Train Loss: 0.1955 | Valid loss: 0.3210\n",
      "Epoch: 94 : Train Loss: 0.1930 | Valid loss: 0.3079\n",
      "Epoch: 95 : Train Loss: 0.1842 | Valid loss: 0.2968\n",
      "Epoch: 96 : Train Loss: 0.1830 | Valid loss: 0.2928\n",
      "Epoch: 97 : Train Loss: 0.1824 | Valid loss: 0.2944\n",
      "Epoch: 98 : Train Loss: 0.1682 | Valid loss: 0.3000\n",
      "Epoch: 99 : Train Loss: 0.1657 | Valid loss: 0.2889\n"
     ]
    }
   ],
   "source": [
    "train_loss, valid_loss, preds_list, label_list = SGD(tr_X, te_X, \n",
    "                             n_epoches=100, \n",
    "                             lr=0.01, \n",
    "                             dropout=0.3, \n",
    "                             batch_size = 64, \n",
    "                             num_hidden_nodes = 50)"
   ]
  },
  {
   "cell_type": "code",
   "execution_count": 13,
   "metadata": {},
   "outputs": [
    {
     "data": {
      "image/png": "[encoded data removed]",
      "text/plain": [
       "<Figure size 360x360 with 1 Axes>"
      ]
     },
     "metadata": {
      "needs_background": "light"
     },
     "output_type": "display_data"
    }
   ],
   "source": [
    "epoch = [i for i in range(len(train_loss))]\n",
    "\n",
    "plt.figure(figsize=(5,5))\n",
    "plt.plot(epoch, train_loss)\n",
    "plt.plot(epoch, valid_loss)\n",
    "plt.show()"
   ]
  },
  {
   "cell_type": "code",
   "execution_count": 14,
   "metadata": {},
   "outputs": [
    {
     "name": "stdout",
     "output_type": "stream",
     "text": [
      "Accuracy: 0.8866931711880262\n",
      "Precision: 0.8947897034190481\n",
      "Recall: 0.8996953801507804\n",
      "F1-Score: 0.8965826274538862\n"
     ]
    }
   ],
   "source": [
    "Y_te = label_list\n",
    "preds_te = preds_list\n",
    "\n",
    "print('Accuracy:', accuracy_score(Y_te,preds_te))\n",
    "print('Precision:', precision_score(Y_te,preds_te,average='macro'))\n",
    "print('Recall:', recall_score(Y_te,preds_te,average='macro'))\n",
    "print('F1-Score:', f1_score(Y_te,preds_te,average='macro'))"
   ]
  },
  {
   "cell_type": "markdown",
   "metadata": {},
   "source": [
    "### Conclusion:\n",
    ">1. choose SGD rather than Adam.\n",
    ">2. using nn.CrossEntropyLoss() (nn.logSoftmax() + nn.NLLLoss()) for multi-class classification."
   ]
  },
  {
   "cell_type": "markdown",
   "metadata": {},
   "source": [
    "https://www.analyticsvidhya.com/blog/2020/01/first-text-classification-in-pytorch/"
   ]
  }
 ],
 "metadata": {
  "kernelspec": {
   "display_name": "Python 3",
   "language": "python",
   "name": "python3"
  },
  "language_info": {
   "codemirror_mode": {
    "name": "ipython",
    "version": 3
   },
   "file_extension": ".py",
   "mimetype": "text/x-python",
   "name": "python",
   "nbconvert_exporter": "python",
   "pygments_lexer": "ipython3",
   "version": "3.7.3"
  }
 },
 "nbformat": 4,
 "nbformat_minor": 2
}
