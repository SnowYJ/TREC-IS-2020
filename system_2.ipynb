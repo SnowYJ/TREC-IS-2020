{
 "cells": [
  {
   "cell_type": "markdown",
   "metadata": {},
   "source": [
    "# multi-class tweets classification"
   ]
  },
  {
   "cell_type": "markdown",
   "metadata": {},
   "source": [
    "## 1. pytorch - LSTM introduction"
   ]
  },
  {
   "cell_type": "markdown",
   "metadata": {},
   "source": [
    "<img src=\"image/pytorch_LSTM_1.png\" width=\"550\">\n",
    "\n",
    "### 1.1 LSTM architecture\n",
    "> **model = nn.LSTM(input_size, hidden_size, num_layers, bias, batch_first, dropout, bidirectional)**\n",
    "1. input_size: 每个单词的 embedding or one-hot encoding 的尺寸，例如：glove 300d。\n",
    "2. hidden_size: 隐含层神经元的个数，例如上图的n。\n",
    "3. num_layers: LSTM的层数，例如上图的层数为1。\n",
    "4. bias: default true。\n",
    "5. batch_first: \n",
    "6. dropout: 0-1\n",
    "7. bidirectional: true or false."
   ]
  },
  {
   "cell_type": "code",
   "execution_count": 1,
   "metadata": {},
   "outputs": [
    {
     "name": "stdout",
     "output_type": "stream",
     "text": [
      "torch.Size([12, 100])\n",
      "torch.Size([12, 3])\n",
      "torch.Size([12])\n",
      "torch.Size([12])\n"
     ]
    }
   ],
   "source": [
    "import torch\n",
    "import torch.nn as nn\n",
    "import torch.nn.functional as F\n",
    "import torch.optim as optim\n",
    "\n",
    "torch.manual_seed(1)\n",
    "\n",
    "lstm = nn.LSTM(100, 3, 2)  # word embedding size is 300, hidden layer size is 3, two LSTM layer. \n",
    "print(lstm.all_weights[0][0].shape)\n",
    "print(lstm.all_weights[0][1].shape)\n",
    "print(lstm.all_weights[0][2].shape)\n",
    "print(lstm.all_weights[0][3].shape)"
   ]
  },
  {
   "cell_type": "markdown",
   "metadata": {},
   "source": [
    "### 1.2 LSTM input and output\n",
    "><img src=\"image/pytorch_LSTM.png\" width=\"500\">\n",
    ">\n",
    ">**output, ($\\text{h}_n$, $\\text{c}_n$) = model(input, ($\\text{h}_0$, $\\text{c}_0$))**\n",
    ">\n",
    ">* input维度：(句子长度, batch_size（一次多少个句子）, input_size（每个单词向量的长度）) 。\n",
    ">* $\\text{h}_0, \\text{c}_0$维度：(num_layers * num_directions, batch, hidden_size)。例如，上图有w+1层，单向，hidden_size为每个LSTM结构内隐含层神经元个数。 \n"
   ]
  },
  {
   "cell_type": "code",
   "execution_count": 2,
   "metadata": {},
   "outputs": [
    {
     "name": "stdout",
     "output_type": "stream",
     "text": [
      "1. sentence length:  5  word embedding: torch.Size([1, 100])\n",
      "2. input is every word in sentence:  torch.Size([1, 1, 100])\n",
      "3. output size:  torch.Size([1, 1, 3])\n",
      "4. h_1 size:  torch.Size([2, 1, 3])\n",
      "5. c_1 size:  torch.Size([2, 1, 3])\n"
     ]
    }
   ],
   "source": [
    "inputs = [torch.randn(1, 100) for _ in range(5)] # In a sentence, 5 words, every words' length is 4.\n",
    "\n",
    "hidden = (torch.randn(2*1, 1, 3), torch.randn(2*1, 1, 3)) # h_0, c_0.\n",
    "\n",
    "for i in inputs:\n",
    "    out, hidden = lstm(i.view(1, 1, -1), hidden)\n",
    "\n",
    "print(\"1. sentence length: \",len(inputs),\" word embedding:\",inputs[0].shape)\n",
    "print(\"2. input is every word in sentence: \", i.view(1, 1, -1).shape)\n",
    "print(\"3. output size: \", out.shape)\n",
    "print(\"4. h_1 size: \", hidden[0].shape)\n",
    "print(\"5. c_1 size: \", hidden[1].shape)"
   ]
  },
  {
   "cell_type": "markdown",
   "metadata": {},
   "source": [
    "### 1.3 forward pass\n",
    ">**module(data) = module.forward(data)**\n",
    ">\n",
    "><img src=\"image/forward.png\" width=\"550\">\n",
    "\n",
    "### 1.4 handle input with variable length\n",
    ">* torch.nn.utils.rnn.pad_sequence()：把不等长的tensor数据, 补充成等长的tensor数据.\n",
    "* torch.nn.utils.rnn.pack_padded_sequence()：把等长的tensor根据所输入的参数压缩成实际的数据, 同时数据格式变成PackedSequence。\n",
    "* torch.nn.utils.rnn.pad_packed_sequence()：把上面所压缩成PackedSequence的数据还原成tensor类型, 并补成等长的数据。\n",
    "\n",
    "https://blog.csdn.net/kejizuiqianfang/article/details/100835528\n",
    "\n",
    "### 1.5 pytorch loss function for classification\n",
    ">\n",
    ">* nn.Softmax and nn.LogSoftmax: \n",
    "* nn.NLLLoss: negative log likelihood loss. \n",
    "* nn.CrossEntropy: the combination of nn.Softmax and nn.NLLLoss.\n",
    "* nn.BCELoss: *bianry* classification loss. "
   ]
  },
  {
   "cell_type": "markdown",
   "metadata": {},
   "source": [
    "## 2. bi-directional GRU for priority"
   ]
  },
  {
   "cell_type": "code",
   "execution_count": 3,
   "metadata": {},
   "outputs": [],
   "source": [
    "# load pre-processed dataset.\n",
    "import pandas as pd\n",
    "import json\n",
    "import torch   \n",
    "from torchtext import data \n",
    "import numpy as np\n",
    "import matplotlib.pyplot as plt\n",
    "from sklearn.metrics import accuracy_score, precision_score, recall_score, f1_score\n",
    "import random\n",
    "import os\n",
    "from torchtext.vocab import Vectors\n",
    "import torch.nn as nn\n",
    "import torch.optim as optim"
   ]
  },
  {
   "cell_type": "markdown",
   "metadata": {},
   "source": [
    "### 2.1 dataset processing in pytorch"
   ]
  },
  {
   "cell_type": "code",
   "execution_count": 4,
   "metadata": {},
   "outputs": [
    {
     "data": {
      "text/html": [
       "<div>\n",
       "<style scoped>\n",
       "    .dataframe tbody tr th:only-of-type {\n",
       "        vertical-align: middle;\n",
       "    }\n",
       "\n",
       "    .dataframe tbody tr th {\n",
       "        vertical-align: top;\n",
       "    }\n",
       "\n",
       "    .dataframe thead th {\n",
       "        text-align: right;\n",
       "    }\n",
       "</style>\n",
       "<table border=\"1\" class=\"dataframe\">\n",
       "  <thead>\n",
       "    <tr style=\"text-align: right;\">\n",
       "      <th></th>\n",
       "      <th>priority</th>\n",
       "      <th>content</th>\n",
       "    </tr>\n",
       "  </thead>\n",
       "  <tbody>\n",
       "    <tr>\n",
       "      <th>0</th>\n",
       "      <td>Medium</td>\n",
       "      <td>pagasa advisory red warning metro manila heavy...</td>\n",
       "    </tr>\n",
       "    <tr>\n",
       "      <th>1</th>\n",
       "      <td>Medium</td>\n",
       "      <td>pagasa advisory red warning metro manila heavy...</td>\n",
       "    </tr>\n",
       "    <tr>\n",
       "      <th>2</th>\n",
       "      <td>Medium</td>\n",
       "      <td>pagasa advisory red warning metro manila heavy...</td>\n",
       "    </tr>\n",
       "    <tr>\n",
       "      <th>3</th>\n",
       "      <td>Medium</td>\n",
       "      <td>pagasa advisory red warning metro manila heavy...</td>\n",
       "    </tr>\n",
       "    <tr>\n",
       "      <th>4</th>\n",
       "      <td>Medium</td>\n",
       "      <td>flood alert san marcelino taft ayala manila pa...</td>\n",
       "    </tr>\n",
       "  </tbody>\n",
       "</table>\n",
       "</div>"
      ],
      "text/plain": [
       "  priority                                            content\n",
       "0   Medium  pagasa advisory red warning metro manila heavy...\n",
       "1   Medium  pagasa advisory red warning metro manila heavy...\n",
       "2   Medium  pagasa advisory red warning metro manila heavy...\n",
       "3   Medium  pagasa advisory red warning metro manila heavy...\n",
       "4   Medium  flood alert san marcelino taft ayala manila pa..."
      ]
     },
     "execution_count": 4,
     "metadata": {},
     "output_type": "execute_result"
    }
   ],
   "source": [
    "# notice dataset is extremely unbalanced.\n",
    "dataset = pd.read_csv(\"pre-processed data/dataset_aug_priority.csv\", usecols=['content','priority'])\n",
    "\n",
    "dataset[:5]"
   ]
  },
  {
   "cell_type": "code",
   "execution_count": 5,
   "metadata": {},
   "outputs": [
    {
     "name": "stdout",
     "output_type": "stream",
     "text": [
      "{'priority': 'Medium', 'content': ['pagasa', 'advisory', 'red', 'warning', 'metro', 'manila', 'heavy', 'intense', 'rain', 'next', 'hr', 'flood', 'low', 'lie', 'area', 'near', 'river']}\n"
     ]
    }
   ],
   "source": [
    "torch.manual_seed(2020)\n",
    "\n",
    "# loading custom dataset\n",
    "TEXT = data.Field(tokenize=lambda x: x.split() ,batch_first=True, include_lengths=True)\n",
    "LABEL = data.LabelField(dtype = torch.float, batch_first=True)\n",
    "\n",
    "fields = [('priority', LABEL), ('content', TEXT)]\n",
    "\n",
    "dataset=data.TabularDataset(path = 'pre-processed data/dataset_aug_priority.csv',format = 'csv',fields = fields,skip_header = True)\n",
    "\n",
    "print(vars(dataset.examples[0]))"
   ]
  },
  {
   "cell_type": "code",
   "execution_count": 6,
   "metadata": {},
   "outputs": [
    {
     "name": "stdout",
     "output_type": "stream",
     "text": [
      "Size of TEXT vocabulary: 7994\n",
      "Size of LABEL vocabulary: 4\n",
      "Top words:  [('shoot', 3638), ('flood', 3344), ('school', 3198), ('people', 2834), ('after', 2709)]\n",
      "LABEL vocabulary:  defaultdict(None, {'Medium': 0, 'High': 1, 'Critical': 2, 'Unknown': 3})\n"
     ]
    }
   ],
   "source": [
    "tr_X, te_X = dataset.split(split_ratio=0.8, random_state = random.seed(2020))\n",
    "tr_x, val_x = tr_X.split(split_ratio=0.7, random_state = random.seed(2020))\n",
    "\n",
    "# load downloaded glove word embedding.\n",
    "cache = '.vector_cache'\n",
    "if not os.path.exists(cache): os.mkdir(cache)\n",
    "vectors = Vectors(name='./glove.840B.300d.txt', cache=cache)\n",
    "\n",
    "# create vocab.\n",
    "TEXT.build_vocab(tr_X, min_freq=3, vectors=vectors)\n",
    "LABEL.build_vocab(tr_X)\n",
    "\n",
    "print(\"Size of TEXT vocabulary:\",len(TEXT.vocab))\n",
    "\n",
    "print(\"Size of LABEL vocabulary:\",len(LABEL.vocab))\n",
    "\n",
    "print(\"Top words: \", TEXT.vocab.freqs.most_common(5))  \n",
    "\n",
    "# Word dictionary.\n",
    "print(\"LABEL vocabulary: \", LABEL.vocab.stoi)"
   ]
  },
  {
   "cell_type": "markdown",
   "metadata": {},
   "source": [
    "### 2.2 Architecture\n",
    "\n",
    "<img src=\"image/architecture.png\" width=\"400\">"
   ]
  },
  {
   "cell_type": "code",
   "execution_count": 7,
   "metadata": {},
   "outputs": [],
   "source": [
    "class RNN_classifier(nn.Module):\n",
    "    #define all the layers used in model\n",
    "    def __init__(self, vocab_size, embedding_dim, hidden_dim, output_dim, n_layers, bidirectional, dropout):\n",
    "        super().__init__()\n",
    "\n",
    "        # embedding layer\n",
    "        self.embedding = nn.Embedding(vocab_size, embedding_dim)\n",
    "\n",
    "        # bi-directional LSTM\n",
    "        self.lstm = nn.GRU(embedding_dim, \n",
    "                            hidden_dim, \n",
    "                            num_layers=n_layers, \n",
    "                            bidirectional=bidirectional, \n",
    "                            dropout=dropout,\n",
    "                            batch_first=True)\n",
    "\n",
    "        # dense layer\n",
    "        self.fc = nn.Linear(hidden_dim*2, 64)\n",
    "        \n",
    "        self.fc1 = nn.Linear(64, output_dim)\n",
    "\n",
    "        # don't need activation function if using nn.CrossEntropy\n",
    "    \n",
    "    def forward(self, text, text_lengths):\n",
    "        \n",
    "        # text word index.\n",
    "        embedded = self.embedding(text) # shape = [batch, length, word embedding]\n",
    "        \n",
    "        # packed sequence\n",
    "        packed_embedded = nn.utils.rnn.pack_padded_sequence(embedded, text_lengths,batch_first=True)\n",
    "\n",
    "        packed_output, hidden = self.lstm(packed_embedded) # GRU has two outputs, LSTM has three. eg. packed_output, (hidden, cell)\n",
    "        \n",
    "        # hidden shape [2, 64, num_hidden_nodes] if LSTM shape [1, 64, num_hidden_nodes]\n",
    "        # concat the final forward and backward hidden state (use hidden state, not output)\n",
    "        hidden = torch.cat((hidden[-2,:,:], hidden[-1,:,:]), dim = 1)\n",
    "        \n",
    "        #hidden = [batch size, hid dim * num directions]\n",
    "        hidden_outputs = self.fc(hidden)\n",
    "        \n",
    "        dense_outputs = self.fc1(F.relu(hidden_outputs))\n",
    "        \n",
    "        #Final activation function\n",
    "        # outputs=self.act(dense_outputs)\n",
    "        \n",
    "        return dense_outputs"
   ]
  },
  {
   "cell_type": "markdown",
   "metadata": {},
   "source": [
    "### 2.3 training and evaluate function"
   ]
  },
  {
   "cell_type": "code",
   "execution_count": 8,
   "metadata": {},
   "outputs": [],
   "source": [
    "def train(model, iterator, optimizer, criterion):\n",
    "    #initialize every epoch \n",
    "    epoch_loss = 0\n",
    "    epoch_acc = 0\n",
    "    \n",
    "    #set the model in training phase\n",
    "    model.train()  \n",
    "    \n",
    "    for batch in iterator:\n",
    "        \n",
    "        #resets the gradients after every batch\n",
    "        optimizer.zero_grad()   \n",
    "        \n",
    "        #retrieve text and no. of words\n",
    "        cont, cont_lengths = batch.content \n",
    "\n",
    "        # forward\n",
    "        predictions = model(cont, cont_lengths).squeeze()  \n",
    "\n",
    "        #compute the loss\n",
    "        loss = criterion(predictions, batch.priority.long())  \n",
    "        \n",
    "        # backward\n",
    "        loss.backward()       \n",
    "        \n",
    "        #update the weights\n",
    "        optimizer.step() \n",
    "        \n",
    "        #loss and accuracy\n",
    "        epoch_loss += loss.item()     \n",
    "        \n",
    "    return epoch_loss / len(iterator)"
   ]
  },
  {
   "cell_type": "code",
   "execution_count": 9,
   "metadata": {},
   "outputs": [],
   "source": [
    "def evaluate(model, iterator, criterion):\n",
    "    label_list, preds_list = [], []\n",
    "    # initialize every epoch\n",
    "    epoch_loss = 0\n",
    "    epoch_acc = 0\n",
    "\n",
    "    # deactivating dropout layers\n",
    "    model.eval()\n",
    "    \n",
    "    # deactivates autograd\n",
    "    with torch.no_grad():\n",
    "    \n",
    "        for batch in iterator:\n",
    "            \n",
    "            # retrieve text and length\n",
    "            cont, cont_lengths = batch.content \n",
    "\n",
    "            predictions = model(cont, cont_lengths).squeeze()\n",
    "            \n",
    "            # keep result\n",
    "            preds_list.extend(list(np.array(torch.max(predictions, 1)[1].numpy(), dtype=int)))\n",
    "            label_list.extend(list(np.array(batch.priority.numpy(), dtype=int)))\n",
    "\n",
    "            # compute loss and accuracy\n",
    "            loss = criterion(predictions, batch.priority.long())\n",
    "            \n",
    "            # train loss.\n",
    "            epoch_loss += loss.item()\n",
    "        \n",
    "    return epoch_loss / len(iterator), preds_list, label_list"
   ]
  },
  {
   "cell_type": "code",
   "execution_count": 10,
   "metadata": {},
   "outputs": [],
   "source": [
    "size_of_vocab = len(TEXT.vocab)\n",
    "\n",
    "\n",
    "def SGD(tr_x, val_x, n_epoches=100, lr = 0.001, dropout = 0.3, batch_size = 32, num_hidden_nodes = 32):\n",
    "    \n",
    "    train_loss_list, valid_loss_list = [], []\n",
    "    \n",
    "    embedding_dim = 300\n",
    "    num_output_nodes = 5\n",
    "    num_layers = 1 # depth\n",
    "    bidirection = True\n",
    "    \n",
    "    # GPU or CPU.\n",
    "    device = torch.device('cuda' if torch.cuda.is_available() else 'cpu') \n",
    "    \n",
    "    # Load an iterator\n",
    "    train_iterator, valid_iterator = data.BucketIterator.splits((tr_x, val_x), \n",
    "                                                                batch_size = batch_size,\n",
    "                                                                sort_key = lambda x: len(x.content),\n",
    "                                                                sort_within_batch=True,\n",
    "                                                                device=device)\n",
    "\n",
    "\n",
    "\n",
    "    # model print(model)\n",
    "    model = RNN_classifier(size_of_vocab, embedding_dim, \n",
    "                       num_hidden_nodes,num_output_nodes, \n",
    "                       num_layers, bidirectional = True, \n",
    "                       dropout = dropout)\n",
    "    \n",
    "    # pre-trained Glove.\n",
    "    pretrained_embeddings = TEXT.vocab.vectors\n",
    "    model.embedding.weight.data.copy_(pretrained_embeddings)\n",
    "    \n",
    "    # define optimizer and loss.\n",
    "    optimizer = optim.SGD(model.parameters(), lr=lr, weight_decay=1e-8)\n",
    "    criterion = nn.CrossEntropyLoss()\n",
    "    \n",
    "    # training\n",
    "    for epoch in range(n_epoches):\n",
    "\n",
    "        #train the model\n",
    "        train_loss = train(model, train_iterator, optimizer, criterion)\n",
    "\n",
    "        #evaluate the model\n",
    "        valid_loss, preds_list, label_list = evaluate(model, valid_iterator, criterion)\n",
    "        \n",
    "        train_loss_list.append(train_loss)\n",
    "        valid_loss_list.append(valid_loss)\n",
    "        \n",
    "        print(f\"Epoch: {epoch:d} : Train Loss: {train_loss:.4f} | Valid loss: {valid_loss:.4f}\")\n",
    "        \n",
    "        #if (len(valid_loss_list) >= 2):\n",
    "        #    if (valid_loss_list[-2] - valid_loss_list[-1]) < 0.001: break\n",
    "        \n",
    "    return train_loss_list, valid_loss_list, preds_list, label_list"
   ]
  },
  {
   "cell_type": "markdown",
   "metadata": {},
   "source": [
    "### 2.4 hyper-parameter choosing"
   ]
  },
  {
   "cell_type": "code",
   "execution_count": 11,
   "metadata": {
    "scrolled": false
   },
   "outputs": [],
   "source": [
    "# for hn in [10, 20, 40, 100]:\n",
    "#     for lr in [0.001, 0.01, 0.1]:\n",
    "#         print(\"hidden layer nodes: \", hn, \", learning rate: \", lr)\n",
    "#         train_loss, valid_loss = SGD(tr_x, val_x, \n",
    "#                                      n_epoches=50, lr=lr, \n",
    "#                                      dropout=0, batch_size = 64, \n",
    "#                                      num_hidden_nodes = hn)"
   ]
  },
  {
   "cell_type": "code",
   "execution_count": 18,
   "metadata": {
    "scrolled": true
   },
   "outputs": [
    {
     "name": "stdout",
     "output_type": "stream",
     "text": [
      "Epoch: 0 : Train Loss: 1.2409 | Valid loss: 1.1040\n",
      "Epoch: 1 : Train Loss: 1.0826 | Valid loss: 1.0720\n",
      "Epoch: 2 : Train Loss: 1.0636 | Valid loss: 1.0570\n",
      "Epoch: 3 : Train Loss: 1.0497 | Valid loss: 1.0419\n",
      "Epoch: 4 : Train Loss: 1.0327 | Valid loss: 1.0231\n",
      "Epoch: 5 : Train Loss: 1.0113 | Valid loss: 0.9993\n",
      "Epoch: 6 : Train Loss: 0.9876 | Valid loss: 0.9761\n",
      "Epoch: 7 : Train Loss: 0.9651 | Valid loss: 0.9539\n",
      "Epoch: 8 : Train Loss: 0.9453 | Valid loss: 0.9350\n",
      "Epoch: 9 : Train Loss: 0.9268 | Valid loss: 0.9206\n",
      "Epoch: 10 : Train Loss: 0.9100 | Valid loss: 0.9021\n",
      "Epoch: 11 : Train Loss: 0.8933 | Valid loss: 0.8879\n",
      "Epoch: 12 : Train Loss: 0.8772 | Valid loss: 0.8718\n",
      "Epoch: 13 : Train Loss: 0.8611 | Valid loss: 0.8535\n",
      "Epoch: 14 : Train Loss: 0.8449 | Valid loss: 0.8383\n",
      "Epoch: 15 : Train Loss: 0.8279 | Valid loss: 0.8228\n",
      "Epoch: 16 : Train Loss: 0.8116 | Valid loss: 0.8059\n",
      "Epoch: 17 : Train Loss: 0.7952 | Valid loss: 0.7905\n",
      "Epoch: 18 : Train Loss: 0.7780 | Valid loss: 0.7744\n",
      "Epoch: 19 : Train Loss: 0.7618 | Valid loss: 0.7599\n",
      "Epoch: 20 : Train Loss: 0.7457 | Valid loss: 0.7426\n",
      "Epoch: 21 : Train Loss: 0.7290 | Valid loss: 0.7282\n",
      "Epoch: 22 : Train Loss: 0.7135 | Valid loss: 0.7123\n",
      "Epoch: 23 : Train Loss: 0.6982 | Valid loss: 0.6969\n",
      "Epoch: 24 : Train Loss: 0.6819 | Valid loss: 0.6829\n",
      "Epoch: 25 : Train Loss: 0.6672 | Valid loss: 0.6692\n",
      "Epoch: 26 : Train Loss: 0.6529 | Valid loss: 0.6575\n",
      "Epoch: 27 : Train Loss: 0.6392 | Valid loss: 0.6433\n",
      "Epoch: 28 : Train Loss: 0.6258 | Valid loss: 0.6367\n",
      "Epoch: 29 : Train Loss: 0.6149 | Valid loss: 0.6196\n",
      "Epoch: 30 : Train Loss: 0.6017 | Valid loss: 0.6148\n",
      "Epoch: 31 : Train Loss: 0.5908 | Valid loss: 0.6054\n",
      "Epoch: 32 : Train Loss: 0.5785 | Valid loss: 0.5992\n",
      "Epoch: 33 : Train Loss: 0.5697 | Valid loss: 0.5785\n",
      "Epoch: 34 : Train Loss: 0.5605 | Valid loss: 0.5754\n",
      "Epoch: 35 : Train Loss: 0.5504 | Valid loss: 0.5637\n",
      "Epoch: 36 : Train Loss: 0.5409 | Valid loss: 0.5560\n",
      "Epoch: 37 : Train Loss: 0.5326 | Valid loss: 0.5570\n",
      "Epoch: 38 : Train Loss: 0.5242 | Valid loss: 0.5486\n",
      "Epoch: 39 : Train Loss: 0.5157 | Valid loss: 0.5363\n",
      "Epoch: 40 : Train Loss: 0.5075 | Valid loss: 0.5394\n",
      "Epoch: 41 : Train Loss: 0.5006 | Valid loss: 0.5286\n",
      "Epoch: 42 : Train Loss: 0.4928 | Valid loss: 0.5192\n",
      "Epoch: 43 : Train Loss: 0.4850 | Valid loss: 0.5267\n",
      "Epoch: 44 : Train Loss: 0.4799 | Valid loss: 0.5131\n",
      "Epoch: 45 : Train Loss: 0.4713 | Valid loss: 0.5156\n",
      "Epoch: 46 : Train Loss: 0.4661 | Valid loss: 0.4961\n",
      "Epoch: 47 : Train Loss: 0.4602 | Valid loss: 0.4924\n",
      "Epoch: 48 : Train Loss: 0.4522 | Valid loss: 0.4873\n",
      "Epoch: 49 : Train Loss: 0.4447 | Valid loss: 0.5261\n",
      "Epoch: 50 : Train Loss: 0.4370 | Valid loss: 0.4840\n",
      "Epoch: 51 : Train Loss: 0.4339 | Valid loss: 0.4831\n",
      "Epoch: 52 : Train Loss: 0.4279 | Valid loss: 0.4694\n",
      "Epoch: 53 : Train Loss: 0.4214 | Valid loss: 0.4796\n",
      "Epoch: 54 : Train Loss: 0.4142 | Valid loss: 0.5013\n",
      "Epoch: 55 : Train Loss: 0.4114 | Valid loss: 0.4569\n",
      "Epoch: 56 : Train Loss: 0.4031 | Valid loss: 0.4584\n",
      "Epoch: 57 : Train Loss: 0.3986 | Valid loss: 0.4716\n",
      "Epoch: 58 : Train Loss: 0.3913 | Valid loss: 0.4418\n",
      "Epoch: 59 : Train Loss: 0.3866 | Valid loss: 0.4654\n",
      "Epoch: 60 : Train Loss: 0.3786 | Valid loss: 0.4362\n",
      "Epoch: 61 : Train Loss: 0.3729 | Valid loss: 0.4312\n",
      "Epoch: 62 : Train Loss: 0.3670 | Valid loss: 0.4561\n",
      "Epoch: 63 : Train Loss: 0.3649 | Valid loss: 0.4577\n",
      "Epoch: 64 : Train Loss: 0.3549 | Valid loss: 0.4427\n",
      "Epoch: 65 : Train Loss: 0.3546 | Valid loss: 0.4295\n",
      "Epoch: 66 : Train Loss: 0.3458 | Valid loss: 0.4190\n",
      "Epoch: 67 : Train Loss: 0.3409 | Valid loss: 0.4437\n",
      "Epoch: 68 : Train Loss: 0.3343 | Valid loss: 0.4338\n",
      "Epoch: 69 : Train Loss: 0.3303 | Valid loss: 0.4013\n",
      "Epoch: 70 : Train Loss: 0.3249 | Valid loss: 0.3960\n",
      "Epoch: 71 : Train Loss: 0.3142 | Valid loss: 0.3996\n",
      "Epoch: 72 : Train Loss: 0.3160 | Valid loss: 0.3958\n",
      "Epoch: 73 : Train Loss: 0.3072 | Valid loss: 0.3901\n",
      "Epoch: 74 : Train Loss: 0.3039 | Valid loss: 0.3812\n",
      "Epoch: 75 : Train Loss: 0.2932 | Valid loss: 0.3846\n",
      "Epoch: 76 : Train Loss: 0.2924 | Valid loss: 0.3918\n",
      "Epoch: 77 : Train Loss: 0.2840 | Valid loss: 0.3812\n",
      "Epoch: 78 : Train Loss: 0.2832 | Valid loss: 0.4493\n",
      "Epoch: 79 : Train Loss: 0.2727 | Valid loss: 0.3754\n",
      "Epoch: 80 : Train Loss: 0.2761 | Valid loss: 0.3959\n",
      "Epoch: 81 : Train Loss: 0.2648 | Valid loss: 0.4167\n",
      "Epoch: 82 : Train Loss: 0.2619 | Valid loss: 0.3732\n",
      "Epoch: 83 : Train Loss: 0.2526 | Valid loss: 0.3458\n",
      "Epoch: 84 : Train Loss: 0.2495 | Valid loss: 0.3845\n",
      "Epoch: 85 : Train Loss: 0.2552 | Valid loss: 0.3883\n",
      "Epoch: 86 : Train Loss: 0.2369 | Valid loss: 0.3382\n",
      "Epoch: 87 : Train Loss: 0.2303 | Valid loss: 0.3383\n",
      "Epoch: 88 : Train Loss: 0.2365 | Valid loss: 0.3282\n",
      "Epoch: 89 : Train Loss: 0.2211 | Valid loss: 0.3264\n",
      "Epoch: 90 : Train Loss: 0.2247 | Valid loss: 0.3264\n",
      "Epoch: 91 : Train Loss: 0.2132 | Valid loss: 0.3177\n",
      "Epoch: 92 : Train Loss: 0.2054 | Valid loss: 0.3185\n",
      "Epoch: 93 : Train Loss: 0.2014 | Valid loss: 0.3534\n",
      "Epoch: 94 : Train Loss: 0.2018 | Valid loss: 0.3438\n",
      "Epoch: 95 : Train Loss: 0.1947 | Valid loss: 0.3088\n",
      "Epoch: 96 : Train Loss: 0.1912 | Valid loss: 0.3314\n",
      "Epoch: 97 : Train Loss: 0.1888 | Valid loss: 0.2935\n",
      "Epoch: 98 : Train Loss: 0.1808 | Valid loss: 0.3955\n",
      "Epoch: 99 : Train Loss: 0.1743 | Valid loss: 0.3523\n",
      "Epoch: 100 : Train Loss: 0.1816 | Valid loss: 0.2856\n",
      "Epoch: 101 : Train Loss: 0.1716 | Valid loss: 0.2817\n",
      "Epoch: 102 : Train Loss: 0.1601 | Valid loss: 0.3607\n",
      "Epoch: 103 : Train Loss: 0.1597 | Valid loss: 0.2717\n",
      "Epoch: 104 : Train Loss: 0.1572 | Valid loss: 0.2888\n",
      "Epoch: 105 : Train Loss: 0.1525 | Valid loss: 0.2661\n",
      "Epoch: 106 : Train Loss: 0.1509 | Valid loss: 0.2661\n",
      "Epoch: 107 : Train Loss: 0.1409 | Valid loss: 0.2637\n",
      "Epoch: 108 : Train Loss: 0.1395 | Valid loss: 0.4651\n",
      "Epoch: 109 : Train Loss: 0.1395 | Valid loss: 0.2715\n",
      "Epoch: 110 : Train Loss: 0.1505 | Valid loss: 0.2727\n",
      "Epoch: 111 : Train Loss: 0.1292 | Valid loss: 0.2503\n",
      "Epoch: 112 : Train Loss: 0.1265 | Valid loss: 0.2535\n",
      "Epoch: 113 : Train Loss: 0.1218 | Valid loss: 0.2898\n",
      "Epoch: 114 : Train Loss: 0.1207 | Valid loss: 0.2468\n",
      "Epoch: 115 : Train Loss: 0.1178 | Valid loss: 0.2453\n",
      "Epoch: 116 : Train Loss: 0.1096 | Valid loss: 0.2394\n",
      "Epoch: 117 : Train Loss: 0.1112 | Valid loss: 0.2560\n",
      "Epoch: 118 : Train Loss: 0.1054 | Valid loss: 0.2406\n",
      "Epoch: 119 : Train Loss: 0.1048 | Valid loss: 0.2697\n",
      "Epoch: 120 : Train Loss: 0.1192 | Valid loss: 0.2504\n",
      "Epoch: 121 : Train Loss: 0.1027 | Valid loss: 0.3743\n",
      "Epoch: 122 : Train Loss: 0.0952 | Valid loss: 0.2264\n",
      "Epoch: 123 : Train Loss: 0.0968 | Valid loss: 0.2295\n",
      "Epoch: 124 : Train Loss: 0.0934 | Valid loss: 0.2404\n",
      "Epoch: 125 : Train Loss: 0.1063 | Valid loss: 0.2876\n",
      "Epoch: 126 : Train Loss: 0.0905 | Valid loss: 0.2502\n",
      "Epoch: 127 : Train Loss: 0.0867 | Valid loss: 0.2288\n",
      "Epoch: 128 : Train Loss: 0.0850 | Valid loss: 0.2644\n",
      "Epoch: 129 : Train Loss: 0.0810 | Valid loss: 0.2239\n",
      "Epoch: 130 : Train Loss: 0.0893 | Valid loss: 0.2184\n",
      "Epoch: 131 : Train Loss: 0.0763 | Valid loss: 0.2227\n",
      "Epoch: 132 : Train Loss: 0.0818 | Valid loss: 0.2203\n",
      "Epoch: 133 : Train Loss: 0.0889 | Valid loss: 0.2198\n",
      "Epoch: 134 : Train Loss: 0.0738 | Valid loss: 0.2238\n",
      "Epoch: 135 : Train Loss: 0.0747 | Valid loss: 0.2291\n",
      "Epoch: 136 : Train Loss: 0.0690 | Valid loss: 0.2226\n",
      "Epoch: 137 : Train Loss: 0.0678 | Valid loss: 0.2204\n",
      "Epoch: 138 : Train Loss: 0.0721 | Valid loss: 0.2121\n",
      "Epoch: 139 : Train Loss: 0.0955 | Valid loss: 0.2143\n",
      "Epoch: 140 : Train Loss: 0.0660 | Valid loss: 0.2257\n",
      "Epoch: 141 : Train Loss: 0.0645 | Valid loss: 0.2329\n",
      "Epoch: 142 : Train Loss: 0.0649 | Valid loss: 0.2441\n",
      "Epoch: 143 : Train Loss: 0.0612 | Valid loss: 0.2208\n",
      "Epoch: 144 : Train Loss: 0.0614 | Valid loss: 0.2102\n",
      "Epoch: 145 : Train Loss: 0.0602 | Valid loss: 0.2348\n",
      "Epoch: 146 : Train Loss: 0.0584 | Valid loss: 0.2094\n",
      "Epoch: 147 : Train Loss: 0.0576 | Valid loss: 0.2248\n",
      "Epoch: 148 : Train Loss: 0.0611 | Valid loss: 0.2499\n",
      "Epoch: 149 : Train Loss: 0.0589 | Valid loss: 0.2137\n",
      "Epoch: 150 : Train Loss: 0.0560 | Valid loss: 0.2111\n",
      "Epoch: 151 : Train Loss: 0.0562 | Valid loss: 0.2589\n",
      "Epoch: 152 : Train Loss: 0.0522 | Valid loss: 0.2373\n",
      "Epoch: 153 : Train Loss: 0.0573 | Valid loss: 0.2087\n",
      "Epoch: 154 : Train Loss: 0.0667 | Valid loss: 0.2398\n",
      "Epoch: 155 : Train Loss: 0.0546 | Valid loss: 0.2111\n",
      "Epoch: 156 : Train Loss: 0.0514 | Valid loss: 0.2139\n"
     ]
    },
    {
     "name": "stdout",
     "output_type": "stream",
     "text": [
      "Epoch: 157 : Train Loss: 0.0535 | Valid loss: 0.2320\n",
      "Epoch: 158 : Train Loss: 0.0506 | Valid loss: 0.2145\n",
      "Epoch: 159 : Train Loss: 0.0797 | Valid loss: 0.2174\n",
      "Epoch: 160 : Train Loss: 0.0509 | Valid loss: 0.2162\n",
      "Epoch: 161 : Train Loss: 0.0498 | Valid loss: 0.2181\n",
      "Epoch: 162 : Train Loss: 0.0489 | Valid loss: 0.2223\n",
      "Epoch: 163 : Train Loss: 0.0670 | Valid loss: 0.2138\n",
      "Epoch: 164 : Train Loss: 0.0477 | Valid loss: 0.2137\n",
      "Epoch: 165 : Train Loss: 0.0466 | Valid loss: 0.2189\n",
      "Epoch: 166 : Train Loss: 0.0463 | Valid loss: 0.2714\n",
      "Epoch: 167 : Train Loss: 0.0474 | Valid loss: 0.2130\n",
      "Epoch: 168 : Train Loss: 0.0470 | Valid loss: 0.2303\n",
      "Epoch: 169 : Train Loss: 0.0470 | Valid loss: 0.2114\n",
      "Epoch: 170 : Train Loss: 0.0455 | Valid loss: 0.2214\n",
      "Epoch: 171 : Train Loss: 0.0537 | Valid loss: 0.2143\n",
      "Epoch: 172 : Train Loss: 0.0475 | Valid loss: 0.2241\n",
      "Epoch: 173 : Train Loss: 0.0447 | Valid loss: 0.2119\n",
      "Epoch: 174 : Train Loss: 0.0449 | Valid loss: 0.2847\n",
      "Epoch: 175 : Train Loss: 0.0459 | Valid loss: 0.2120\n",
      "Epoch: 176 : Train Loss: 0.0441 | Valid loss: 0.2103\n",
      "Epoch: 177 : Train Loss: 0.0444 | Valid loss: 0.2375\n",
      "Epoch: 178 : Train Loss: 0.0426 | Valid loss: 0.2231\n",
      "Epoch: 179 : Train Loss: 0.0436 | Valid loss: 0.2143\n",
      "Epoch: 180 : Train Loss: 0.0434 | Valid loss: 0.2266\n",
      "Epoch: 181 : Train Loss: 0.0686 | Valid loss: 0.2439\n",
      "Epoch: 182 : Train Loss: 0.0435 | Valid loss: 0.2193\n",
      "Epoch: 183 : Train Loss: 0.0418 | Valid loss: 0.2129\n",
      "Epoch: 184 : Train Loss: 0.0426 | Valid loss: 0.2097\n",
      "Epoch: 185 : Train Loss: 0.0408 | Valid loss: 0.2503\n",
      "Epoch: 186 : Train Loss: 0.0413 | Valid loss: 0.2372\n",
      "Epoch: 187 : Train Loss: 0.0401 | Valid loss: 0.2234\n",
      "Epoch: 188 : Train Loss: 0.0405 | Valid loss: 0.2191\n",
      "Epoch: 189 : Train Loss: 0.0406 | Valid loss: 0.2260\n",
      "Epoch: 190 : Train Loss: 0.0895 | Valid loss: 0.5523\n",
      "Epoch: 191 : Train Loss: 0.0429 | Valid loss: 0.2158\n",
      "Epoch: 192 : Train Loss: 0.0410 | Valid loss: 0.2316\n",
      "Epoch: 193 : Train Loss: 0.0417 | Valid loss: 0.2133\n",
      "Epoch: 194 : Train Loss: 0.0394 | Valid loss: 0.2176\n",
      "Epoch: 195 : Train Loss: 0.0402 | Valid loss: 0.2182\n",
      "Epoch: 196 : Train Loss: 0.0397 | Valid loss: 0.2146\n",
      "Epoch: 197 : Train Loss: 0.0379 | Valid loss: 0.2306\n",
      "Epoch: 198 : Train Loss: 0.0396 | Valid loss: 0.2217\n",
      "Epoch: 199 : Train Loss: 0.0395 | Valid loss: 0.2152\n"
     ]
    }
   ],
   "source": [
    "train_loss, valid_loss, preds_list, label_list = SGD(tr_X, te_X, \n",
    "                             n_epoches=200, \n",
    "                             lr=0.007, \n",
    "                             dropout=0.2, \n",
    "                             batch_size = 64, \n",
    "                             num_hidden_nodes = 50)"
   ]
  },
  {
   "cell_type": "markdown",
   "metadata": {},
   "source": [
    "### 2.5 Result:"
   ]
  },
  {
   "cell_type": "code",
   "execution_count": 19,
   "metadata": {},
   "outputs": [
    {
     "data": {
      "image/png": "[encoded data removed]",
      "text/plain": [
       "<Figure size 360x360 with 1 Axes>"
      ]
     },
     "metadata": {
      "needs_background": "light"
     },
     "output_type": "display_data"
    }
   ],
   "source": [
    "epoch = [i for i in range(len(train_loss))]\n",
    "\n",
    "plt.figure(figsize=(5,5))\n",
    "plt.plot(epoch, train_loss)\n",
    "plt.plot(epoch, valid_loss)\n",
    "plt.show()"
   ]
  },
  {
   "cell_type": "code",
   "execution_count": 20,
   "metadata": {},
   "outputs": [
    {
     "name": "stdout",
     "output_type": "stream",
     "text": [
      "Accuracy: 0.9379092609915809\n",
      "Precision: 0.9408597034355329\n",
      "Recall: 0.9409344702808645\n",
      "F1-Score: 0.9408604905562413\n"
     ]
    }
   ],
   "source": [
    "Y_te = label_list\n",
    "preds_te = preds_list\n",
    "\n",
    "print('Accuracy:', accuracy_score(Y_te,preds_te))\n",
    "print('Precision:', precision_score(Y_te,preds_te,average='macro'))\n",
    "print('Recall:', recall_score(Y_te,preds_te,average='macro'))\n",
    "print('F1-Score:', f1_score(Y_te,preds_te,average='macro'))"
   ]
  },
  {
   "cell_type": "markdown",
   "metadata": {},
   "source": [
    "### Conclusion:\n",
    ">1. choose SGD rather than Adam.\n",
    ">2. using nn.CrossEntropyLoss() (nn.logSoftmax() + nn.NLLLoss()) for multi-class classification.\n",
    "\n",
    "tutorial: https://www.analyticsvidhya.com/blog/2020/01/first-text-classification-in-pytorch/"
   ]
  },
  {
   "cell_type": "code",
   "execution_count": null,
   "metadata": {},
   "outputs": [],
   "source": []
  }
 ],
 "metadata": {
  "kernelspec": {
   "display_name": "Python 3",
   "language": "python",
   "name": "python3"
  },
  "language_info": {
   "codemirror_mode": {
    "name": "ipython",
    "version": 3
   },
   "file_extension": ".py",
   "mimetype": "text/x-python",
   "name": "python",
   "nbconvert_exporter": "python",
   "pygments_lexer": "ipython3",
   "version": "3.7.3"
  }
 },
 "nbformat": 4,
 "nbformat_minor": 2
}
